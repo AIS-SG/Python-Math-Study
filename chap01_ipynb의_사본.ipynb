{
  "nbformat": 4,
  "nbformat_minor": 0,
  "metadata": {
    "kernelspec": {
      "display_name": "Python 3",
      "language": "python",
      "name": "python3"
    },
    "language_info": {
      "codemirror_mode": {
        "name": "ipython",
        "version": 3
      },
      "file_extension": ".py",
      "mimetype": "text/x-python",
      "name": "python",
      "nbconvert_exporter": "python",
      "pygments_lexer": "ipython3",
      "version": "3.7.4"
    },
    "toc": {
      "nav_menu": {},
      "number_sections": true,
      "sideBar": true,
      "skip_h1_title": false,
      "toc_cell": false,
      "toc_position": {},
      "toc_section_display": "block",
      "toc_window_display": false
    },
    "colab": {
      "name": "chap01.ipynb의 사본",
      "provenance": [],
      "include_colab_link": true
    }
  },
  "cells": [
    {
      "cell_type": "markdown",
      "metadata": {
        "id": "view-in-github",
        "colab_type": "text"
      },
      "source": [
        "<a href=\"https://colab.research.google.com/github/Twilight995/Python-Math-Study/blob/master/chap01_ipynb%EC%9D%98_%EC%82%AC%EB%B3%B8.ipynb\" target=\"_parent\"><img src=\"https://colab.research.google.com/assets/colab-badge.svg\" alt=\"Open In Colab\"/></a>"
      ]
    },
    {
      "cell_type": "markdown",
      "metadata": {
        "id": "Dqlxg42Z_oLc"
      },
      "source": [
        "# 데이터에 관하여"
      ]
    },
    {
      "cell_type": "markdown",
      "metadata": {
        "id": "L5NzRPbxKrdE"
      },
      "source": [
        "- csv 파일에 저장된 ch1_sport_test.csv라는 체력 테스트 결과를 예로 들어 설명한다. 먼저 csv파일을 다룰 수 있어야한다. 이때 사용하는 라이브러리는 Pandas이다. Pandas란 통계분석에서 표 데이터를 처리하는데 특화된 중요한 라이브러리 중 하나이다."
      ]
    },
    {
      "cell_type": "code",
      "metadata": {
        "ExecuteTime": {
          "end_time": "2018-08-03T08:26:15.690793Z",
          "start_time": "2018-08-03T08:26:15.507201Z"
        },
        "id": "lVA2XMQm_oLe"
      },
      "source": [
        "# Pandas를 pd라는 이름으로 임포트한다\n",
        "import pandas as pd"
      ],
      "execution_count": null,
      "outputs": []
    },
    {
      "cell_type": "markdown",
      "metadata": {
        "id": "WK8ANttt_vTO"
      },
      "source": [
        "- pandas의 read_csv 함수를 사용해 csv파일을 일거들일 수 있다. 이 함수는 읽어 들인 데이터를 pandas의 DataFrame이라는 데이터 구조로 반환한다."
      ]
    },
    {
      "cell_type": "code",
      "metadata": {
        "ExecuteTime": {
          "end_time": "2018-08-03T08:26:15.708374Z",
          "start_time": "2018-08-03T08:26:15.691921Z"
        },
        "colab": {
          "base_uri": "https://localhost:8080/",
          "height": 390
        },
        "id": "J_lAmVAP_oLe",
        "outputId": "2f443b54-9ad4-4b7b-b1a1-7217b795871f"
      },
      "source": [
        "# 학생번호를 인덱스로 csv 파일을 읽어들여, 변수 df에 저장\n",
        "import pandas as pd\n",
        "df = pd.read_csv('ch1_sport_test.csv',\n",
        "                 index_col='학생번호')\n",
        "# 변수 df를 표시\n",
        "df"
      ],
      "execution_count": null,
      "outputs": [
        {
          "output_type": "execute_result",
          "data": {
            "text/html": [
              "<div>\n",
              "<style scoped>\n",
              "    .dataframe tbody tr th:only-of-type {\n",
              "        vertical-align: middle;\n",
              "    }\n",
              "\n",
              "    .dataframe tbody tr th {\n",
              "        vertical-align: top;\n",
              "    }\n",
              "\n",
              "    .dataframe thead th {\n",
              "        text-align: right;\n",
              "    }\n",
              "</style>\n",
              "<table border=\"1\" class=\"dataframe\">\n",
              "  <thead>\n",
              "    <tr style=\"text-align: right;\">\n",
              "      <th></th>\n",
              "      <th>학년</th>\n",
              "      <th>악력</th>\n",
              "      <th>윗몸일으키기</th>\n",
              "      <th>점수</th>\n",
              "      <th>순위</th>\n",
              "    </tr>\n",
              "    <tr>\n",
              "      <th>학생번호</th>\n",
              "      <th></th>\n",
              "      <th></th>\n",
              "      <th></th>\n",
              "      <th></th>\n",
              "      <th></th>\n",
              "    </tr>\n",
              "  </thead>\n",
              "  <tbody>\n",
              "    <tr>\n",
              "      <th>1</th>\n",
              "      <td>1</td>\n",
              "      <td>40.2</td>\n",
              "      <td>34</td>\n",
              "      <td>15</td>\n",
              "      <td>4</td>\n",
              "    </tr>\n",
              "    <tr>\n",
              "      <th>2</th>\n",
              "      <td>1</td>\n",
              "      <td>34.2</td>\n",
              "      <td>14</td>\n",
              "      <td>7</td>\n",
              "      <td>10</td>\n",
              "    </tr>\n",
              "    <tr>\n",
              "      <th>3</th>\n",
              "      <td>1</td>\n",
              "      <td>28.8</td>\n",
              "      <td>27</td>\n",
              "      <td>11</td>\n",
              "      <td>7</td>\n",
              "    </tr>\n",
              "    <tr>\n",
              "      <th>4</th>\n",
              "      <td>2</td>\n",
              "      <td>39.0</td>\n",
              "      <td>27</td>\n",
              "      <td>14</td>\n",
              "      <td>5</td>\n",
              "    </tr>\n",
              "    <tr>\n",
              "      <th>5</th>\n",
              "      <td>2</td>\n",
              "      <td>50.9</td>\n",
              "      <td>32</td>\n",
              "      <td>17</td>\n",
              "      <td>2</td>\n",
              "    </tr>\n",
              "    <tr>\n",
              "      <th>6</th>\n",
              "      <td>2</td>\n",
              "      <td>36.5</td>\n",
              "      <td>20</td>\n",
              "      <td>9</td>\n",
              "      <td>9</td>\n",
              "    </tr>\n",
              "    <tr>\n",
              "      <th>7</th>\n",
              "      <td>3</td>\n",
              "      <td>36.6</td>\n",
              "      <td>31</td>\n",
              "      <td>13</td>\n",
              "      <td>6</td>\n",
              "    </tr>\n",
              "    <tr>\n",
              "      <th>8</th>\n",
              "      <td>3</td>\n",
              "      <td>49.2</td>\n",
              "      <td>37</td>\n",
              "      <td>18</td>\n",
              "      <td>1</td>\n",
              "    </tr>\n",
              "    <tr>\n",
              "      <th>9</th>\n",
              "      <td>3</td>\n",
              "      <td>26.0</td>\n",
              "      <td>28</td>\n",
              "      <td>10</td>\n",
              "      <td>8</td>\n",
              "    </tr>\n",
              "    <tr>\n",
              "      <th>10</th>\n",
              "      <td>3</td>\n",
              "      <td>47.4</td>\n",
              "      <td>32</td>\n",
              "      <td>16</td>\n",
              "      <td>3</td>\n",
              "    </tr>\n",
              "  </tbody>\n",
              "</table>\n",
              "</div>"
            ],
            "text/plain": [
              "      학년    악력  윗몸일으키기  점수  순위\n",
              "학생번호                          \n",
              "1      1  40.2      34  15   4\n",
              "2      1  34.2      14   7  10\n",
              "3      1  28.8      27  11   7\n",
              "4      2  39.0      27  14   5\n",
              "5      2  50.9      32  17   2\n",
              "6      2  36.5      20   9   9\n",
              "7      3  36.6      31  13   6\n",
              "8      3  49.2      37  18   1\n",
              "9      3  26.0      28  10   8\n",
              "10     3  47.4      32  16   3"
            ]
          },
          "metadata": {
            "tags": []
          },
          "execution_count": 7
        }
      ]
    },
    {
      "cell_type": "markdown",
      "metadata": {
        "id": "8RyJpuLlKXs4"
      },
      "source": [
        "- DataFrame에서 악력에 대한 열을 추출한다."
      ]
    },
    {
      "cell_type": "code",
      "metadata": {
        "ExecuteTime": {
          "end_time": "2018-08-03T08:26:15.712890Z",
          "start_time": "2018-08-03T08:26:15.709417Z"
        },
        "id": "9TZ4U4gw_oLf",
        "outputId": "1de7b356-dad2-4cb1-f7a5-5d322803839a"
      },
      "source": [
        "df['악력']"
      ],
      "execution_count": null,
      "outputs": [
        {
          "output_type": "execute_result",
          "data": {
            "text/plain": [
              "학생번호\n",
              "1     40.2\n",
              "2     34.2\n",
              "3     28.8\n",
              "4     39.0\n",
              "5     50.9\n",
              "6     36.5\n",
              "7     36.6\n",
              "8     49.2\n",
              "9     26.0\n",
              "10    47.4\n",
              "Name: 악력, dtype: float64"
            ]
          },
          "metadata": {
            "tags": []
          },
          "execution_count": 3
        }
      ]
    },
    {
      "cell_type": "markdown",
      "metadata": {
        "id": "tJ0nUQ-gLOZc"
      },
      "source": [
        "## 데이터의 크기\r\n",
        "- 데이터가 주어지면 제일 먼저 확인하는 것이 데이터의 크기이다. DataFrame의 크기는 shape라는 인스턴트 변수를 참조하면 알 수 있다."
      ]
    },
    {
      "cell_type": "code",
      "metadata": {
        "ExecuteTime": {
          "end_time": "2018-08-03T08:26:15.716635Z",
          "start_time": "2018-08-03T08:26:15.714019Z"
        },
        "id": "gBnljCVX_oLf",
        "outputId": "f1f01caa-8963-4eed-fa52-05a553f3682c"
      },
      "source": [
        "df.shape"
      ],
      "execution_count": null,
      "outputs": [
        {
          "output_type": "execute_result",
          "data": {
            "text/plain": [
              "(10, 5)"
            ]
          },
          "metadata": {
            "tags": []
          },
          "execution_count": 5
        }
      ]
    },
    {
      "cell_type": "markdown",
      "metadata": {
        "id": "fYr5XFTCLh5M"
      },
      "source": [
        "- 일반적으로 shape를 참조하면 2개의 수가 출력된다. 첫번재가 데이터에 대한 수이고 두번째가 변수에 대한 수이다. 데이터베이스라면 레코드수, 칼럼수가 되는것이다. 여기서는 데이터의 수가 10, 변수의 수가 5임을 알 수 있다."
      ]
    },
    {
      "cell_type": "markdown",
      "metadata": {
        "id": "zmfhn824M40F"
      },
      "source": [
        "## 변수의 종류\r\n",
        "- 변수는 그 성질에 따라 다양하게 분류할 수 있다.\r\n",
        "### 질적 변수와 양적 변수\r\n",
        "- 변수는 크게 질적 변수와 양적 변수 두 가지로 분류 할 수 있다. 질적 변수는 설문조사에서 만족도 등을 묻는 질문에 대해"
      ]
    },
    {
      "cell_type": "code",
      "metadata": {
        "id": "6_UgDLrz_oLg"
      },
      "source": [
        "1. 매우좋음   2. 좋음     3. 보통     4.나쁨    5.매우나쁨"
      ],
      "execution_count": null,
      "outputs": []
    },
    {
      "cell_type": "markdown",
      "metadata": {
        "id": "ddgQHoSzNQqO"
      },
      "source": [
        "-과 같이 선택이 필요한 변수나 혈액형을 조사할때"
      ]
    },
    {
      "cell_type": "code",
      "metadata": {
        "id": "nAB6-4j8NVRF"
      },
      "source": [
        "A형     B형     O형     AB형"
      ],
      "execution_count": null,
      "outputs": []
    },
    {
      "cell_type": "markdown",
      "metadata": {
        "id": "OghcnqI0NaAS"
      },
      "source": [
        "- 같이 종류를 구별하기 위한 변수를 말한다. 질적 변수중에서 남성과 여성, 흡연 여부 등 값이 2개뿐인 질적 변수를 2진변수라 부르기도 한다."
      ]
    },
    {
      "cell_type": "markdown",
      "metadata": {
        "id": "nfTOEqSiNmD2"
      },
      "source": [
        "- 한편, 시험점수나 신장과 같이 양을 표현하는 변수를 양적 변수라고 한다.\r\n",
        "-- 여기서 주의해야할 점은 남성이나 여성은 질적 변수이지만 데이터상에서 쉽게 처리하기 위해 남성은0, 여성은 1과같이 숫자 데이터로 표시하는 경우가 있다. 즉, 수치변수라고해서 전부 양적 변수는 아니다."
      ]
    },
    {
      "cell_type": "markdown",
      "metadata": {
        "id": "kZoGRK4yN1uc"
      },
      "source": [
        "###척도 수준\r\n",
        "- 질적 변수는 **명의 척도**와 **순서척도**, 양적변수는 **간격척도**와 **비례척도**로 세분화된다. 이 네가지를 **척도 수준**이라고 한다."
      ]
    },
    {
      "cell_type": "markdown",
      "metadata": {
        "id": "68eX6jhMOh0P"
      },
      "source": [
        "- 명의 척도\r\n",
        "-- 명의적도는 단순히 분류하기위한 변수로 학생번호나 전화번호, 성멸등이 있다. 변수의 동일성 여부에만 의미를 두는 것 이다.\r\n",
        "\r\n",
        "\r\n",
        "- 순서 척도\r\n",
        "-- 순서관계나 대소관계에 의미있는 변수로 성적순위, 설문조사의 만족도등이 있다. 대소관계에 의미가 있지만 4등과 8등의 차이가 8등과 12등의 차이와 동일하다고 비교할 수는 없고, 4등은 8등의 2배라고 주장할 수도 없다.\r\n",
        "\r\n",
        "\r\n",
        "- 간격 척도\r\n",
        "-- 대소관게와 함께 그 차이에도 의미를 두는 변수로, 연도나 온도가 있다. 차이에 해당하는 수치도 의미가 있다. 하지만 온도 60도는 30도보다 2배 높은 온도라고 할 수 없다.\r\n",
        "\r\n",
        "\r\n",
        "- 대소관계, 차이, 비 모두에 의미가 있는 변수로, 길이나 무게 등이 있다. 100cm는 50cm의 2배라는 것도 의미가 있다.\r\n",
        "\r\n",
        "\r\n",
        "- 간격 척도와 비례 척도는 비슷하지만 구별 할 수 있는 방법이 있다.\r\n",
        "-- 0이 '없음'을 표시하는가 이다. 0cm는 없음을 의미하지만 온도 0도는 없음을 뜻하는게 아니다.\r\n",
        "\r\n",
        "\r\n",
        "## 이산형 변수와 연속형 변수\r\n",
        "- 변수를 질적, 양적 변수가 아닌 이산형, 연속형 변수로 나누어 분류할 수 있다.\r\n",
        "\r\n",
        "\r\n",
        "-- **이산형 변수**는 0, 1, 2같이 하나하나의 값을 취하는 변수이다. 서로 인접한 숫자 사이에 값이 존재하지 않는다. 주사위의 눈은 1, 2, 3, 4, 5, 6이라는 값을 취하고 1.3이라는 어중간한 값을 취하지 않는다.그러무로 이산형 변수로 분류된다.  학교를 결석한 횟수나 결석한 학생 수와 같은 계수도 이산형 변수이다.\r\n",
        "\r\n",
        "\r\n",
        "-- **연속형 변수**는 연속적인 값을 취할 수 있는 변수로 어떤 두 숫자 사이에도 반드시 숫자가 존재한다. 길이나 무게, 시간 등은 대표적인 연속형 변수이다. 키를 소수점 첫 번째 자리까지의 정밀도로 측정하면, 170.3cm와 170.4cm 사이에는 숫자가 존재하지 않아 엄밀하게 말하면 이산형 변수로 분류된다. 이왕같이 측정 정밀도의 문제로 이산형이 되는 변수는 상당수 연속형 변수로 취급한다."
      ]
    },
    {
      "cell_type": "markdown",
      "metadata": {
        "id": "2Zz1BabCRWZF"
      },
      "source": [
        "## 정리\r\n",
        "- 데이터의 크기는 Pandas를 이용하면 쉽게 알 수 있지만 변수의 분류는 변수의 성질을 파악하는 지식에 의존하므로 분석가의 판단이 필요하다. 변수를 분류하는 일은 꽤 어렵지만 앞으로 점점 익숙해질 것이다."
      ]
    }
  ]
}