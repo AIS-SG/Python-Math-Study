{
  "nbformat": 4,
  "nbformat_minor": 0,
  "metadata": {
    "kernelspec": {
      "display_name": "Python 3",
      "language": "python",
      "name": "python3"
    },
    "language_info": {
      "codemirror_mode": {
        "name": "ipython",
        "version": 3
      },
      "file_extension": ".py",
      "mimetype": "text/x-python",
      "name": "python",
      "nbconvert_exporter": "python",
      "pygments_lexer": "ipython3",
      "version": "3.6.12"
    },
    "colab": {
      "name": "자료형-Copy1.ipynb",
      "provenance": [],
      "include_colab_link": true
    }
  },
  "cells": [
    {
      "cell_type": "markdown",
      "metadata": {
        "id": "view-in-github",
        "colab_type": "text"
      },
      "source": [
        "<a href=\"https://colab.research.google.com/github/AIS-SG/Python-Math-Study/blob/master/%EC%9E%90%EB%A3%8C%ED%98%95_Copy1.ipynb\" target=\"_parent\"><img src=\"https://colab.research.google.com/assets/colab-badge.svg\" alt=\"Open In Colab\"/></a>"
      ]
    },
    {
      "cell_type": "markdown",
      "metadata": {
        "id": "24VQZ3Zsl3fp"
      },
      "source": [
        "# 파이썬 문법 정리\n",
        "## 제작자 : AIS-SG\n",
        "### 참고자료 : 혼자 공부하는 파이썬"
      ]
    },
    {
      "cell_type": "markdown",
      "metadata": {
        "id": "RIzXamSnl3fq"
      },
      "source": [
        "# 1. 자료형"
      ]
    },
    {
      "cell_type": "markdown",
      "metadata": {
        "id": "qBwCJ10ml3fr"
      },
      "source": [
        "### 자료 : 프로그램이 처리할 수 있는 모든것\n",
        "### 프로그램 : 자료들을 처리하기 위한 모든 행위\n",
        "#### \n",
        "### 자료형 : 개발자들이 쉽게 사용할 수 있도록 기능과 역할에 따라서 자료를 구분한 종류\n",
        "#### 문자열(string) : 메일 제목, 메시지 내용 등\n",
        "#### 숫자(number) : 물건의 가격, 학생의 성적 등\n",
        "#### 불 : 친구의 로그인 상태 등 ----> ex) True, False"
      ]
    },
    {
      "cell_type": "markdown",
      "metadata": {
        "id": "zBtjkNWIl3fr"
      },
      "source": [
        "## 자료를 알아야 하는 이유\n",
        "### 1. 기본적인 단위라고 할 수 있는 자료의 의미를 아는 것은 물론, 그 쓰임새를 확실하게 알기위해서 "
      ]
    },
    {
      "cell_type": "markdown",
      "metadata": {
        "id": "vD5_B2kKl3fr"
      },
      "source": [
        "## 자료형 확인하기 : type()"
      ]
    },
    {
      "cell_type": "code",
      "metadata": {
        "id": "b8e8stXbl3fs",
        "outputId": "16c1929c-52c2-4590-edc5-0ca012be1ac9"
      },
      "source": [
        "print(type(\"안녕하세요\"))\n",
        "print(type(273))"
      ],
      "execution_count": null,
      "outputs": [
        {
          "output_type": "stream",
          "text": [
            "<class 'str'>\n",
            "<class 'int'>\n"
          ],
          "name": "stdout"
        }
      ]
    },
    {
      "cell_type": "markdown",
      "metadata": {
        "id": "gUzvJ18al3fs"
      },
      "source": [
        "## 문자열 만들기 : string"
      ]
    },
    {
      "cell_type": "code",
      "metadata": {
        "id": "cKUey5kal3fs",
        "outputId": "79bfbc29-046c-4501-eb79-aaac0235017d"
      },
      "source": [
        "# 하나만 출력\n",
        "print(\"# 하나만 출력합니다.\")\n",
        "print(\"Hello Python Programming...!\")\n",
        "print()  # 빈 줄 출력"
      ],
      "execution_count": null,
      "outputs": [
        {
          "output_type": "stream",
          "text": [
            "# 하나만 출력합니다.\n",
            "Hello Python Programming...!\n",
            "\n"
          ],
          "name": "stdout"
        }
      ]
    },
    {
      "cell_type": "code",
      "metadata": {
        "id": "XoHUHgLnl3ft",
        "outputId": "15fff7da-5e03-42af-dc25-9dbf3af51c68"
      },
      "source": [
        "# 여러 개를 출력\n",
        "print(\"# 여러 개를 출력합니다.\")\n",
        "print(10,20,30,40,50)\n",
        "print(\"안녕하세요\",\"저의\",\"이름은\",\"AIS\"+\"-\"+\"SG입니다!\") # ,를 하면 한칸 띄기 +를 하면 띄우지 않고 붙이기"
      ],
      "execution_count": null,
      "outputs": [
        {
          "output_type": "stream",
          "text": [
            "# 여러 개를 출력합니다.\n",
            "10 20 30 40 50\n",
            "안녕하세요 저의 이름은 AIS-SG입니다!\n"
          ],
          "name": "stdout"
        }
      ]
    },
    {
      "cell_type": "code",
      "metadata": {
        "id": "s9E7Ozokl3ft",
        "outputId": "619e784c-2f16-43e7-a4c8-c4dcb4f6069d"
      },
      "source": [
        "# 문자열 내부에 따옴표 넣기\n",
        "print(\"\"안녕하세요\"라고 말했습니다\") #구문 오류"
      ],
      "execution_count": null,
      "outputs": [
        {
          "output_type": "error",
          "ename": "SyntaxError",
          "evalue": "invalid syntax (<ipython-input-15-e306caae907c>, line 2)",
          "traceback": [
            "\u001b[1;36m  File \u001b[1;32m\"<ipython-input-15-e306caae907c>\"\u001b[1;36m, line \u001b[1;32m2\u001b[0m\n\u001b[1;33m    print(\"\"안녕하세요\"라고 말했습니다\") #구문 오류\u001b[0m\n\u001b[1;37m                ^\u001b[0m\n\u001b[1;31mSyntaxError\u001b[0m\u001b[1;31m:\u001b[0m invalid syntax\n"
          ]
        }
      ]
    },
    {
      "cell_type": "code",
      "metadata": {
        "id": "0d8psy_Al3ft",
        "outputId": "9d7fec2f-69ab-45ef-aca2-b5011c0443f8"
      },
      "source": [
        "print('\"안녕하세요\"라고 말했습니다.')\n",
        "print(\"'배가 고픕니다'라고 생각했습니다.\")"
      ],
      "execution_count": null,
      "outputs": [
        {
          "output_type": "stream",
          "text": [
            "\"안녕하세요\"라고 말했습니다.\n",
            "'배가 고픕니다'라고 생각했습니다.\n"
          ],
          "name": "stdout"
        }
      ]
    },
    {
      "cell_type": "markdown",
      "metadata": {
        "id": "4I8zDmR3l3ft"
      },
      "source": [
        "### 이스케이프 문자를 사용해 문자열 만들기\n",
        "#### 이스케이프 문자 : 역슬래시(\\) 기호와 함께 조합해서 사용하는 특수한 문자\n",
        "#### \\\\\" : 큰따옴표를 의미\n",
        "#### \\\\' : 작은 따옴표를 의미"
      ]
    },
    {
      "cell_type": "code",
      "metadata": {
        "id": "xq5x8T7ql3fu",
        "outputId": "cb873fb2-ea84-4054-c538-5c75c49a8690"
      },
      "source": [
        "print(\"\\\"안녕하세요\\\"라고 말했습니다\") \n",
        "print('\\'배가 고픕니다\\'라고 생각합니다')"
      ],
      "execution_count": null,
      "outputs": [
        {
          "output_type": "stream",
          "text": [
            "\"안녕하세요\"라고 말했습니다\n",
            "'배가 고픕니다'라고 생각합니다\n"
          ],
          "name": "stdout"
        }
      ]
    },
    {
      "cell_type": "markdown",
      "metadata": {
        "id": "XZl8D8b9l3fu"
      },
      "source": [
        "#### \\\\n : 줄바꿈을 의미\n",
        "#### \\\\t : 탭을 의미"
      ]
    },
    {
      "cell_type": "code",
      "metadata": {
        "id": "VBccXyv-l3fu",
        "outputId": "6345dab5-8a7e-4718-a2ca-49ea470626fc"
      },
      "source": [
        "print(\"안녕하세요\\n안녕하세요\")\n",
        "print()\n",
        "print(\"안녕하세요\\t안녕하세요\")"
      ],
      "execution_count": null,
      "outputs": [
        {
          "output_type": "stream",
          "text": [
            "안녕하세요\n",
            "안녕하세요\n",
            "\n",
            "안녕하세요\t안녕하세요\n"
          ],
          "name": "stdout"
        }
      ]
    },
    {
      "cell_type": "code",
      "metadata": {
        "id": "uWZawdaHl3fu",
        "outputId": "b60dcf2e-82b5-4161-e0cb-80a93b829196"
      },
      "source": [
        "# \\t로 탭 사용하기\n",
        "print(\"이름\\t나이\\t지역\")\n",
        "print(\"윤인성\\t25\\t강서구\")\n",
        "print(\"윤아린\\t24\\t강서구\")\n",
        "print(\"구름\\t3\\t강서구\")"
      ],
      "execution_count": null,
      "outputs": [
        {
          "output_type": "stream",
          "text": [
            "이름\t나이\t지역\n",
            "윤인성\t25\t강서구\n",
            "윤아린\t24\t강서구\n",
            "구름\t3\t강서구\n"
          ],
          "name": "stdout"
        }
      ]
    },
    {
      "cell_type": "markdown",
      "metadata": {
        "id": "oIoMKZmfl3fu"
      },
      "source": [
        "#### \\\\\\ : 역슬래시를 의미"
      ]
    },
    {
      "cell_type": "code",
      "metadata": {
        "id": "ASt5DpyNl3fv",
        "outputId": "4c5185d1-4de5-48c0-83ab-23b98e44c43c"
      },
      "source": [
        "print(\"\\\\ \\\\ \\\\ \\\\\")"
      ],
      "execution_count": null,
      "outputs": [
        {
          "output_type": "stream",
          "text": [
            "\\ \\ \\ \\\n"
          ],
          "name": "stdout"
        }
      ]
    },
    {
      "cell_type": "markdown",
      "metadata": {
        "id": "TPaBGZxZl3fv"
      },
      "source": [
        "### 여러 줄 문자열 만들기"
      ]
    },
    {
      "cell_type": "code",
      "metadata": {
        "id": "p56lAvQ-l3fv",
        "outputId": "36a6ccb5-14c0-46f3-b713-1891b1594b18"
      },
      "source": [
        "print(\"동해물과 백두산이 마르고 닳도록\\n하느님이 보우하사 우리나라 만세\\n무궁화 삼천리 화려강산 대한사람\\n대한으로 길이 보전하세\")"
      ],
      "execution_count": null,
      "outputs": [
        {
          "output_type": "stream",
          "text": [
            "동해물과 백두산이 마르고 닳도록\n",
            "하느님이 보우하사 우리나라 만세\n",
            "무궁화 삼천리 화려강산 대한사람\n",
            "대한으로 길이 보전하세\n"
          ],
          "name": "stdout"
        }
      ]
    },
    {
      "cell_type": "code",
      "metadata": {
        "id": "d36K3qxnl3fv",
        "outputId": "87c00921-ccb7-4784-dfd8-932224df25f9"
      },
      "source": [
        "# 여러 줄 문자열은 큰따옴표 또는 작은 따옴표를 세 번 반복한 기호를 사용\n",
        "print(\"\"\"동해물과 백두산이 마르고 닳도록\n",
        "하느님이 보우하사 우리나라 만세\n",
        "무궁화 삼천리 화려강산 대한사람\n",
        "대한으로 길이 보전하세\"\"\")"
      ],
      "execution_count": null,
      "outputs": [
        {
          "output_type": "stream",
          "text": [
            "동해물과 백두산이 마르고 닳도록\n",
            "하느님이 보우하사 우리나라 만세\n",
            "무궁화 삼천리 화려강산 대한사람\n",
            "대한으로 길이 보전하세\n"
          ],
          "name": "stdout"
        }
      ]
    },
    {
      "cell_type": "markdown",
      "metadata": {
        "id": "b7ZZgCmql3fv"
      },
      "source": [
        "## 문자열 연산자"
      ]
    },
    {
      "cell_type": "code",
      "metadata": {
        "id": "_Oe-IJNel3fw",
        "outputId": "5799eeb3-9ae5-49d4-a77c-dca7969e2004"
      },
      "source": [
        "print(\"안녕\"+\"하세요\")"
      ],
      "execution_count": null,
      "outputs": [
        {
          "output_type": "stream",
          "text": [
            "안녕하세요\n"
          ],
          "name": "stdout"
        }
      ]
    },
    {
      "cell_type": "code",
      "metadata": {
        "id": "QuuEWR7Ml3fw",
        "outputId": "01709a8e-f4af-45ee-b8c9-db69e6d71ee4"
      },
      "source": [
        "print(\"안녕하세요\"+1) # 문자열은 무조건 문자열끼리 +기호를 사용해서 연결해야함"
      ],
      "execution_count": null,
      "outputs": [
        {
          "output_type": "error",
          "ename": "TypeError",
          "evalue": "must be str, not int",
          "traceback": [
            "\u001b[1;31m---------------------------------------------------------------------------\u001b[0m",
            "\u001b[1;31mTypeError\u001b[0m                                 Traceback (most recent call last)",
            "\u001b[1;32m<ipython-input-31-d5aa68294817>\u001b[0m in \u001b[0;36m<module>\u001b[1;34m\u001b[0m\n\u001b[1;32m----> 1\u001b[1;33m \u001b[0mprint\u001b[0m\u001b[1;33m(\u001b[0m\u001b[1;34m\"안녕하세요\"\u001b[0m\u001b[1;33m+\u001b[0m\u001b[1;36m1\u001b[0m\u001b[1;33m)\u001b[0m \u001b[1;31m# 문자열은 무조건 문자열끼리 +기호를 사용해서 연결해야함\u001b[0m\u001b[1;33m\u001b[0m\u001b[1;33m\u001b[0m\u001b[0m\n\u001b[0m",
            "\u001b[1;31mTypeError\u001b[0m: must be str, not int"
          ]
        }
      ]
    },
    {
      "cell_type": "code",
      "metadata": {
        "id": "IopsZpSWl3fw",
        "outputId": "148a4487-4827-4f92-efb9-4b05c909943a"
      },
      "source": [
        "# 문자열 반복 연산자 : *\n",
        "print(\"안녕하세요\"*3)\n",
        "print(3*\"안녕하세요\")"
      ],
      "execution_count": null,
      "outputs": [
        {
          "output_type": "stream",
          "text": [
            "안녕하세요안녕하세요안녕하세요\n",
            "안녕하세요안녕하세요안녕하세요\n"
          ],
          "name": "stdout"
        }
      ]
    },
    {
      "cell_type": "code",
      "metadata": {
        "id": "1UrXn97vl3fw",
        "outputId": "eaa15ea4-110f-4a80-9410-fa828d83fde9"
      },
      "source": [
        "# 문자 선택 연산자(인덱싱) : []\n",
        "print(\"문자 선택 연산자에 대해 알아볼까요?\")\n",
        "print(\"안녕하세요\"[0])\n",
        "print(\"안녕하세요\"[1])\n",
        "print(\"안녕하세요\"[2])\n",
        "print(\"안녕하세요\"[3])\n",
        "print(\"안녕하세요\"[4])"
      ],
      "execution_count": null,
      "outputs": [
        {
          "output_type": "stream",
          "text": [
            "문자 선택 연산자에 대해 알아볼까요?\n",
            "안\n",
            "녕\n",
            "하\n",
            "세\n",
            "요\n"
          ],
          "name": "stdout"
        }
      ]
    },
    {
      "cell_type": "code",
      "metadata": {
        "id": "xATeJZSyl3fw",
        "outputId": "732e1e67-4ea1-4944-e360-0d868d0edc6b"
      },
      "source": [
        "print(\"문자를 뒤에서부터 선택해 볼까요?\")\n",
        "print(\"안녕하세요\"[-1])\n",
        "print(\"안녕하세요\"[-2])\n",
        "print(\"안녕하세요\"[-3])\n",
        "print(\"안녕하세요\"[-4])\n",
        "print(\"안녕하세요\"[-5])"
      ],
      "execution_count": null,
      "outputs": [
        {
          "output_type": "stream",
          "text": [
            "문자를 뒤에서부터 선택해 볼까요?\n",
            "요\n",
            "세\n",
            "하\n",
            "녕\n",
            "안\n"
          ],
          "name": "stdout"
        }
      ]
    },
    {
      "cell_type": "code",
      "metadata": {
        "id": "cGSzYOcsl3fx",
        "outputId": "a9027d78-3292-419f-fdb8-dfae0eb9f2bb"
      },
      "source": [
        "# 문자열 범위 선택 연산자(슬라이싱) : [:]\n",
        "print(\"안녕하세요\"[1:4])\n",
        "print(\"안녕하세요\"[0:2])\n",
        "print(\"안녕하세요\"[1:3])\n",
        "print(\"안녕하세요\"[2:4])\n",
        "\n",
        "print(\"안녕하세요\"[1:])\n",
        "print(\"안녕하세요\"[:3])"
      ],
      "execution_count": null,
      "outputs": [
        {
          "output_type": "stream",
          "text": [
            "녕하세\n",
            "안녕\n",
            "녕하\n",
            "하세\n",
            "녕하세요\n",
            "안녕하\n"
          ],
          "name": "stdout"
        }
      ]
    },
    {
      "cell_type": "code",
      "metadata": {
        "id": "WVIbgMmXl3fx",
        "outputId": "0e19a67e-7394-4028-a6a8-636d829d82b2"
      },
      "source": [
        "hello = \"안녕하세요\"\n",
        "print(hello[0:2])\n",
        "hello"
      ],
      "execution_count": null,
      "outputs": [
        {
          "output_type": "stream",
          "text": [
            "안녕\n"
          ],
          "name": "stdout"
        },
        {
          "output_type": "execute_result",
          "data": {
            "text/plain": [
              "'안녕하세요'"
            ]
          },
          "metadata": {
            "tags": []
          },
          "execution_count": 43
        }
      ]
    },
    {
      "cell_type": "markdown",
      "metadata": {
        "id": "WlldWenGl3fx"
      },
      "source": [
        "## IndexError(index out of range)예외\n",
        "### 리스트/문자열의 수를 넘는 요소/글자를  선택할 때 발생"
      ]
    },
    {
      "cell_type": "code",
      "metadata": {
        "id": "bUSlBR1Yl3fx",
        "outputId": "3f9c9386-9489-4a80-8f36-78a8f2290ced"
      },
      "source": [
        "print(\"안녕하세요\"[10]) # '안녕하세요'는 5문자인데 10번째 문자를 부르고 있다."
      ],
      "execution_count": null,
      "outputs": [
        {
          "output_type": "error",
          "ename": "IndexError",
          "evalue": "string index out of range",
          "traceback": [
            "\u001b[1;31m---------------------------------------------------------------------------\u001b[0m",
            "\u001b[1;31mIndexError\u001b[0m                                Traceback (most recent call last)",
            "\u001b[1;32m<ipython-input-44-31d7842c8b75>\u001b[0m in \u001b[0;36m<module>\u001b[1;34m\u001b[0m\n\u001b[1;32m----> 1\u001b[1;33m \u001b[0mprint\u001b[0m\u001b[1;33m(\u001b[0m\u001b[1;34m\"안녕하세요\"\u001b[0m\u001b[1;33m[\u001b[0m\u001b[1;36m10\u001b[0m\u001b[1;33m]\u001b[0m\u001b[1;33m)\u001b[0m\u001b[1;33m\u001b[0m\u001b[1;33m\u001b[0m\u001b[0m\n\u001b[0m",
            "\u001b[1;31mIndexError\u001b[0m: string index out of range"
          ]
        }
      ]
    },
    {
      "cell_type": "markdown",
      "metadata": {
        "id": "MDqpfK1Vl3fx"
      },
      "source": [
        "## 문자열의 길이 구하기 : len()"
      ]
    },
    {
      "cell_type": "code",
      "metadata": {
        "id": "r9Jh3UmDl3fx",
        "outputId": "b5d74242-d64b-454c-fd83-c655eb8ee46e"
      },
      "source": [
        "print(len(\"안녕하세요\"))"
      ],
      "execution_count": null,
      "outputs": [
        {
          "output_type": "stream",
          "text": [
            "5\n"
          ],
          "name": "stdout"
        }
      ]
    },
    {
      "cell_type": "markdown",
      "metadata": {
        "id": "7WA6CRcjl3fy"
      },
      "source": [
        "# 숫자"
      ]
    },
    {
      "cell_type": "markdown",
      "metadata": {
        "id": "_YnQwNW8l3fy"
      },
      "source": [
        "##### 정수형 : 소수점이 없는 숫자\n",
        "##### 실수형 : 소수점이 있는 숫자\n"
      ]
    },
    {
      "cell_type": "markdown",
      "metadata": {
        "id": "HmGr-5fFl3fy"
      },
      "source": [
        "## 숫자의 종류"
      ]
    },
    {
      "cell_type": "code",
      "metadata": {
        "id": "v3XDQ18Wl3fy",
        "outputId": "b44262d6-3e27-49f9-ac80-fabb376a91e8"
      },
      "source": [
        "print(273)\n",
        "print(52.273)"
      ],
      "execution_count": null,
      "outputs": [
        {
          "output_type": "stream",
          "text": [
            "273\n",
            "52.273\n"
          ],
          "name": "stdout"
        }
      ]
    },
    {
      "cell_type": "code",
      "metadata": {
        "id": "7QuWfli6l3fy",
        "outputId": "233e2a79-d126-4186-d63a-eed99199e141"
      },
      "source": [
        "print(type(52))\n",
        "print(type(52.273))"
      ],
      "execution_count": null,
      "outputs": [
        {
          "output_type": "stream",
          "text": [
            "<class 'int'>\n",
            "<class 'float'>\n"
          ],
          "name": "stdout"
        }
      ]
    },
    {
      "cell_type": "markdown",
      "metadata": {
        "id": "k9Z704wal3fy"
      },
      "source": [
        "##### int(integer) : 정수\n",
        "##### float(floating point) : 부동 소수점(실수)"
      ]
    },
    {
      "cell_type": "code",
      "metadata": {
        "id": "9pj6jAXWl3fy",
        "outputId": "bd1a4c96-dec3-4f5f-b68e-9ebb9eb8eed3"
      },
      "source": [
        "print(0)\n",
        "print(type(0))\n",
        "print(0.0)\n",
        "print(type(0.0))"
      ],
      "execution_count": null,
      "outputs": [
        {
          "output_type": "stream",
          "text": [
            "0\n",
            "<class 'int'>\n",
            "0.0\n",
            "<class 'float'>\n"
          ],
          "name": "stdout"
        }
      ]
    },
    {
      "cell_type": "markdown",
      "metadata": {
        "id": "hbMEhncil3fz"
      },
      "source": [
        "##### e 앞에 있는 수는 앞자리 수의 숫자, 뒤에 있는 수는 0의 개수"
      ]
    },
    {
      "cell_type": "code",
      "metadata": {
        "id": "jznh12OEl3fz",
        "outputId": "00c69b8e-2108-4728-80e3-738529dc7472"
      },
      "source": [
        "0.522273e2"
      ],
      "execution_count": null,
      "outputs": [
        {
          "output_type": "execute_result",
          "data": {
            "text/plain": [
              "52.2273"
            ]
          },
          "metadata": {
            "tags": []
          },
          "execution_count": 6
        }
      ]
    },
    {
      "cell_type": "code",
      "metadata": {
        "id": "5aMXJj7ll3fz",
        "outputId": "fd5ab2fd-07db-4e0a-f3de-ac52b2aaff52"
      },
      "source": [
        "5e3"
      ],
      "execution_count": null,
      "outputs": [
        {
          "output_type": "execute_result",
          "data": {
            "text/plain": [
              "5000.0"
            ]
          },
          "metadata": {
            "tags": []
          },
          "execution_count": 9
        }
      ]
    },
    {
      "cell_type": "markdown",
      "metadata": {
        "id": "5tOXU-hFl3fz"
      },
      "source": [
        "## 숫자 연산자"
      ]
    },
    {
      "cell_type": "code",
      "metadata": {
        "id": "LyXhm9uml3fz",
        "outputId": "48c41526-de3d-474c-820f-37b3849d0415"
      },
      "source": [
        "# 사칙 연산 : +, -, *, /\n",
        "\n",
        "print(\"5 + 7 =\",5 + 7)\n",
        "print(\"5 - 7 =\",5 - 7)\n",
        "print(\"5 * 7 =\",5 * 7)\n",
        "print(\"5 / 7 =\",5 / 7)"
      ],
      "execution_count": null,
      "outputs": [
        {
          "output_type": "stream",
          "text": [
            "5 + 7 = 12\n",
            "5 - 7 = -2\n",
            "5 * 7 = 35\n",
            "5 / 7 = 0.7142857142857143\n"
          ],
          "name": "stdout"
        }
      ]
    },
    {
      "cell_type": "code",
      "metadata": {
        "id": "oKgmWdgxl3fz",
        "outputId": "fcec6668-267c-45dd-9097-5e7a0879fcb2"
      },
      "source": [
        "# 정수 나누기 연산자 : //\n",
        "print(\"3 / 2 =\",3 / 2)\n",
        "print(\"3 // 2 =\",3 // 2)"
      ],
      "execution_count": null,
      "outputs": [
        {
          "output_type": "stream",
          "text": [
            "3 / 2 = 1.5\n",
            "3 // 2 = 1\n"
          ],
          "name": "stdout"
        }
      ]
    },
    {
      "cell_type": "code",
      "metadata": {
        "id": "gS4dc7WJl3f0",
        "outputId": "2e6bb1d5-6229-4554-d937-cfb0ba3c9adf"
      },
      "source": [
        "# 나머지 연산자 : %\n",
        "print(\"5 % 2=\", 5 % 2)"
      ],
      "execution_count": null,
      "outputs": [
        {
          "output_type": "stream",
          "text": [
            "5 % 2= 1\n"
          ],
          "name": "stdout"
        }
      ]
    },
    {
      "cell_type": "code",
      "metadata": {
        "id": "nmtdVyxXl3f0",
        "outputId": "cfd10260-d015-4465-da97-bd98e72afeaa"
      },
      "source": [
        "# 제곱 연산자 : **\n",
        "print(\"2 ** 1=\", 2**1)\n",
        "print(\"2 ** 2=\",2**2)\n",
        "print(\"2 ** 3=\", 2**3)\n",
        "print(\"2 ** 4=\",2**4)"
      ],
      "execution_count": null,
      "outputs": [
        {
          "output_type": "stream",
          "text": [
            "2 ** 1= 2\n",
            "2 ** 2= 4\n",
            "2 ** 3= 8\n",
            "2 ** 4= 16\n"
          ],
          "name": "stdout"
        }
      ]
    },
    {
      "cell_type": "markdown",
      "metadata": {
        "id": "ntumwbagl3f0"
      },
      "source": [
        "## TypeErro 예외"
      ]
    },
    {
      "cell_type": "code",
      "metadata": {
        "id": "dZQ-JPA7l3f0",
        "outputId": "2c3a53d0-4dc1-4d80-cd64-52f67482d83d"
      },
      "source": [
        "string = \"문자열\"\n",
        "number = 273\n",
        "string + number"
      ],
      "execution_count": null,
      "outputs": [
        {
          "output_type": "error",
          "ename": "TypeError",
          "evalue": "must be str, not int",
          "traceback": [
            "\u001b[1;31m---------------------------------------------------------------------------\u001b[0m",
            "\u001b[1;31mTypeError\u001b[0m                                 Traceback (most recent call last)",
            "\u001b[1;32m<ipython-input-15-50811dcd25e8>\u001b[0m in \u001b[0;36m<module>\u001b[1;34m\u001b[0m\n\u001b[0;32m      1\u001b[0m \u001b[0mstring\u001b[0m \u001b[1;33m=\u001b[0m \u001b[1;34m\"문자열\"\u001b[0m\u001b[1;33m\u001b[0m\u001b[1;33m\u001b[0m\u001b[0m\n\u001b[0;32m      2\u001b[0m \u001b[0mnumber\u001b[0m \u001b[1;33m=\u001b[0m \u001b[1;36m273\u001b[0m\u001b[1;33m\u001b[0m\u001b[1;33m\u001b[0m\u001b[0m\n\u001b[1;32m----> 3\u001b[1;33m \u001b[0mstring\u001b[0m \u001b[1;33m+\u001b[0m \u001b[0mnumber\u001b[0m\u001b[1;33m\u001b[0m\u001b[1;33m\u001b[0m\u001b[0m\n\u001b[0m",
            "\u001b[1;31mTypeError\u001b[0m: must be str, not int"
          ]
        }
      ]
    },
    {
      "cell_type": "markdown",
      "metadata": {
        "id": "HVd30lGDl3f0"
      },
      "source": [
        "## 문자열 연산자의 우선순위"
      ]
    },
    {
      "cell_type": "code",
      "metadata": {
        "id": "WWKSQritl3f0",
        "outputId": "29970e3b-48a1-496e-a794-05ecdbbe6d16"
      },
      "source": [
        "print(\"안녕\"+\"하세요\" * 3)"
      ],
      "execution_count": null,
      "outputs": [
        {
          "output_type": "stream",
          "text": [
            "안녕하세요하세요하세요\n"
          ],
          "name": "stdout"
        }
      ]
    },
    {
      "cell_type": "code",
      "metadata": {
        "id": "TMHkIYMyl3f1",
        "outputId": "649c2a12-e286-4a2d-e18f-c6f36461dde5"
      },
      "source": [
        "print((\"안녕\"+\"하세요\") * 3)"
      ],
      "execution_count": null,
      "outputs": [
        {
          "output_type": "stream",
          "text": [
            "안녕하세요안녕하세요안녕하세요\n"
          ],
          "name": "stdout"
        }
      ]
    },
    {
      "cell_type": "code",
      "metadata": {
        "id": "OVc84B2pl3f1",
        "outputId": "d8754e36-fa75-4a28-86db-59f756dace9e"
      },
      "source": [
        "print(\"안녕\" + (\"하세요\" * 3))"
      ],
      "execution_count": null,
      "outputs": [
        {
          "output_type": "stream",
          "text": [
            "안녕하세요하세요하세요\n"
          ],
          "name": "stdout"
        }
      ]
    },
    {
      "cell_type": "markdown",
      "metadata": {
        "id": "39rz_SDXl3f1"
      },
      "source": [
        "# 변수와 입력"
      ]
    },
    {
      "cell_type": "markdown",
      "metadata": {
        "id": "F5TtJizFl3f1"
      },
      "source": [
        "##### 변수 : 값을 저장할 때 사용하는 식별자"
      ]
    },
    {
      "cell_type": "code",
      "metadata": {
        "id": "p-jo6Ed8l3f1",
        "outputId": "f49cfa35-4e6d-4fa4-b76b-cde4e1339d40"
      },
      "source": [
        "pi = 3.14159265\n",
        "pi"
      ],
      "execution_count": null,
      "outputs": [
        {
          "output_type": "execute_result",
          "data": {
            "text/plain": [
              "3.14159265"
            ]
          },
          "metadata": {
            "tags": []
          },
          "execution_count": 20
        }
      ]
    },
    {
      "cell_type": "code",
      "metadata": {
        "id": "ggmZ9qtQl3f1",
        "outputId": "6f1c479f-353f-4937-8b3e-c80579a97677"
      },
      "source": [
        "print(pi + 2)\n",
        "print(pi - 2)\n",
        "print(pi * 2)\n",
        "print(pi / 2)\n",
        "print(pi % 2)\n",
        "print(pi * pi)"
      ],
      "execution_count": null,
      "outputs": [
        {
          "output_type": "stream",
          "text": [
            "5.14159265\n",
            "1.1415926500000002\n",
            "6.2831853\n",
            "1.570796325\n",
            "1.1415926500000002\n",
            "9.869604378534024\n"
          ],
          "name": "stdout"
        }
      ]
    },
    {
      "cell_type": "markdown",
      "metadata": {
        "id": "p37Oo-Col3f2"
      },
      "source": [
        "## pi에 저장한 값을 이용해 원의 둘레와 넓이를 구하기"
      ]
    },
    {
      "cell_type": "code",
      "metadata": {
        "id": "mPzfgig6l3f2",
        "outputId": "679f3d15-eae3-42e1-f6fc-816fb5c2f363"
      },
      "source": [
        "# 변수 선언과 할당\n",
        "pi = 3.14159265\n",
        "r = 10 \n",
        "\n",
        "# 변수 참조\n",
        "print(\"원주율 =\",pi)\n",
        "print(\"반지름 =\",r)\n",
        "print(\"원의 둘레 =\",2*pi*r)\n",
        "print(\"원의 넓이 =\",pi*r*r)"
      ],
      "execution_count": null,
      "outputs": [
        {
          "output_type": "stream",
          "text": [
            "원주율 = 3.14159265\n",
            "반지름 = 10\n",
            "원의 둘레 = 62.831853\n",
            "원의 넓이 = 314.159265\n"
          ],
          "name": "stdout"
        }
      ]
    },
    {
      "cell_type": "code",
      "metadata": {
        "id": "j8xt3lj2l3f2",
        "outputId": "700ce957-c399-4d0d-b762-1426829a1db1"
      },
      "source": [
        "# 복합 대입 연산자 : +=, -=, *=, /=, %=, **=\n",
        "number = 100\n",
        "number +=10\n",
        "number +=20\n",
        "number +=30\n",
        "print(\"number:\",number)\n",
        "\n",
        "string = \"안녕하세요\"\n",
        "string += \"!\"\n",
        "string += \"!\"\n",
        "print(\"string :\",string)"
      ],
      "execution_count": null,
      "outputs": [
        {
          "output_type": "stream",
          "text": [
            "number: 160\n",
            "string : 안녕하세요!!\n"
          ],
          "name": "stdout"
        }
      ]
    },
    {
      "cell_type": "markdown",
      "metadata": {
        "id": "E7BnmzTfl3f2"
      },
      "source": [
        "## 사용자 입력 : input()"
      ]
    },
    {
      "cell_type": "markdown",
      "metadata": {
        "id": "HjnIQ7CSl3f2"
      },
      "source": [
        "##### input 함수 괄호 안에 입력한 내용을 프롬프트 문자열이라고 한다."
      ]
    },
    {
      "cell_type": "code",
      "metadata": {
        "id": "9eRSAAoul3f2",
        "outputId": "61d6c253-d105-4e70-a658-27a02cc95e8b"
      },
      "source": [
        "input(\"인사말을 입력하세요> \")"
      ],
      "execution_count": null,
      "outputs": [
        {
          "output_type": "stream",
          "text": [
            "인사말을 입력하세요> \n"
          ],
          "name": "stdout"
        },
        {
          "output_type": "execute_result",
          "data": {
            "text/plain": [
              "''"
            ]
          },
          "metadata": {
            "tags": []
          },
          "execution_count": 34
        }
      ]
    },
    {
      "cell_type": "code",
      "metadata": {
        "id": "85-ZLZL3l3f2",
        "outputId": "2872b276-c247-4c7d-9f3b-ee05226f4ec8"
      },
      "source": [
        "string = input(\"인사말을 입력하세요> \")\n",
        "print(string)"
      ],
      "execution_count": null,
      "outputs": [
        {
          "output_type": "stream",
          "text": [
            "인사말을 입력하세요> 안녕하세요\n",
            "안녕하세요\n"
          ],
          "name": "stdout"
        }
      ]
    },
    {
      "cell_type": "markdown",
      "metadata": {
        "id": "7OBKjvZDl3f3"
      },
      "source": [
        "## input() 함수의 입력 자료형\n",
        "##### input() 함수는 사용자가 무엇을 입력해도 결과는 무조건 문자열 자료형이다."
      ]
    },
    {
      "cell_type": "code",
      "metadata": {
        "id": "d2hHL-c8l3f3",
        "outputId": "81f8cf7b-9202-4fbc-c4aa-7f8d04f1c4aa"
      },
      "source": [
        "print(type(string))"
      ],
      "execution_count": null,
      "outputs": [
        {
          "output_type": "stream",
          "text": [
            "<class 'str'>\n"
          ],
          "name": "stdout"
        }
      ]
    },
    {
      "cell_type": "code",
      "metadata": {
        "id": "8VjEwEKMl3f3",
        "outputId": "6e76b0d7-4669-4b7a-f333-adbffafb24e0"
      },
      "source": [
        "number = input(\"숫자를 입력하세요> \")\n",
        "print(number)"
      ],
      "execution_count": null,
      "outputs": [
        {
          "output_type": "stream",
          "text": [
            "숫자를 입력하세요> 12345\n",
            "12345\n"
          ],
          "name": "stdout"
        }
      ]
    },
    {
      "cell_type": "code",
      "metadata": {
        "id": "je5v4RJrl3f3",
        "outputId": "673cd441-e93d-4e53-d6a0-4ce8da33cff4"
      },
      "source": [
        "print(type(number))"
      ],
      "execution_count": null,
      "outputs": [
        {
          "output_type": "stream",
          "text": [
            "<class 'str'>\n"
          ],
          "name": "stdout"
        }
      ]
    },
    {
      "cell_type": "markdown",
      "metadata": {
        "id": "KuYfyeGCl3f3"
      },
      "source": [
        "## 문자열을 숫자로 바꾸기"
      ]
    },
    {
      "cell_type": "code",
      "metadata": {
        "id": "J2pZA20nl3f4",
        "outputId": "bdf5d53a-2623-44b9-9a84-0eb9f928bb21"
      },
      "source": [
        "string_a = input(\"입력A> \")\n",
        "int_a = int(string_a)\n",
        "\n",
        "string_b = input(\"입력B> \")\n",
        "int_b = int(string_b)\n",
        "\n",
        "print(\"문자열 자료:\", string_a + string_b)\n",
        "print(\"숫자 자료:\",int_a+int_b)"
      ],
      "execution_count": null,
      "outputs": [
        {
          "output_type": "stream",
          "text": [
            "입력A> 273\n",
            "입력B> 52\n",
            "문자열 자료: 27352\n",
            "숫자 자료: 325\n"
          ],
          "name": "stdout"
        }
      ]
    },
    {
      "cell_type": "markdown",
      "metadata": {
        "id": "XJZT2GDPl3f4"
      },
      "source": [
        "## ValueError 예외"
      ]
    },
    {
      "cell_type": "markdown",
      "metadata": {
        "id": "lmsaicPql3f4"
      },
      "source": [
        "##### 숫자가 아닌 것을 숫자로 변환하려고 할 떄"
      ]
    },
    {
      "cell_type": "code",
      "metadata": {
        "id": "Yq-FwpAjl3f4",
        "outputId": "1ddd9bd2-1a1b-4638-b143-30e7df2fc8bd"
      },
      "source": [
        "int(\"안녕하세요\")\n",
        "float(\"안녕하세요\")"
      ],
      "execution_count": null,
      "outputs": [
        {
          "output_type": "error",
          "ename": "ValueError",
          "evalue": "invalid literal for int() with base 10: '안녕하세요'",
          "traceback": [
            "\u001b[1;31m---------------------------------------------------------------------------\u001b[0m",
            "\u001b[1;31mValueError\u001b[0m                                Traceback (most recent call last)",
            "\u001b[1;32m<ipython-input-41-695c4f449525>\u001b[0m in \u001b[0;36m<module>\u001b[1;34m\u001b[0m\n\u001b[1;32m----> 1\u001b[1;33m \u001b[0mint\u001b[0m\u001b[1;33m(\u001b[0m\u001b[1;34m\"안녕하세요\"\u001b[0m\u001b[1;33m)\u001b[0m\u001b[1;33m\u001b[0m\u001b[1;33m\u001b[0m\u001b[0m\n\u001b[0m\u001b[0;32m      2\u001b[0m \u001b[0mfloat\u001b[0m\u001b[1;33m(\u001b[0m\u001b[1;34m\"안녕하세요\"\u001b[0m\u001b[1;33m)\u001b[0m\u001b[1;33m\u001b[0m\u001b[1;33m\u001b[0m\u001b[0m\n",
            "\u001b[1;31mValueError\u001b[0m: invalid literal for int() with base 10: '안녕하세요'"
          ]
        }
      ]
    },
    {
      "cell_type": "markdown",
      "metadata": {
        "id": "NLjrEbvYl3f4"
      },
      "source": [
        "##### 소수점이 있는 숫자 형식의 문자열을 int()함수로 변환하려고 할 때"
      ]
    },
    {
      "cell_type": "code",
      "metadata": {
        "id": "I3Xz8CIPl3f4",
        "outputId": "9466dc9d-06e1-4a8d-cc04-d9f1b488fa06"
      },
      "source": [
        "int(\"52.273\")"
      ],
      "execution_count": null,
      "outputs": [
        {
          "output_type": "error",
          "ename": "ValueError",
          "evalue": "invalid literal for int() with base 10: '52.273'",
          "traceback": [
            "\u001b[1;31m---------------------------------------------------------------------------\u001b[0m",
            "\u001b[1;31mValueError\u001b[0m                                Traceback (most recent call last)",
            "\u001b[1;32m<ipython-input-42-f84a6a76605f>\u001b[0m in \u001b[0;36m<module>\u001b[1;34m\u001b[0m\n\u001b[1;32m----> 1\u001b[1;33m \u001b[0mint\u001b[0m\u001b[1;33m(\u001b[0m\u001b[1;34m\"52.273\"\u001b[0m\u001b[1;33m)\u001b[0m\u001b[1;33m\u001b[0m\u001b[1;33m\u001b[0m\u001b[0m\n\u001b[0m",
            "\u001b[1;31mValueError\u001b[0m: invalid literal for int() with base 10: '52.273'"
          ]
        }
      ]
    },
    {
      "cell_type": "markdown",
      "metadata": {
        "id": "ioBtiqYIl3f4"
      },
      "source": [
        "## 숫자를 문자열로 바꾸기"
      ]
    },
    {
      "cell_type": "code",
      "metadata": {
        "id": "fIPQZ3Lsl3f5",
        "outputId": "3c6a5dea-1624-4b2a-bc7a-f8a3aa5ed41f"
      },
      "source": [
        "\"\"\" str(다른 자료형) \"\"\"\n",
        "output_a =str(52)\n",
        "output_b = str(52.273)\n",
        "print(type(output_a), output_a)\n",
        "print(type(output_b), output_b)"
      ],
      "execution_count": null,
      "outputs": [
        {
          "output_type": "stream",
          "text": [
            "<class 'str'> 52\n",
            "<class 'str'> 52.273\n"
          ],
          "name": "stdout"
        }
      ]
    },
    {
      "cell_type": "markdown",
      "metadata": {
        "id": "Ndu4Kg6wl3f5"
      },
      "source": [
        "# 숫자와 문자열의 다양한 기능"
      ]
    },
    {
      "cell_type": "markdown",
      "metadata": {
        "id": "3uT7aI40l3f5"
      },
      "source": [
        "## 문자열의 format( ) 함수"
      ]
    },
    {
      "cell_type": "markdown",
      "metadata": {
        "id": "ZOcIXigkl3f5"
      },
      "source": [
        "##### format( ) 함수는 문자열이 가지고 있는 함수이다.\n",
        "##### format( ) 함수 관호 안 매개변수의 개수와 중괄호의 개수는 반드시 같아야  한다."
      ]
    },
    {
      "cell_type": "code",
      "metadata": {
        "id": "4uXcRuFFl3f5",
        "outputId": "b652272e-a411-4ddf-80b0-caa6decad772"
      },
      "source": [
        "# format() 함수로 숫자를 문자열로 변환하기\n",
        "string_a = \"{}\".format(10)\n",
        "\n",
        "# 출력하기\n",
        "print(string_a)\n",
        "print(type(string_a))"
      ],
      "execution_count": null,
      "outputs": [
        {
          "output_type": "stream",
          "text": [
            "10\n",
            "<class 'str'>\n"
          ],
          "name": "stdout"
        }
      ]
    },
    {
      "cell_type": "code",
      "metadata": {
        "id": "QQgbnscVl3f5",
        "outputId": "deb24231-7bc9-4a64-ae07-0242d5c56c25"
      },
      "source": [
        "# format() 함수로 숫자를 문자열로 변환하기\n",
        "format_a = \"{}만원\".format(5000)\n",
        "format_b = \"파이썬 열공하여 첫 연봉 {}만 원 만들기 \".format(5000)\n",
        "format_c = \"{} {} {}\".format(3000,4000,5000)\n",
        "format_d = \"{} {} {}\".format(1, \"문자열\", True)\n",
        "# 출력하기\n",
        "print(format_a)\n",
        "print(format_b)\n",
        "print(format_c)\n",
        "print(format_d)"
      ],
      "execution_count": null,
      "outputs": [
        {
          "output_type": "stream",
          "text": [
            "5000만원\n",
            "파이썬 열공하여 첫 연봉 5000만 원 만들기 \n",
            "3000 4000 5000\n",
            "1 문자열 True\n"
          ],
          "name": "stdout"
        }
      ]
    },
    {
      "cell_type": "markdown",
      "metadata": {
        "id": "yx35LxREl3f5"
      },
      "source": [
        "## IndexError 예외\n",
        "##### IndexError는 {} 기호의 개수가  format() 함수의 매개변수 개수보다 많으면 발생한다."
      ]
    },
    {
      "cell_type": "code",
      "metadata": {
        "id": "e2GyyzQHl3f6",
        "outputId": "4ad1d292-9a90-45ca-a038-1f29846c3d7d"
      },
      "source": [
        "\"{} {}\".format(1,2,3,4,5)"
      ],
      "execution_count": null,
      "outputs": [
        {
          "output_type": "execute_result",
          "data": {
            "text/plain": [
              "'1 2'"
            ]
          },
          "metadata": {
            "tags": []
          },
          "execution_count": 50
        }
      ]
    },
    {
      "cell_type": "code",
      "metadata": {
        "id": "uIU4m-5nl3f6",
        "outputId": "38cf21aa-8823-4778-9327-f00debded2d4"
      },
      "source": [
        "\"{} {} {}\".format(1, 2)"
      ],
      "execution_count": null,
      "outputs": [
        {
          "output_type": "error",
          "ename": "IndexError",
          "evalue": "tuple index out of range",
          "traceback": [
            "\u001b[1;31m---------------------------------------------------------------------------\u001b[0m",
            "\u001b[1;31mIndexError\u001b[0m                                Traceback (most recent call last)",
            "\u001b[1;32m<ipython-input-52-9aca2cd12869>\u001b[0m in \u001b[0;36m<module>\u001b[1;34m\u001b[0m\n\u001b[1;32m----> 1\u001b[1;33m \u001b[1;34m\"{} {} {}\"\u001b[0m\u001b[1;33m.\u001b[0m\u001b[0mformat\u001b[0m\u001b[1;33m(\u001b[0m\u001b[1;36m1\u001b[0m\u001b[1;33m,\u001b[0m \u001b[1;36m2\u001b[0m\u001b[1;33m)\u001b[0m\u001b[1;33m\u001b[0m\u001b[1;33m\u001b[0m\u001b[0m\n\u001b[0m",
            "\u001b[1;31mIndexError\u001b[0m: tuple index out of range"
          ]
        }
      ]
    },
    {
      "cell_type": "markdown",
      "metadata": {
        "id": "mPtINTbql3f6"
      },
      "source": [
        "## format( ) 함수의 다양한 기능"
      ]
    },
    {
      "cell_type": "markdown",
      "metadata": {
        "id": "z5kdK_bUl3f6"
      },
      "source": [
        "#### 정수 출력의 다양한 형태"
      ]
    },
    {
      "cell_type": "code",
      "metadata": {
        "id": "18dkvuanl3f6",
        "outputId": "b49e270e-3854-409e-a086-4631502a613c"
      },
      "source": [
        "# 정수\n",
        "output_a=\"{:d}\".format(52)\n",
        "\n",
        "# 특정 칸에 출력하기\n",
        "output_b=\"{:5d}\".format(52)     # 5칸\n",
        "output_c=\"{:10d}\".format(52)    # 10칸\n",
        "\n",
        "# 빈칸을 0으로 채우기\n",
        "output_d=\"{:05d}\".format(52)    # 양수\n",
        "output_e=\"{:05d}\".format(-52)   # 음수\n",
        "\n",
        "print(\"# 기본\")\n",
        "print(output_a)\n",
        "print(\"# 특정 칸에 출력하기\")\n",
        "print(output_b)\n",
        "print(output_c)\n",
        "print(\"# 빈 칸을 0으로 채우기\")\n",
        "print(output_d)\n",
        "print(output_e)\n"
      ],
      "execution_count": null,
      "outputs": [
        {
          "output_type": "stream",
          "text": [
            "# 기본\n",
            "52\n",
            "# 특정 칸에 출력하기\n",
            "   52\n",
            "        52\n",
            "# 빈 칸을 0으로 채우기\n",
            "00052\n",
            "-0052\n"
          ],
          "name": "stdout"
        }
      ]
    },
    {
      "cell_type": "code",
      "metadata": {
        "id": "QU7fZpuAl3f6",
        "outputId": "0c4f3323-8a56-473f-ef31-0fd3961feef8"
      },
      "source": [
        "# 기호와 함께 출력하기\n",
        "output_f=\"{:+d}\".format(52)     # 양수\n",
        "output_g=\"{:+d}\".format(-52)    # 음수\n",
        "output_h=\"{: d}\".format(52)     # 양수: 기호 부분 공백\n",
        "output_i=\"{: d}\".format(-52)    # 음수: 기호 부분 공백\n",
        "\n",
        "print(\"# 기호와 함께 출력하기\")\n",
        "print(output_f)\n",
        "print(output_g)\n",
        "print(output_h)\n",
        "print(output_i)"
      ],
      "execution_count": null,
      "outputs": [
        {
          "output_type": "stream",
          "text": [
            "# 기호와 함께 출력하기\n",
            "+52\n",
            "-52\n",
            " 52\n",
            "-52\n"
          ],
          "name": "stdout"
        }
      ]
    },
    {
      "cell_type": "code",
      "metadata": {
        "id": "IqPPC-79l3f7",
        "outputId": "33345e7d-ef85-4f3c-cd40-f48b77be459c"
      },
      "source": [
        "# 조합하기\n",
        "output_h=\"{:+5d}\".format(52)     # 기호를 뒤로 밀기: 양수\n",
        "output_i=\"{:+5d}\".format(-52)    # 기호를 뒤로 밀기: 음수\n",
        "output_j=\"{:=+5d}\".format(52)    # 기호를 앞으로 밀기: 양수\n",
        "output_k=\"{:=+5d}\".format(-52)   # 기호를 앞으로 밀기: 음수\n",
        "output_l=\"{:+05d}\".format(52)    # 0으로 채우기: 양수\n",
        "output_m=\"{:+05d}\".format(-52)   # 0으로 채우기: 음수\n",
        "\n",
        "print(\"# 조합하기\")\n",
        "print(output_h)\n",
        "print(output_i)\n",
        "print(output_j)\n",
        "print(output_k)\n",
        "print(output_l)\n",
        "print(output_m)"
      ],
      "execution_count": null,
      "outputs": [
        {
          "output_type": "stream",
          "text": [
            "# 조합하기\n",
            "  +52\n",
            "  -52\n",
            "+  52\n",
            "-  52\n",
            "+0052\n",
            "-0052\n"
          ],
          "name": "stdout"
        }
      ]
    },
    {
      "cell_type": "markdown",
      "metadata": {
        "id": "nl-iHJQUl3f7"
      },
      "source": [
        "#### 부동 소수점 출력의 다양한 형태"
      ]
    },
    {
      "cell_type": "code",
      "metadata": {
        "id": "okuS3-ARl3f7",
        "outputId": "fab5e3e4-b75f-409b-b60a-522f77de97f7"
      },
      "source": [
        "output_a=\"{:f}\".format(52.273)     \n",
        "output_b=\"{:15f}\".format(52.273)    # 15칸 만들기\n",
        "output_c=\"{:+15f}\".format(52.273)   # 15칸에 부호 추가하기\n",
        "output_d=\"{:+015f}\".format(52.273)  # 15칸에 부호 추가하고 0으로 채우기\n",
        "\n",
        "print(output_a)\n",
        "print(output_b)\n",
        "print(output_c)\n",
        "print(output_d)\n"
      ],
      "execution_count": null,
      "outputs": [
        {
          "output_type": "stream",
          "text": [
            "52.273000\n",
            "      52.273000\n",
            "     +52.273000\n",
            "+0000052.273000\n"
          ],
          "name": "stdout"
        }
      ]
    },
    {
      "cell_type": "code",
      "metadata": {
        "id": "xTioYf89l3f7",
        "outputId": "fd55512d-2c99-4926-af1d-1d5cb2c33e61"
      },
      "source": [
        "output_a=\"{:15.3f}\".format(52.273)     \n",
        "output_b=\"{:15.2f}\".format(52.273)    \n",
        "output_c=\"{:15.1f}\".format(52.273)   \n",
        "\n",
        "print(output_a)\n",
        "print(output_b)\n",
        "print(output_c)"
      ],
      "execution_count": null,
      "outputs": [
        {
          "output_type": "stream",
          "text": [
            "         52.273\n",
            "          52.27\n",
            "           52.3\n"
          ],
          "name": "stdout"
        }
      ]
    },
    {
      "cell_type": "markdown",
      "metadata": {
        "id": "JmJkjELBl3f7"
      },
      "source": [
        "#### 의미 없는 소수점 제거하기"
      ]
    },
    {
      "cell_type": "code",
      "metadata": {
        "id": "WwGgBG17l3f7",
        "outputId": "02346f32-4c74-42a8-fe09-f639df459f61"
      },
      "source": [
        "output_a = 52.0\n",
        "output_b = \"{:g}\".format(output_a)\n",
        "print(output_a)\n",
        "print(output_b)"
      ],
      "execution_count": null,
      "outputs": [
        {
          "output_type": "stream",
          "text": [
            "52.0\n",
            "52\n"
          ],
          "name": "stdout"
        }
      ]
    },
    {
      "cell_type": "markdown",
      "metadata": {
        "id": "Upr77uQkl3f8"
      },
      "source": [
        "## 대소문자 바꾸기 : upper( )와 lower( )"
      ]
    },
    {
      "cell_type": "markdown",
      "metadata": {
        "id": "WitYbai4l3f8"
      },
      "source": [
        "##### upper( ) 함수는 문자열의 알파벳을 대문자로,\n",
        "##### lower( ) 함수는 문자열의 알파벳을 소문자로 만듭니다."
      ]
    },
    {
      "cell_type": "code",
      "metadata": {
        "id": "U6D9FKlql3f8",
        "outputId": "18d76eaa-4bc1-4576-8096-14c5a25c63e8"
      },
      "source": [
        "a = \"Hello Python Programming...!\"\n",
        "a.upper()"
      ],
      "execution_count": null,
      "outputs": [
        {
          "output_type": "execute_result",
          "data": {
            "text/plain": [
              "'HELLO PYTHON PROGRAMMING...!'"
            ]
          },
          "metadata": {
            "tags": []
          },
          "execution_count": 63
        }
      ]
    },
    {
      "cell_type": "code",
      "metadata": {
        "id": "k2eZDYnWl3f8",
        "outputId": "6ee9374a-ed12-4a17-ca06-bbfd41d9c502"
      },
      "source": [
        "a.lower()"
      ],
      "execution_count": null,
      "outputs": [
        {
          "output_type": "execute_result",
          "data": {
            "text/plain": [
              "'hello python programming...!'"
            ]
          },
          "metadata": {
            "tags": []
          },
          "execution_count": 66
        }
      ]
    },
    {
      "cell_type": "markdown",
      "metadata": {
        "id": "eZu_ho1Kl3f8"
      },
      "source": [
        "##### upper()함수와 lower()함수를 사용하면 a의 문자열이 바뀔 것이라 생각하지만 절대로 원본은 변하지 않는다."
      ]
    },
    {
      "cell_type": "code",
      "metadata": {
        "id": "F8TGjK7_l3f8",
        "outputId": "5e350f18-d638-4879-986b-b4474c0a81f8"
      },
      "source": [
        "a"
      ],
      "execution_count": null,
      "outputs": [
        {
          "output_type": "execute_result",
          "data": {
            "text/plain": [
              "'Hello Python Programming...!'"
            ]
          },
          "metadata": {
            "tags": []
          },
          "execution_count": 67
        }
      ]
    },
    {
      "cell_type": "markdown",
      "metadata": {
        "id": "Zc8PrP1Ml3f8"
      },
      "source": [
        "## 문자열 양옆의 공백 제거하기 : strip()"
      ]
    },
    {
      "cell_type": "markdown",
      "metadata": {
        "id": "WPwdXBNnl3f9"
      },
      "source": [
        "##### strip() 함수는 문자열 양옆의 공백을 제거한다.\n",
        "##### lstrip() 함수는 문자열 왼쪽의 공백을 제거한다.\n",
        "##### rstrip() 함수는 문자열 오른쪽의 공백을 제거한다."
      ]
    },
    {
      "cell_type": "code",
      "metadata": {
        "id": "d50B5HR8l3f9",
        "outputId": "d47f766d-ce5c-463f-baa0-66376c711e87"
      },
      "source": [
        "input_a = \"\"\"\n",
        "    안녕하세요\n",
        "문자열의 함수를 알아봅니다\n",
        "\"\"\"\n",
        "print(input_a)"
      ],
      "execution_count": null,
      "outputs": [
        {
          "output_type": "stream",
          "text": [
            "\n",
            "    안녕하세요\n",
            "문자열의 함수를 알아봅니다\n",
            "\n"
          ],
          "name": "stdout"
        }
      ]
    },
    {
      "cell_type": "code",
      "metadata": {
        "id": "PNBXRJjsl3f9",
        "outputId": "9a134e5f-4d9f-46fe-b28c-40e35c764507"
      },
      "source": [
        "print(input_a.strip())"
      ],
      "execution_count": null,
      "outputs": [
        {
          "output_type": "stream",
          "text": [
            "안녕하세요\n",
            "문자열의 함수를 알아봅니다\n"
          ],
          "name": "stdout"
        }
      ]
    },
    {
      "cell_type": "code",
      "metadata": {
        "id": "Yrtq3evol3f9",
        "outputId": "bae66a3d-2394-46c6-8ab0-f6d9eb5c65ef"
      },
      "source": [
        "print(input_a.lstrip())"
      ],
      "execution_count": null,
      "outputs": [
        {
          "output_type": "stream",
          "text": [
            "안녕하세요\n",
            "문자열의 함수를 알아봅니다\n",
            "\n"
          ],
          "name": "stdout"
        }
      ]
    },
    {
      "cell_type": "code",
      "metadata": {
        "id": "gXKX_WhNl3f9",
        "outputId": "ba3889e5-f2e0-486c-ef4f-19e2b9248852"
      },
      "source": [
        "print(input_a)"
      ],
      "execution_count": null,
      "outputs": [
        {
          "output_type": "stream",
          "text": [
            "\n",
            "    안녕하세요\n",
            "문자열의 함수를 알아봅니다\n",
            "\n"
          ],
          "name": "stdout"
        }
      ]
    },
    {
      "cell_type": "markdown",
      "metadata": {
        "id": "KkE2Tgvkl3f9"
      },
      "source": [
        "## 문자열의 구성 파악하기 : isOO( )"
      ]
    },
    {
      "cell_type": "markdown",
      "metadata": {
        "id": "CNNLzl7Zl3f9"
      },
      "source": [
        "##### 문자열이 소문자로만 구성되어 있는지, 알파벳으로만 구성되어있는지, \n",
        "##### 숫자로만 구성되어 있는지 등을 확인할 때는 is로 시작하는 이름의 함수를 사용합니다."
      ]
    },
    {
      "cell_type": "markdown",
      "metadata": {
        "id": "qPYAYrK8l3f-"
      },
      "source": [
        "##### isalnum( ) : 문자열이 알파벳 또는 숫자로만 구성되어 있는지 확인합니다.\n",
        "##### isalpha( ) : 문자열이 알파벳으로만 구성되어  있는지 확인합니다.\n",
        "##### isidentifier( ) : 문자열이 식별자로 사용할 수 있는지 확인합니다.\n",
        "##### isdecimal( ) : 문자열이 숫자로 인식될 수 있는지 확인합니다.\n",
        "##### isdigit( ) : 문자열이 정수 형태인지 확인합니다.\n",
        "##### isspace( ) : 문자열이 공백으로만 구성되어 있는지 확인합니다.\n",
        "##### islower( ) : 문자열이 소문자로만 구성되어 있는지 확인합니다.\n",
        "##### isupper( ) : 문자열이 대문자로만 구성되어 있는지 확인합니다."
      ]
    },
    {
      "cell_type": "code",
      "metadata": {
        "id": "aURHb5EEl3f-",
        "outputId": "addf0c55-a377-47ea-dbdb-127d9cc286ae"
      },
      "source": [
        "print(\"TrainA10\".isalnum())\n",
        "print(\"10\".isdigit())"
      ],
      "execution_count": null,
      "outputs": [
        {
          "output_type": "stream",
          "text": [
            "True\n",
            "True\n"
          ],
          "name": "stdout"
        }
      ]
    },
    {
      "cell_type": "markdown",
      "metadata": {
        "id": "NEkzpUxFl3f-"
      },
      "source": [
        "## 문자열 찾기 : find( )와 rfind( )"
      ]
    },
    {
      "cell_type": "markdown",
      "metadata": {
        "id": "EI_o4j3Fl3f-"
      },
      "source": [
        "##### find( ) : 왼쪽부터 찾아서 처음 등장하는 위치를 찾습니다.\n",
        "##### rfind( ) : 오른쪽부터 찾아서 처음 등장하는 위치를 찾습니다. "
      ]
    },
    {
      "cell_type": "code",
      "metadata": {
        "id": "VkZZVjfzl3f-",
        "outputId": "f908d2bf-72b1-40c2-cbb8-29a9d80f0d4a"
      },
      "source": [
        "output_a = \"안녕안녕하세요\".find(\"안녕\")\n",
        "print(output_a)"
      ],
      "execution_count": null,
      "outputs": [
        {
          "output_type": "stream",
          "text": [
            "0\n"
          ],
          "name": "stdout"
        }
      ]
    },
    {
      "cell_type": "code",
      "metadata": {
        "id": "IXQ7vHLPl3f_",
        "outputId": "8c0a3e78-97ba-4e6d-86a0-04c8217fc611"
      },
      "source": [
        "output_b = \"안녕안녕하세요\".rfind(\"안녕\")\n",
        "print(output_b)"
      ],
      "execution_count": null,
      "outputs": [
        {
          "output_type": "stream",
          "text": [
            "2\n"
          ],
          "name": "stdout"
        }
      ]
    },
    {
      "cell_type": "markdown",
      "metadata": {
        "id": "PcSG5cu5l3f_"
      },
      "source": [
        "##### 0 1 2 3 4 5 6\n",
        "##### 안녕안녕하세요"
      ]
    },
    {
      "cell_type": "markdown",
      "metadata": {
        "id": "KpM4Ai-9l3f_"
      },
      "source": [
        "## 문자열과 in 연산자"
      ]
    },
    {
      "cell_type": "markdown",
      "metadata": {
        "id": "ew5Y67DVl3f_"
      },
      "source": [
        "##### in 연산자 : 문자열 내부에 어떤 문자열이 있는지 확인"
      ]
    },
    {
      "cell_type": "code",
      "metadata": {
        "id": "ec3nDHRCl3f_",
        "outputId": "afd0e90c-99d5-418d-ae63-546d6d85cab5"
      },
      "source": [
        "print(\"안녕\" in \"안녕하세요\")"
      ],
      "execution_count": null,
      "outputs": [
        {
          "output_type": "stream",
          "text": [
            "True\n"
          ],
          "name": "stdout"
        }
      ]
    },
    {
      "cell_type": "code",
      "metadata": {
        "id": "hsV6TSUql3f_",
        "outputId": "ac0547e5-850e-471a-81f4-98ee6eeafd64"
      },
      "source": [
        "print(\"잘자\" in \"안녕하세요\")"
      ],
      "execution_count": null,
      "outputs": [
        {
          "output_type": "stream",
          "text": [
            "False\n"
          ],
          "name": "stdout"
        }
      ]
    },
    {
      "cell_type": "markdown",
      "metadata": {
        "id": "BAHIJAwrl3gA"
      },
      "source": [
        "## 문자열 자르기 : split( )"
      ]
    },
    {
      "cell_type": "markdown",
      "metadata": {
        "id": "TKZgBO91l3gA"
      },
      "source": [
        "##### split( ) : 문자열을 특정한 문자로 자를 때 사용"
      ]
    },
    {
      "cell_type": "code",
      "metadata": {
        "id": "ax-ytGWul3gA",
        "outputId": "38a7b0be-9fdb-488f-ebe0-5295b3e15742"
      },
      "source": [
        "a = \"10 20 30 40 50\".split(\" \")\n",
        "print(a)"
      ],
      "execution_count": null,
      "outputs": [
        {
          "output_type": "stream",
          "text": [
            "['10', '20', '30', '40', '50']\n"
          ],
          "name": "stdout"
        }
      ]
    },
    {
      "cell_type": "code",
      "metadata": {
        "id": "k_cnFvhbl3gA"
      },
      "source": [
        ""
      ],
      "execution_count": null,
      "outputs": []
    }
  ]
}