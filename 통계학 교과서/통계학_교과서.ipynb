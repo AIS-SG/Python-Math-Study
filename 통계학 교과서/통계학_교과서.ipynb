{
  "nbformat": 4,
  "nbformat_minor": 0,
  "metadata": {
    "kernelspec": {
      "display_name": "Python 3",
      "language": "python",
      "name": "python3"
    },
    "colab": {
      "name": "통계학 교과서ipynb",
      "provenance": [],
      "toc_visible": true
    }
  },
  "cells": [
    {
      "cell_type": "markdown",
      "metadata": {
        "id": "dMZEZnH3lxb6"
      },
      "source": [
        "# 파이썬을 이용한 데이터 분석\n",
        "## 제작자 : AIS-SG\n",
        "### 참고자료 : 파이썬으로 배우는 통계학 교과서"
      ]
    },
    {
      "cell_type": "markdown",
      "metadata": {
        "id": "epRpMlEElxb7"
      },
      "source": [
        "### 통계 처리와 scipy"
      ]
    },
    {
      "cell_type": "code",
      "metadata": {
        "colab": {
          "base_uri": "https://localhost:8080/",
          "height": 35
        },
        "id": "zUnqUJdRlxb8",
        "outputId": "23002f50-73d7-4bba-aed6-9c89a8608e4e"
      },
      "source": [
        "import numpy as np\n",
        "import scipy as sp\n",
        "\n",
        "# 표시 자리수의 지정\n",
        "%precision 3"
      ],
      "execution_count": null,
      "outputs": [
        {
          "output_type": "execute_result",
          "data": {
            "application/vnd.google.colaboratory.intrinsic+json": {
              "type": "string"
            },
            "text/plain": [
              "'%.3f'"
            ]
          },
          "metadata": {
            "tags": []
          },
          "execution_count": 1
        }
      ]
    },
    {
      "cell_type": "markdown",
      "metadata": {
        "id": "op5D92ehlxb8"
      },
      "source": [
        "### 1 변수 데이터와 numpy 배열"
      ]
    },
    {
      "cell_type": "code",
      "metadata": {
        "colab": {
          "base_uri": "https://localhost:8080/"
        },
        "id": "qBoDG4mrlxb9",
        "outputId": "655d8916-a7c6-40a9-e5e3-ed5fddd6d4b6"
      },
      "source": [
        "fish_data = np.array([2,3,3,4,4,4,4,5,5,6])\n",
        "fish_data"
      ],
      "execution_count": null,
      "outputs": [
        {
          "output_type": "execute_result",
          "data": {
            "text/plain": [
              "array([2, 3, 3, 4, 4, 4, 4, 5, 5, 6])"
            ]
          },
          "metadata": {
            "tags": []
          },
          "execution_count": 2
        }
      ]
    },
    {
      "cell_type": "markdown",
      "metadata": {
        "id": "5AgJWIMIlxb9"
      },
      "source": [
        "### 구현 : 총과 샘플 크기"
      ]
    },
    {
      "cell_type": "code",
      "metadata": {
        "colab": {
          "base_uri": "https://localhost:8080/"
        },
        "id": "1iOwGIFnlxb9",
        "outputId": "08f0998e-5a1b-4d29-a957-e025330eaf38"
      },
      "source": [
        "# 총\n",
        "sp.sum(fish_data)"
      ],
      "execution_count": null,
      "outputs": [
        {
          "output_type": "stream",
          "text": [
            "/usr/local/lib/python3.6/dist-packages/ipykernel_launcher.py:2: DeprecationWarning: scipy.sum is deprecated and will be removed in SciPy 2.0.0, use numpy.sum instead\n",
            "  \n"
          ],
          "name": "stderr"
        },
        {
          "output_type": "execute_result",
          "data": {
            "text/plain": [
              "40"
            ]
          },
          "metadata": {
            "tags": []
          },
          "execution_count": 3
        }
      ]
    },
    {
      "cell_type": "code",
      "metadata": {
        "colab": {
          "base_uri": "https://localhost:8080/"
        },
        "id": "mvbv6tkdlxb9",
        "outputId": "dc27b609-c97a-419c-89f9-663e7c106414"
      },
      "source": [
        "# 참조\n",
        "np.sum(fish_data)"
      ],
      "execution_count": null,
      "outputs": [
        {
          "output_type": "execute_result",
          "data": {
            "text/plain": [
              "40"
            ]
          },
          "metadata": {
            "tags": []
          },
          "execution_count": 4
        }
      ]
    },
    {
      "cell_type": "code",
      "metadata": {
        "colab": {
          "base_uri": "https://localhost:8080/"
        },
        "id": "OZLMq2ZLlxb9",
        "outputId": "2b5833ab-1ac4-4af2-ba33-9bae4ba4cdc2"
      },
      "source": [
        "# 참고\n",
        "fish_data.sum()"
      ],
      "execution_count": null,
      "outputs": [
        {
          "output_type": "execute_result",
          "data": {
            "text/plain": [
              "40"
            ]
          },
          "metadata": {
            "tags": []
          },
          "execution_count": 5
        }
      ]
    },
    {
      "cell_type": "code",
      "metadata": {
        "colab": {
          "base_uri": "https://localhost:8080/"
        },
        "id": "rABoeTprlxb-",
        "outputId": "7a7b404e-875f-4ba3-d99f-0fc455ec410c"
      },
      "source": [
        "# 참조\n",
        "sum(fish_data)"
      ],
      "execution_count": null,
      "outputs": [
        {
          "output_type": "execute_result",
          "data": {
            "text/plain": [
              "40"
            ]
          },
          "metadata": {
            "tags": []
          },
          "execution_count": 6
        }
      ]
    },
    {
      "cell_type": "code",
      "metadata": {
        "colab": {
          "base_uri": "https://localhost:8080/"
        },
        "id": "WTq-VQVblxb-",
        "outputId": "8a8c599d-942e-4f2e-ef69-6e739be95278"
      },
      "source": [
        "# 샘플 크기\n",
        "len(fish_data)"
      ],
      "execution_count": null,
      "outputs": [
        {
          "output_type": "execute_result",
          "data": {
            "text/plain": [
              "10"
            ]
          },
          "metadata": {
            "tags": []
          },
          "execution_count": 7
        }
      ]
    },
    {
      "cell_type": "markdown",
      "metadata": {
        "id": "l5F8JjL_lxb-"
      },
      "source": [
        "### 구현 : 평균 (기대 값)"
      ]
    },
    {
      "cell_type": "code",
      "metadata": {
        "colab": {
          "base_uri": "https://localhost:8080/"
        },
        "id": "ovs4S1gllxb-",
        "outputId": "a15925c5-f3c1-431d-8371-24c96dff2813"
      },
      "source": [
        "# 평균치의 계산\n",
        "N = len(fish_data) # 길이\n",
        "sum_value = sp.sum(fish_data) \n",
        "mu = sum_value / N\n",
        "mu"
      ],
      "execution_count": null,
      "outputs": [
        {
          "output_type": "stream",
          "text": [
            "/usr/local/lib/python3.6/dist-packages/ipykernel_launcher.py:3: DeprecationWarning: scipy.sum is deprecated and will be removed in SciPy 2.0.0, use numpy.sum instead\n",
            "  This is separate from the ipykernel package so we can avoid doing imports until\n"
          ],
          "name": "stderr"
        },
        {
          "output_type": "execute_result",
          "data": {
            "text/plain": [
              "4.000"
            ]
          },
          "metadata": {
            "tags": []
          },
          "execution_count": 8
        }
      ]
    },
    {
      "cell_type": "code",
      "metadata": {
        "colab": {
          "base_uri": "https://localhost:8080/"
        },
        "id": "K3hFXMr4lxb_",
        "outputId": "de4ecfc2-35d4-44d4-c084-5e3410ae5984"
      },
      "source": [
        "# 함수를 사용하여 평균 값 계산\n",
        "sp.mean(fish_data)"
      ],
      "execution_count": null,
      "outputs": [
        {
          "output_type": "stream",
          "text": [
            "/usr/local/lib/python3.6/dist-packages/ipykernel_launcher.py:2: DeprecationWarning: scipy.mean is deprecated and will be removed in SciPy 2.0.0, use numpy.mean instead\n",
            "  \n"
          ],
          "name": "stderr"
        },
        {
          "output_type": "execute_result",
          "data": {
            "text/plain": [
              "4.000"
            ]
          },
          "metadata": {
            "tags": []
          },
          "execution_count": 9
        }
      ]
    },
    {
      "cell_type": "markdown",
      "metadata": {
        "id": "FLlTbi5Alxb_"
      },
      "source": [
        "### 구현 : 표본 분산"
      ]
    },
    {
      "cell_type": "code",
      "metadata": {
        "colab": {
          "base_uri": "https://localhost:8080/"
        },
        "id": "TaKmiadWlxb_",
        "outputId": "ebadb48b-c649-4549-bd5f-03ec4eca438d"
      },
      "source": [
        "# 흩어진 표본\n",
        "sigma_2_sample = sp.sum((fish_data - mu) ** 2) / N\n",
        "sigma_2_sample"
      ],
      "execution_count": null,
      "outputs": [
        {
          "output_type": "stream",
          "text": [
            "/usr/local/lib/python3.6/dist-packages/ipykernel_launcher.py:2: DeprecationWarning: scipy.sum is deprecated and will be removed in SciPy 2.0.0, use numpy.sum instead\n",
            "  \n"
          ],
          "name": "stderr"
        },
        {
          "output_type": "execute_result",
          "data": {
            "text/plain": [
              "1.200"
            ]
          },
          "metadata": {
            "tags": []
          },
          "execution_count": 10
        }
      ]
    },
    {
      "cell_type": "code",
      "metadata": {
        "colab": {
          "base_uri": "https://localhost:8080/"
        },
        "id": "mgw42ck2lxb_",
        "outputId": "58f5b1f7-2230-4d33-fd9e-0967b4b824fe"
      },
      "source": [
        "fish_data"
      ],
      "execution_count": null,
      "outputs": [
        {
          "output_type": "execute_result",
          "data": {
            "text/plain": [
              "array([2, 3, 3, 4, 4, 4, 4, 5, 5, 6])"
            ]
          },
          "metadata": {
            "tags": []
          },
          "execution_count": 11
        }
      ]
    },
    {
      "cell_type": "code",
      "metadata": {
        "colab": {
          "base_uri": "https://localhost:8080/"
        },
        "id": "upYCQtpIlxb_",
        "outputId": "f9d74980-921b-4232-d7b7-9e19a8d8de56"
      },
      "source": [
        "fish_data - mu"
      ],
      "execution_count": null,
      "outputs": [
        {
          "output_type": "execute_result",
          "data": {
            "text/plain": [
              "array([-2., -1., -1.,  0.,  0.,  0.,  0.,  1.,  1.,  2.])"
            ]
          },
          "metadata": {
            "tags": []
          },
          "execution_count": 12
        }
      ]
    },
    {
      "cell_type": "code",
      "metadata": {
        "colab": {
          "base_uri": "https://localhost:8080/"
        },
        "id": "kq9UBGAnlxb_",
        "outputId": "a6ccefa4-05e3-48b6-b95e-b0f596960de3"
      },
      "source": [
        "(fish_data - mu) ** 2"
      ],
      "execution_count": null,
      "outputs": [
        {
          "output_type": "execute_result",
          "data": {
            "text/plain": [
              "array([4., 1., 1., 0., 0., 0., 0., 1., 1., 4.])"
            ]
          },
          "metadata": {
            "tags": []
          },
          "execution_count": 13
        }
      ]
    },
    {
      "cell_type": "code",
      "metadata": {
        "colab": {
          "base_uri": "https://localhost:8080/"
        },
        "id": "oF7gwpZylxcA",
        "outputId": "9b3abc03-3fb2-4e35-c3a6-a97ef4750f00"
      },
      "source": [
        "sp.sum((fish_data - mu) ** 2)"
      ],
      "execution_count": null,
      "outputs": [
        {
          "output_type": "stream",
          "text": [
            "/usr/local/lib/python3.6/dist-packages/ipykernel_launcher.py:1: DeprecationWarning: scipy.sum is deprecated and will be removed in SciPy 2.0.0, use numpy.sum instead\n",
            "  \"\"\"Entry point for launching an IPython kernel.\n"
          ],
          "name": "stderr"
        },
        {
          "output_type": "execute_result",
          "data": {
            "text/plain": [
              "12.000"
            ]
          },
          "metadata": {
            "tags": []
          },
          "execution_count": 14
        }
      ]
    },
    {
      "cell_type": "code",
      "metadata": {
        "colab": {
          "base_uri": "https://localhost:8080/"
        },
        "id": "mypsAUS9lxcA",
        "outputId": "49d87943-8be4-404d-e98f-2484f70aed9d"
      },
      "source": [
        "# 함수를 사용한 표본 분산\n",
        "sp.var(fish_data, ddof = 0)"
      ],
      "execution_count": null,
      "outputs": [
        {
          "output_type": "stream",
          "text": [
            "/usr/local/lib/python3.6/dist-packages/ipykernel_launcher.py:2: DeprecationWarning: scipy.var is deprecated and will be removed in SciPy 2.0.0, use numpy.var instead\n",
            "  \n"
          ],
          "name": "stderr"
        },
        {
          "output_type": "execute_result",
          "data": {
            "text/plain": [
              "1.200"
            ]
          },
          "metadata": {
            "tags": []
          },
          "execution_count": 15
        }
      ]
    },
    {
      "cell_type": "markdown",
      "metadata": {
        "id": "_FhuLI-OlxcA"
      },
      "source": [
        "### 구현 : 불편 분산"
      ]
    },
    {
      "cell_type": "code",
      "metadata": {
        "colab": {
          "base_uri": "https://localhost:8080/"
        },
        "id": "n5b2eZZhlxcA",
        "outputId": "0a697c0f-c8d3-4277-ebaa-4d5aa5d0339c"
      },
      "source": [
        "# 부분적이지 않음\n",
        "sigma_2 = sp.sum((fish_data - mu) ** 2) / (N - 1)\n",
        "sigma_2"
      ],
      "execution_count": null,
      "outputs": [
        {
          "output_type": "stream",
          "text": [
            "/usr/local/lib/python3.6/dist-packages/ipykernel_launcher.py:2: DeprecationWarning: scipy.sum is deprecated and will be removed in SciPy 2.0.0, use numpy.sum instead\n",
            "  \n"
          ],
          "name": "stderr"
        },
        {
          "output_type": "execute_result",
          "data": {
            "text/plain": [
              "1.333"
            ]
          },
          "metadata": {
            "tags": []
          },
          "execution_count": 16
        }
      ]
    },
    {
      "cell_type": "code",
      "metadata": {
        "colab": {
          "base_uri": "https://localhost:8080/"
        },
        "id": "Cm22tOOHlxcA",
        "outputId": "33bf031c-4a5e-479f-f80c-bfafcce443b1"
      },
      "source": [
        "# 부분적이지 않음\n",
        "sp.var(fish_data, ddof = 1)"
      ],
      "execution_count": null,
      "outputs": [
        {
          "output_type": "stream",
          "text": [
            "/usr/local/lib/python3.6/dist-packages/ipykernel_launcher.py:2: DeprecationWarning: scipy.var is deprecated and will be removed in SciPy 2.0.0, use numpy.var instead\n",
            "  \n"
          ],
          "name": "stderr"
        },
        {
          "output_type": "execute_result",
          "data": {
            "text/plain": [
              "1.333"
            ]
          },
          "metadata": {
            "tags": []
          },
          "execution_count": 17
        }
      ]
    },
    {
      "cell_type": "markdown",
      "metadata": {
        "id": "OE__goTslxcA"
      },
      "source": [
        "### 구현 : 표준 편차"
      ]
    },
    {
      "cell_type": "code",
      "metadata": {
        "colab": {
          "base_uri": "https://localhost:8080/"
        },
        "id": "rBgFrNlClxcB",
        "outputId": "ce754a86-02bc-45f0-d93d-0837cf55dbe9"
      },
      "source": [
        "# 표준 편차\n",
        "sigma = sp.sqrt(sigma_2)\n",
        "sigma"
      ],
      "execution_count": null,
      "outputs": [
        {
          "output_type": "stream",
          "text": [
            "/usr/local/lib/python3.6/dist-packages/ipykernel_launcher.py:2: DeprecationWarning: scipy.sqrt is deprecated and will be removed in SciPy 2.0.0, use numpy.lib.scimath.sqrt instead\n",
            "  \n"
          ],
          "name": "stderr"
        },
        {
          "output_type": "execute_result",
          "data": {
            "text/plain": [
              "1.155"
            ]
          },
          "metadata": {
            "tags": []
          },
          "execution_count": 18
        }
      ]
    },
    {
      "cell_type": "code",
      "metadata": {
        "colab": {
          "base_uri": "https://localhost:8080/"
        },
        "id": "j6TGJ73xlxcB",
        "outputId": "12568b7d-d037-4920-db96-126fef33e8ff"
      },
      "source": [
        "# 함수를 사용한 표준 편차\n",
        "sp.std(fish_data, ddof = 1)"
      ],
      "execution_count": null,
      "outputs": [
        {
          "output_type": "stream",
          "text": [
            "/usr/local/lib/python3.6/dist-packages/ipykernel_launcher.py:2: DeprecationWarning: scipy.std is deprecated and will be removed in SciPy 2.0.0, use numpy.std instead\n",
            "  \n"
          ],
          "name": "stderr"
        },
        {
          "output_type": "execute_result",
          "data": {
            "text/plain": [
              "1.155"
            ]
          },
          "metadata": {
            "tags": []
          },
          "execution_count": 19
        }
      ]
    },
    {
      "cell_type": "markdown",
      "metadata": {
        "id": "NVzfZ-WmlxcB"
      },
      "source": [
        "### 보충 : 표준화"
      ]
    },
    {
      "cell_type": "code",
      "metadata": {
        "colab": {
          "base_uri": "https://localhost:8080/"
        },
        "id": "1aB0De50lxcB",
        "outputId": "426255bd-68f0-4f1d-861c-fc27b8dd2886"
      },
      "source": [
        "fish_data - mu"
      ],
      "execution_count": null,
      "outputs": [
        {
          "output_type": "execute_result",
          "data": {
            "text/plain": [
              "array([-2., -1., -1.,  0.,  0.,  0.,  0.,  1.,  1.,  2.])"
            ]
          },
          "metadata": {
            "tags": []
          },
          "execution_count": 20
        }
      ]
    },
    {
      "cell_type": "code",
      "metadata": {
        "colab": {
          "base_uri": "https://localhost:8080/"
        },
        "id": "FWrxI7WGlxcB",
        "outputId": "194cf38c-419b-4df2-ed35-f6b18695e110"
      },
      "source": [
        "sp.mean(fish_data - mu)"
      ],
      "execution_count": null,
      "outputs": [
        {
          "output_type": "stream",
          "text": [
            "/usr/local/lib/python3.6/dist-packages/ipykernel_launcher.py:1: DeprecationWarning: scipy.mean is deprecated and will be removed in SciPy 2.0.0, use numpy.mean instead\n",
            "  \"\"\"Entry point for launching an IPython kernel.\n"
          ],
          "name": "stderr"
        },
        {
          "output_type": "execute_result",
          "data": {
            "text/plain": [
              "0.000"
            ]
          },
          "metadata": {
            "tags": []
          },
          "execution_count": 21
        }
      ]
    },
    {
      "cell_type": "code",
      "metadata": {
        "colab": {
          "base_uri": "https://localhost:8080/"
        },
        "id": "10oc4EWClxcB",
        "outputId": "8d172b49-3ccc-457e-8caf-72e54dd3e8bc"
      },
      "source": [
        "fish_data / sigma"
      ],
      "execution_count": null,
      "outputs": [
        {
          "output_type": "execute_result",
          "data": {
            "text/plain": [
              "array([1.732, 2.598, 2.598, 3.464, 3.464, 3.464, 3.464, 4.33 , 4.33 ,\n",
              "       5.196])"
            ]
          },
          "metadata": {
            "tags": []
          },
          "execution_count": 22
        }
      ]
    },
    {
      "cell_type": "code",
      "metadata": {
        "colab": {
          "base_uri": "https://localhost:8080/"
        },
        "id": "mWooSzTQlxcB",
        "outputId": "1b15c7b2-85d5-4d1e-fb1e-8f956ec8393f"
      },
      "source": [
        "sp.std(fish_data / sigma, ddof = 1)"
      ],
      "execution_count": null,
      "outputs": [
        {
          "output_type": "stream",
          "text": [
            "/usr/local/lib/python3.6/dist-packages/ipykernel_launcher.py:1: DeprecationWarning: scipy.std is deprecated and will be removed in SciPy 2.0.0, use numpy.std instead\n",
            "  \"\"\"Entry point for launching an IPython kernel.\n"
          ],
          "name": "stderr"
        },
        {
          "output_type": "execute_result",
          "data": {
            "text/plain": [
              "1.000"
            ]
          },
          "metadata": {
            "tags": []
          },
          "execution_count": 23
        }
      ]
    },
    {
      "cell_type": "code",
      "metadata": {
        "colab": {
          "base_uri": "https://localhost:8080/"
        },
        "id": "2Fo-q1g2lxcB",
        "outputId": "0a6c00f6-2e3a-4d12-e88d-2728e6099a36"
      },
      "source": [
        "standard = (fish_data - mu) / sigma\n",
        "standard"
      ],
      "execution_count": null,
      "outputs": [
        {
          "output_type": "execute_result",
          "data": {
            "text/plain": [
              "array([-1.732, -0.866, -0.866,  0.   ,  0.   ,  0.   ,  0.   ,  0.866,\n",
              "        0.866,  1.732])"
            ]
          },
          "metadata": {
            "tags": []
          },
          "execution_count": 24
        }
      ]
    },
    {
      "cell_type": "code",
      "metadata": {
        "colab": {
          "base_uri": "https://localhost:8080/"
        },
        "id": "IARSxM89lxcC",
        "outputId": "762695ad-28f1-49b7-cbe1-d34abc077bde"
      },
      "source": [
        "sp.mean(standard)"
      ],
      "execution_count": null,
      "outputs": [
        {
          "output_type": "stream",
          "text": [
            "/usr/local/lib/python3.6/dist-packages/ipykernel_launcher.py:1: DeprecationWarning: scipy.mean is deprecated and will be removed in SciPy 2.0.0, use numpy.mean instead\n",
            "  \"\"\"Entry point for launching an IPython kernel.\n"
          ],
          "name": "stderr"
        },
        {
          "output_type": "execute_result",
          "data": {
            "text/plain": [
              "0.000"
            ]
          },
          "metadata": {
            "tags": []
          },
          "execution_count": 25
        }
      ]
    },
    {
      "cell_type": "code",
      "metadata": {
        "colab": {
          "base_uri": "https://localhost:8080/"
        },
        "id": "PpaxAHqblxcC",
        "outputId": "23e9ea05-9c56-4d58-8f20-a1adfdeaad23"
      },
      "source": [
        "sp.std(standard, ddof = 1)"
      ],
      "execution_count": null,
      "outputs": [
        {
          "output_type": "stream",
          "text": [
            "/usr/local/lib/python3.6/dist-packages/ipykernel_launcher.py:1: DeprecationWarning: scipy.std is deprecated and will be removed in SciPy 2.0.0, use numpy.std instead\n",
            "  \"\"\"Entry point for launching an IPython kernel.\n"
          ],
          "name": "stderr"
        },
        {
          "output_type": "execute_result",
          "data": {
            "text/plain": [
              "1.000"
            ]
          },
          "metadata": {
            "tags": []
          },
          "execution_count": 26
        }
      ]
    },
    {
      "cell_type": "markdown",
      "metadata": {
        "id": "BrQtAGgLlxcC"
      },
      "source": [
        "### 보충 : 기타 통계"
      ]
    },
    {
      "cell_type": "code",
      "metadata": {
        "colab": {
          "base_uri": "https://localhost:8080/"
        },
        "id": "usoazej2lxcC",
        "outputId": "824815b4-b0ce-42e0-d7cf-f55cb45e0c16"
      },
      "source": [
        "# 최대\n",
        "sp.amax(fish_data)"
      ],
      "execution_count": null,
      "outputs": [
        {
          "output_type": "stream",
          "text": [
            "/usr/local/lib/python3.6/dist-packages/ipykernel_launcher.py:2: DeprecationWarning: scipy.amax is deprecated and will be removed in SciPy 2.0.0, use numpy.amax instead\n",
            "  \n"
          ],
          "name": "stderr"
        },
        {
          "output_type": "execute_result",
          "data": {
            "text/plain": [
              "6"
            ]
          },
          "metadata": {
            "tags": []
          },
          "execution_count": 27
        }
      ]
    },
    {
      "cell_type": "code",
      "metadata": {
        "colab": {
          "base_uri": "https://localhost:8080/"
        },
        "id": "obbcjcTVlxcC",
        "outputId": "c134005d-eead-4fd7-e296-75f293c3894f"
      },
      "source": [
        "# 최소\n",
        "sp.amin(fish_data)"
      ],
      "execution_count": null,
      "outputs": [
        {
          "output_type": "stream",
          "text": [
            "/usr/local/lib/python3.6/dist-packages/ipykernel_launcher.py:2: DeprecationWarning: scipy.amin is deprecated and will be removed in SciPy 2.0.0, use numpy.amin instead\n",
            "  \n"
          ],
          "name": "stderr"
        },
        {
          "output_type": "execute_result",
          "data": {
            "text/plain": [
              "2"
            ]
          },
          "metadata": {
            "tags": []
          },
          "execution_count": 28
        }
      ]
    },
    {
      "cell_type": "code",
      "metadata": {
        "colab": {
          "base_uri": "https://localhost:8080/"
        },
        "id": "Cxh8fysflxcC",
        "outputId": "9aa38517-9ff4-40a1-e770-01886fcf5472"
      },
      "source": [
        "# 중앙값\n",
        "sp.median(fish_data)"
      ],
      "execution_count": null,
      "outputs": [
        {
          "output_type": "stream",
          "text": [
            "/usr/local/lib/python3.6/dist-packages/ipykernel_launcher.py:2: DeprecationWarning: scipy.median is deprecated and will be removed in SciPy 2.0.0, use numpy.median instead\n",
            "  \n"
          ],
          "name": "stderr"
        },
        {
          "output_type": "execute_result",
          "data": {
            "text/plain": [
              "4.000"
            ]
          },
          "metadata": {
            "tags": []
          },
          "execution_count": 29
        }
      ]
    },
    {
      "cell_type": "code",
      "metadata": {
        "id": "lH1YbfatlxcC"
      },
      "source": [
        "fish_data_2 = np.array([2,3,3,4,4,4,4,5,5,100])"
      ],
      "execution_count": null,
      "outputs": []
    },
    {
      "cell_type": "code",
      "metadata": {
        "colab": {
          "base_uri": "https://localhost:8080/"
        },
        "id": "lAp5jYDMlxcC",
        "outputId": "6d45f94e-1aaf-42d6-a8d8-f48973f2a167"
      },
      "source": [
        "sp.mean(fish_data_2) # 평균값"
      ],
      "execution_count": null,
      "outputs": [
        {
          "output_type": "stream",
          "text": [
            "/usr/local/lib/python3.6/dist-packages/ipykernel_launcher.py:1: DeprecationWarning: scipy.mean is deprecated and will be removed in SciPy 2.0.0, use numpy.mean instead\n",
            "  \"\"\"Entry point for launching an IPython kernel.\n"
          ],
          "name": "stderr"
        },
        {
          "output_type": "execute_result",
          "data": {
            "text/plain": [
              "13.400"
            ]
          },
          "metadata": {
            "tags": []
          },
          "execution_count": 31
        }
      ]
    },
    {
      "cell_type": "code",
      "metadata": {
        "colab": {
          "base_uri": "https://localhost:8080/"
        },
        "id": "8Sj2yhWslxcD",
        "outputId": "7358ac81-7430-4c47-ed59-d929cdd170f2"
      },
      "source": [
        "sp.median(fish_data_2) # 중앙값"
      ],
      "execution_count": null,
      "outputs": [
        {
          "output_type": "stream",
          "text": [
            "/usr/local/lib/python3.6/dist-packages/ipykernel_launcher.py:1: DeprecationWarning: scipy.median is deprecated and will be removed in SciPy 2.0.0, use numpy.median instead\n",
            "  \"\"\"Entry point for launching an IPython kernel.\n"
          ],
          "name": "stderr"
        },
        {
          "output_type": "execute_result",
          "data": {
            "text/plain": [
              "4.000"
            ]
          },
          "metadata": {
            "tags": []
          },
          "execution_count": 32
        }
      ]
    },
    {
      "cell_type": "markdown",
      "metadata": {
        "id": "eLJ-AYUElxcD"
      },
      "source": [
        "### 구현 : scipy.stats와 사 분위 점"
      ]
    },
    {
      "cell_type": "code",
      "metadata": {
        "colab": {
          "base_uri": "https://localhost:8080/"
        },
        "id": "NdK18GkYlxcD",
        "outputId": "c63c3ed3-a249-4c97-a70a-f1a0d7a43aaf"
      },
      "source": [
        "from scipy import stats\n",
        "\n",
        "fish_data_3 = np.array([1,2,3,4,5,6,7,8,9])\n",
        "stats.scoreatpercentile(fish_data_3, 25)"
      ],
      "execution_count": null,
      "outputs": [
        {
          "output_type": "execute_result",
          "data": {
            "text/plain": [
              "3.000"
            ]
          },
          "metadata": {
            "tags": []
          },
          "execution_count": 33
        }
      ]
    },
    {
      "cell_type": "code",
      "metadata": {
        "colab": {
          "base_uri": "https://localhost:8080/"
        },
        "id": "HTQdFW0wlxcD",
        "outputId": "76efe08b-1576-4266-d8ac-2c9e8702d670"
      },
      "source": [
        "stats.scoreatpercentile(fish_data_3, 75)"
      ],
      "execution_count": null,
      "outputs": [
        {
          "output_type": "execute_result",
          "data": {
            "text/plain": [
              "7.000"
            ]
          },
          "metadata": {
            "tags": []
          },
          "execution_count": 34
        }
      ]
    },
    {
      "cell_type": "markdown",
      "metadata": {
        "id": "faWLcF-Cmxog"
      },
      "source": [
        "# 3 부 Python에 의한 데이터 분석 | Python으로 배우는 통계학 입문\r\n",
        "\r\n",
        "## 2 장 Python 의한 기술 통계 : 다변량 데이터 편"
      ]
    },
    {
      "cell_type": "markdown",
      "metadata": {
        "id": "ubgs3zGIm8rg"
      },
      "source": [
        "### 다변량 데이터와 pandas 데이터 프레임"
      ]
    },
    {
      "cell_type": "code",
      "metadata": {
        "colab": {
          "base_uri": "https://localhost:8080/",
          "height": 35
        },
        "id": "Zd2nhkwIm2Tk",
        "outputId": "b793e573-1289-4a97-d211-3260ac12a37e"
      },
      "source": [
        "# 수치 계산에 사용하는 라이브러리\r\n",
        "import pandas as pd\r\n",
        "import scipy as sp\r\n",
        "\r\n",
        "# 표시 자리수의 지정\r\n",
        "%precision 3"
      ],
      "execution_count": null,
      "outputs": [
        {
          "output_type": "execute_result",
          "data": {
            "application/vnd.google.colaboratory.intrinsic+json": {
              "type": "string"
            },
            "text/plain": [
              "'%.3f'"
            ]
          },
          "metadata": {
            "tags": []
          },
          "execution_count": 38
        }
      ]
    },
    {
      "cell_type": "markdown",
      "metadata": {
        "id": "bfnYPdZznJLM"
      },
      "source": [
        "### 그룹 별 통계"
      ]
    },
    {
      "cell_type": "code",
      "metadata": {
        "colab": {
          "base_uri": "https://localhost:8080/"
        },
        "id": "SpMmnoOpnJCZ",
        "outputId": "a7ee9b72-1ea6-4273-d307-7143eeb5e946"
      },
      "source": [
        "fish_multi = pd.read_csv(\"3-2-1-fish_multi.csv\")\r\n",
        "print(fish_multi)"
      ],
      "execution_count": null,
      "outputs": [
        {
          "output_type": "stream",
          "text": [
            "  species  length\n",
            "0       A       2\n",
            "1       A       3\n",
            "2       A       4\n",
            "3       B       6\n",
            "4       B       8\n",
            "5       B      10\n"
          ],
          "name": "stdout"
        }
      ]
    },
    {
      "cell_type": "code",
      "metadata": {
        "colab": {
          "base_uri": "https://localhost:8080/"
        },
        "id": "o3cCWkvZnKos",
        "outputId": "25c59f1c-9672-44f1-f7c6-7fa46aa102e6"
      },
      "source": [
        "# 생선의 종류마다의 집계\r\n",
        "group = fish_multi.groupby(\"species\")\r\n",
        "print(group.mean())"
      ],
      "execution_count": null,
      "outputs": [
        {
          "output_type": "stream",
          "text": [
            "         length\n",
            "species        \n",
            "A             3\n",
            "B             8\n"
          ],
          "name": "stdout"
        }
      ]
    },
    {
      "cell_type": "code",
      "metadata": {
        "colab": {
          "base_uri": "https://localhost:8080/"
        },
        "id": "RmVAzzhfnc4k",
        "outputId": "4ca2ab14-cdd0-46c7-c197-efce37d0a58b"
      },
      "source": [
        "print(group.std(ddof = 1))"
      ],
      "execution_count": null,
      "outputs": [
        {
          "output_type": "stream",
          "text": [
            "         length\n",
            "species        \n",
            "A           1.0\n",
            "B           2.0\n"
          ],
          "name": "stdout"
        }
      ]
    },
    {
      "cell_type": "code",
      "metadata": {
        "colab": {
          "base_uri": "https://localhost:8080/",
          "height": 173
        },
        "id": "hdaEv5A7nesU",
        "outputId": "2d748f60-c242-4a76-a4c7-57253121a825"
      },
      "source": [
        "group.describe()"
      ],
      "execution_count": null,
      "outputs": [
        {
          "output_type": "execute_result",
          "data": {
            "text/html": [
              "<div>\n",
              "<style scoped>\n",
              "    .dataframe tbody tr th:only-of-type {\n",
              "        vertical-align: middle;\n",
              "    }\n",
              "\n",
              "    .dataframe tbody tr th {\n",
              "        vertical-align: top;\n",
              "    }\n",
              "\n",
              "    .dataframe thead tr th {\n",
              "        text-align: left;\n",
              "    }\n",
              "\n",
              "    .dataframe thead tr:last-of-type th {\n",
              "        text-align: right;\n",
              "    }\n",
              "</style>\n",
              "<table border=\"1\" class=\"dataframe\">\n",
              "  <thead>\n",
              "    <tr>\n",
              "      <th></th>\n",
              "      <th colspan=\"8\" halign=\"left\">length</th>\n",
              "    </tr>\n",
              "    <tr>\n",
              "      <th></th>\n",
              "      <th>count</th>\n",
              "      <th>mean</th>\n",
              "      <th>std</th>\n",
              "      <th>min</th>\n",
              "      <th>25%</th>\n",
              "      <th>50%</th>\n",
              "      <th>75%</th>\n",
              "      <th>max</th>\n",
              "    </tr>\n",
              "    <tr>\n",
              "      <th>species</th>\n",
              "      <th></th>\n",
              "      <th></th>\n",
              "      <th></th>\n",
              "      <th></th>\n",
              "      <th></th>\n",
              "      <th></th>\n",
              "      <th></th>\n",
              "      <th></th>\n",
              "    </tr>\n",
              "  </thead>\n",
              "  <tbody>\n",
              "    <tr>\n",
              "      <th>A</th>\n",
              "      <td>3.0</td>\n",
              "      <td>3.0</td>\n",
              "      <td>1.0</td>\n",
              "      <td>2.0</td>\n",
              "      <td>2.5</td>\n",
              "      <td>3.0</td>\n",
              "      <td>3.5</td>\n",
              "      <td>4.0</td>\n",
              "    </tr>\n",
              "    <tr>\n",
              "      <th>B</th>\n",
              "      <td>3.0</td>\n",
              "      <td>8.0</td>\n",
              "      <td>2.0</td>\n",
              "      <td>6.0</td>\n",
              "      <td>7.0</td>\n",
              "      <td>8.0</td>\n",
              "      <td>9.0</td>\n",
              "      <td>10.0</td>\n",
              "    </tr>\n",
              "  </tbody>\n",
              "</table>\n",
              "</div>"
            ],
            "text/plain": [
              "        length                                    \n",
              "         count mean  std  min  25%  50%  75%   max\n",
              "species                                           \n",
              "A          3.0  3.0  1.0  2.0  2.5  3.0  3.5   4.0\n",
              "B          3.0  8.0  2.0  6.0  7.0  8.0  9.0  10.0"
            ]
          },
          "metadata": {
            "tags": []
          },
          "execution_count": 42
        }
      ]
    },
    {
      "cell_type": "markdown",
      "metadata": {
        "id": "TaCMZLvlnhas"
      },
      "source": [
        "### 구현 : 크로스 일람표"
      ]
    },
    {
      "cell_type": "code",
      "metadata": {
        "colab": {
          "base_uri": "https://localhost:8080/"
        },
        "id": "BmhrBL7ynfGE",
        "outputId": "827447a3-8d51-4898-b870-41b4b0d491c3"
      },
      "source": [
        "shoes = pd.read_csv(\"3-2-2-shoes.csv\")\r\n",
        "print(shoes)"
      ],
      "execution_count": null,
      "outputs": [
        {
          "output_type": "stream",
          "text": [
            "   store color  sales\n",
            "0  tokyo  blue     10\n",
            "1  tokyo   red     15\n",
            "2  osaka  blue     13\n",
            "3  osaka   red      9\n"
          ],
          "name": "stdout"
        }
      ]
    },
    {
      "cell_type": "code",
      "metadata": {
        "colab": {
          "base_uri": "https://localhost:8080/"
        },
        "id": "mhEJBF0_nik9",
        "outputId": "3c50b607-4654-4fe3-be5f-b9c9121ff9ef"
      },
      "source": [
        "cross = pd.pivot_table(\r\n",
        "    data = shoes,\r\n",
        "    values = \"sales\",\r\n",
        "    aggfunc = \"sum\",\r\n",
        "    index = \"store\",\r\n",
        "    columns = \"color\"\r\n",
        ")\r\n",
        "print(cross)"
      ],
      "execution_count": null,
      "outputs": [
        {
          "output_type": "stream",
          "text": [
            "color  blue  red\n",
            "store           \n",
            "osaka    13    9\n",
            "tokyo    10   15\n"
          ],
          "name": "stdout"
        }
      ]
    },
    {
      "cell_type": "markdown",
      "metadata": {
        "id": "lfi7F32Inm8k"
      },
      "source": [
        "### 공분산을 계산하기위한 데이터로드"
      ]
    },
    {
      "cell_type": "code",
      "metadata": {
        "colab": {
          "base_uri": "https://localhost:8080/"
        },
        "id": "0dAsk7OFnj2k",
        "outputId": "4ab9c080-348c-47f4-aec3-0db525b9111d"
      },
      "source": [
        "cov_data = pd.read_csv(\"3-2-3-cov.csv\")\r\n",
        "print(cov_data)"
      ],
      "execution_count": null,
      "outputs": [
        {
          "output_type": "stream",
          "text": [
            "      x   y\n",
            "0  18.5  34\n",
            "1  18.7  39\n",
            "2  19.1  41\n",
            "3  19.7  38\n",
            "4  21.5  45\n",
            "5  21.7  41\n",
            "6  21.8  52\n",
            "7  22.0  44\n",
            "8  23.4  44\n",
            "9  23.8  49\n"
          ],
          "name": "stdout"
        }
      ]
    },
    {
      "cell_type": "code",
      "metadata": {
        "colab": {
          "base_uri": "https://localhost:8080/"
        },
        "id": "c5gspBsbnoF0",
        "outputId": "90b3b2d4-338d-4fe6-f56c-d1ef47ffa379"
      },
      "source": [
        "# 데이터 검색\r\n",
        "x = cov_data[\"x\"]\r\n",
        "y = cov_data[\"y\"]\r\n",
        "\r\n",
        "# 샘플 크기\r\n",
        "N = len(cov_data)\r\n",
        "\r\n",
        "# 평균치의 계산\r\n",
        "mu_x = sp.mean(x)\r\n",
        "mu_y = sp.mean(y)"
      ],
      "execution_count": null,
      "outputs": [
        {
          "output_type": "stream",
          "text": [
            "/usr/local/lib/python3.6/dist-packages/ipykernel_launcher.py:9: DeprecationWarning: scipy.mean is deprecated and will be removed in SciPy 2.0.0, use numpy.mean instead\n",
            "  if __name__ == '__main__':\n",
            "/usr/local/lib/python3.6/dist-packages/ipykernel_launcher.py:10: DeprecationWarning: scipy.mean is deprecated and will be removed in SciPy 2.0.0, use numpy.mean instead\n",
            "  # Remove the CWD from sys.path while we load stuff.\n"
          ],
          "name": "stderr"
        }
      ]
    },
    {
      "cell_type": "code",
      "metadata": {
        "colab": {
          "base_uri": "https://localhost:8080/"
        },
        "id": "-sVZ29HcnpX8",
        "outputId": "5e7d786c-9424-4b92-9f53-b0719b46beda"
      },
      "source": [
        "# 표본 공분산\r\n",
        "cov_sample = sum((x - mu_x) * (y - mu_y)) / N\r\n",
        "cov_sample"
      ],
      "execution_count": null,
      "outputs": [
        {
          "output_type": "execute_result",
          "data": {
            "text/plain": [
              "6.906"
            ]
          },
          "metadata": {
            "tags": []
          },
          "execution_count": 47
        }
      ]
    },
    {
      "cell_type": "code",
      "metadata": {
        "colab": {
          "base_uri": "https://localhost:8080/"
        },
        "id": "ajn7vmxvnypt",
        "outputId": "7c47b854-0ec0-4056-e3d7-4b3444e76ff0"
      },
      "source": [
        "# 공분산\r\n",
        "cov = sum((x - mu_x) * (y - mu_y)) / (N - 1)\r\n",
        "cov"
      ],
      "execution_count": null,
      "outputs": [
        {
          "output_type": "execute_result",
          "data": {
            "text/plain": [
              "7.673"
            ]
          },
          "metadata": {
            "tags": []
          },
          "execution_count": 48
        }
      ]
    },
    {
      "cell_type": "markdown",
      "metadata": {
        "id": "tnN7ucZXn5qD"
      },
      "source": [
        "### 구현 : 분산 공분산 행렬"
      ]
    },
    {
      "cell_type": "code",
      "metadata": {
        "id": "nOqdxzeGn3NM"
      },
      "source": [
        "# 표본 공분산\r\n",
        "sp.cov(x, y, ddof = 0)"
      ],
      "execution_count": null,
      "outputs": []
    },
    {
      "cell_type": "code",
      "metadata": {
        "colab": {
          "base_uri": "https://localhost:8080/"
        },
        "id": "WKWb5Lrhn63D",
        "outputId": "aa746191-2b4c-4664-fa8e-300cb67255d8"
      },
      "source": [
        "# 편견 공분산\r\n",
        "sp.cov(x, y, ddof = 1)"
      ],
      "execution_count": null,
      "outputs": [
        {
          "output_type": "stream",
          "text": [
            "/usr/local/lib/python3.6/dist-packages/ipykernel_launcher.py:2: DeprecationWarning: scipy.cov is deprecated and will be removed in SciPy 2.0.0, use numpy.cov instead\n",
            "  \n"
          ],
          "name": "stderr"
        },
        {
          "output_type": "execute_result",
          "data": {
            "text/plain": [
              "array([[ 3.646,  7.673],\n",
              "       [ 7.673, 28.011]])"
            ]
          },
          "metadata": {
            "tags": []
          },
          "execution_count": 49
        }
      ]
    },
    {
      "cell_type": "markdown",
      "metadata": {
        "id": "QaUwR8hvoBWK"
      },
      "source": [
        "### 구현 : 피어슨 상관 계수"
      ]
    },
    {
      "cell_type": "code",
      "metadata": {
        "colab": {
          "base_uri": "https://localhost:8080/"
        },
        "id": "vohJvgLloAQ8",
        "outputId": "b4f86da5-e137-403e-b540-2f4de216c488"
      },
      "source": [
        "# 분산의 계산\r\n",
        "sigma_2_x = sp.var(x, ddof = 1)\r\n",
        "sigma_2_y = sp.var(y, ddof = 1)\r\n",
        "\r\n",
        "# 상관 계수\r\n",
        "rho = cov / sp.sqrt(sigma_2_x * sigma_2_y)\r\n",
        "rho"
      ],
      "execution_count": null,
      "outputs": [
        {
          "output_type": "stream",
          "text": [
            "/usr/local/lib/python3.6/dist-packages/ipykernel_launcher.py:2: DeprecationWarning: scipy.var is deprecated and will be removed in SciPy 2.0.0, use numpy.var instead\n",
            "  \n",
            "/usr/local/lib/python3.6/dist-packages/ipykernel_launcher.py:3: DeprecationWarning: scipy.var is deprecated and will be removed in SciPy 2.0.0, use numpy.var instead\n",
            "  This is separate from the ipykernel package so we can avoid doing imports until\n",
            "/usr/local/lib/python3.6/dist-packages/ipykernel_launcher.py:6: DeprecationWarning: scipy.sqrt is deprecated and will be removed in SciPy 2.0.0, use numpy.lib.scimath.sqrt instead\n",
            "  \n"
          ],
          "name": "stderr"
        },
        {
          "output_type": "execute_result",
          "data": {
            "text/plain": [
              "0.759"
            ]
          },
          "metadata": {
            "tags": []
          },
          "execution_count": 50
        }
      ]
    },
    {
      "cell_type": "code",
      "metadata": {
        "colab": {
          "base_uri": "https://localhost:8080/"
        },
        "id": "yfwOsbxaoIMs",
        "outputId": "983f121c-2c8d-4e84-86e3-9dcb520f48d8"
      },
      "source": [
        "# 분산의 계산\r\n",
        "sigma_2_x_sample = sp.var(x, ddof = 0)\r\n",
        "sigma_2_y_sample = sp.var(y, ddof = 0)\r\n",
        "\r\n",
        "# 상관 계수\r\n",
        "cov_sample / sp.sqrt(sigma_2_x_sample * sigma_2_y_sample)"
      ],
      "execution_count": null,
      "outputs": [
        {
          "output_type": "stream",
          "text": [
            "/usr/local/lib/python3.6/dist-packages/ipykernel_launcher.py:2: DeprecationWarning: scipy.var is deprecated and will be removed in SciPy 2.0.0, use numpy.var instead\n",
            "  \n",
            "/usr/local/lib/python3.6/dist-packages/ipykernel_launcher.py:3: DeprecationWarning: scipy.var is deprecated and will be removed in SciPy 2.0.0, use numpy.var instead\n",
            "  This is separate from the ipykernel package so we can avoid doing imports until\n",
            "/usr/local/lib/python3.6/dist-packages/ipykernel_launcher.py:6: DeprecationWarning: scipy.sqrt is deprecated and will be removed in SciPy 2.0.0, use numpy.lib.scimath.sqrt instead\n",
            "  \n"
          ],
          "name": "stderr"
        },
        {
          "output_type": "execute_result",
          "data": {
            "text/plain": [
              "0.759"
            ]
          },
          "metadata": {
            "tags": []
          },
          "execution_count": 51
        }
      ]
    },
    {
      "cell_type": "code",
      "metadata": {
        "colab": {
          "base_uri": "https://localhost:8080/"
        },
        "id": "6kdUq7dmoNyM",
        "outputId": "565c88bf-4775-4ecb-ba13-221707dfd56f"
      },
      "source": [
        "# 상관 행렬\r\n",
        "sp.corrcoef(x, y)"
      ],
      "execution_count": null,
      "outputs": [
        {
          "output_type": "stream",
          "text": [
            "/usr/local/lib/python3.6/dist-packages/ipykernel_launcher.py:2: DeprecationWarning: scipy.corrcoef is deprecated and will be removed in SciPy 2.0.0, use numpy.corrcoef instead\n",
            "  \n"
          ],
          "name": "stderr"
        },
        {
          "output_type": "execute_result",
          "data": {
            "text/plain": [
              "array([[1.   , 0.759],\n",
              "       [0.759, 1.   ]])"
            ]
          },
          "metadata": {
            "tags": []
          },
          "execution_count": 52
        }
      ]
    },
    {
      "cell_type": "markdown",
      "metadata": {
        "id": "LIHZlYlfqAIE"
      },
      "source": [
        "# 3 부 Python에 의한 데이터 분석 | Python으로 배우는 통계학 입문\r\n",
        "\r\n",
        "## 3 장 matplotlib · seaborn에 의한 데이터의 시각화"
      ]
    },
    {
      "cell_type": "markdown",
      "metadata": {
        "id": "8lu2VVsCqC8M"
      },
      "source": [
        "### 구현 : 시각화를위한 준비"
      ]
    },
    {
      "cell_type": "code",
      "metadata": {
        "id": "qQyXUtxfqAdU"
      },
      "source": [
        "# 수치 계산에 사용하는 라이브러리\r\n",
        "import numpy as np\r\n",
        "import pandas as pd\r\n",
        "\r\n",
        "# 표시 자리수의 지정\r\n",
        "%precision 3\r\n",
        "\r\n",
        "# 그래프를 그리는 라이브러리\r\n",
        "from matplotlib import pyplot as plt\r\n",
        "\r\n",
        "# 차트를 jupyter Notebook에 표시하기위한 지정\r\n",
        "%matplotlib inline"
      ],
      "execution_count": null,
      "outputs": []
    },
    {
      "cell_type": "markdown",
      "metadata": {
        "id": "e8kDsw_VqNGf"
      },
      "source": [
        "### 구현 : pyplot 의한 선 그래프"
      ]
    },
    {
      "cell_type": "code",
      "metadata": {
        "id": "ZP9DrGNtqMN8"
      },
      "source": [
        "x = np.array([0,1,2,3,4,5,6,7,8,9])\r\n",
        "y = np.array([2,3,4,3,5,4,6,7,4,8])"
      ],
      "execution_count": null,
      "outputs": []
    },
    {
      "cell_type": "code",
      "metadata": {
        "colab": {
          "base_uri": "https://localhost:8080/",
          "height": 313
        },
        "id": "AaVrfTKXqRHL",
        "outputId": "568b9408-1d55-4b8d-94de-19c76ad4bb90"
      },
      "source": [
        "plt.plot(x, y, color = 'black')\r\n",
        "plt.title(\"lineplot matplotlib\")\r\n",
        "plt.xlabel(\"x\")\r\n",
        "plt.ylabel(\"y\")"
      ],
      "execution_count": null,
      "outputs": [
        {
          "output_type": "execute_result",
          "data": {
            "text/plain": [
              "Text(0, 0.5, 'y')"
            ]
          },
          "metadata": {
            "tags": []
          },
          "execution_count": 55
        },
        {
          "output_type": "display_data",
          "data": {
            "image/png": "[encoded data removed]",
            "text/plain": [
              "<Figure size 432x288 with 1 Axes>"
            ]
          },
          "metadata": {
            "tags": [],
            "needs_background": "light"
          }
        }
      ]
    },
    {
      "cell_type": "markdown",
      "metadata": {
        "id": "OMhicd5rqcki"
      },
      "source": [
        "### 구현 : seaborn + pyplot 의한 선 그래프"
      ]
    },
    {
      "cell_type": "code",
      "metadata": {
        "id": "BnopR1QWqSdr"
      },
      "source": [
        "import seaborn as sns\r\n",
        "sns.set()"
      ],
      "execution_count": null,
      "outputs": []
    },
    {
      "cell_type": "code",
      "metadata": {
        "colab": {
          "base_uri": "https://localhost:8080/",
          "height": 319
        },
        "id": "nyaMt8QXqd98",
        "outputId": "cc9b9ffd-3c89-4dbb-eb6d-827326081556"
      },
      "source": [
        "plt.plot(x, y, color = 'black')\r\n",
        "plt.title(\"lineplot seaborn\")\r\n",
        "plt.xlabel(\"x\")\r\n",
        "plt.ylabel(\"y\")"
      ],
      "execution_count": null,
      "outputs": [
        {
          "output_type": "execute_result",
          "data": {
            "text/plain": [
              "Text(0, 0.5, 'y')"
            ]
          },
          "metadata": {
            "tags": []
          },
          "execution_count": 57
        },
        {
          "output_type": "display_data",
          "data": {
            "image/png": "[encoded data removed]",
            "text/plain": [
              "<Figure size 432x288 with 1 Axes>"
            ]
          },
          "metadata": {
            "tags": []
          }
        }
      ]
    },
    {
      "cell_type": "markdown",
      "metadata": {
        "id": "JN-zimJ3qewA"
      },
      "source": [
        "### 구현 : seaborn 의한 히스토그램"
      ]
    },
    {
      "cell_type": "code",
      "metadata": {
        "colab": {
          "base_uri": "https://localhost:8080/"
        },
        "id": "jQpaSzJaqiu0",
        "outputId": "4f7b651f-da88-4577-b4b0-1e8fc73ecb0e"
      },
      "source": [
        "fish_data = np.array([2,3,3,4,4,4,4,5,5,6])\r\n",
        "fish_data"
      ],
      "execution_count": null,
      "outputs": [
        {
          "output_type": "execute_result",
          "data": {
            "text/plain": [
              "array([2, 3, 3, 4, 4, 4, 4, 5, 5, 6])"
            ]
          },
          "metadata": {
            "tags": []
          },
          "execution_count": 58
        }
      ]
    },
    {
      "cell_type": "code",
      "metadata": {
        "colab": {
          "base_uri": "https://localhost:8080/",
          "height": 342
        },
        "id": "nkJC5VVOqjps",
        "outputId": "3d600ff7-b7d8-472d-a754-73447e007b6c"
      },
      "source": [
        "sns.distplot(fish_data, bins = 5, \r\n",
        "             color = 'black', kde = False)"
      ],
      "execution_count": null,
      "outputs": [
        {
          "output_type": "stream",
          "text": [
            "/usr/local/lib/python3.6/dist-packages/seaborn/distributions.py:2551: FutureWarning: `distplot` is a deprecated function and will be removed in a future version. Please adapt your code to use either `displot` (a figure-level function with similar flexibility) or `histplot` (an axes-level function for histograms).\n",
            "  warnings.warn(msg, FutureWarning)\n"
          ],
          "name": "stderr"
        },
        {
          "output_type": "execute_result",
          "data": {
            "text/plain": [
              "<matplotlib.axes._subplots.AxesSubplot at 0x7f6aca1f1a58>"
            ]
          },
          "metadata": {
            "tags": []
          },
          "execution_count": 59
        },
        {
          "output_type": "display_data",
          "data": {
            "image/png": "[encoded data removed]",
            "text/plain": [
              "<Figure size 432x288 with 1 Axes>"
            ]
          },
          "metadata": {
            "tags": []
          }
        }
      ]
    },
    {
      "cell_type": "markdown",
      "metadata": {
        "id": "hTg-SLetqp45"
      },
      "source": [
        "### 구현 : 커널 밀도 추정에 의한 히스토그램 평활화"
      ]
    },
    {
      "cell_type": "code",
      "metadata": {
        "colab": {
          "base_uri": "https://localhost:8080/",
          "height": 342
        },
        "id": "-KkbtvFWqkY0",
        "outputId": "4ce3fef7-7092-4b29-95db-f05e3ae82f40"
      },
      "source": [
        "sns.distplot(fish_data, bins = 1, \r\n",
        "             color = 'black', kde = False)"
      ],
      "execution_count": null,
      "outputs": [
        {
          "output_type": "stream",
          "text": [
            "/usr/local/lib/python3.6/dist-packages/seaborn/distributions.py:2551: FutureWarning: `distplot` is a deprecated function and will be removed in a future version. Please adapt your code to use either `displot` (a figure-level function with similar flexibility) or `histplot` (an axes-level function for histograms).\n",
            "  warnings.warn(msg, FutureWarning)\n"
          ],
          "name": "stderr"
        },
        {
          "output_type": "execute_result",
          "data": {
            "text/plain": [
              "<matplotlib.axes._subplots.AxesSubplot at 0x7f6aca114780>"
            ]
          },
          "metadata": {
            "tags": []
          },
          "execution_count": 62
        },
        {
          "output_type": "display_data",
          "data": {
            "image/png": "[encoded data removed]",
            "text/plain": [
              "<Figure size 432x288 with 1 Axes>"
            ]
          },
          "metadata": {
            "tags": []
          }
        }
      ]
    },
    {
      "cell_type": "code",
      "metadata": {
        "colab": {
          "base_uri": "https://localhost:8080/",
          "height": 342
        },
        "id": "-7yss3TlqmpM",
        "outputId": "41f0be23-c5bd-4d02-a78a-1250d2d38258"
      },
      "source": [
        "sns.distplot(fish_data, color = 'black')"
      ],
      "execution_count": null,
      "outputs": [
        {
          "output_type": "stream",
          "text": [
            "/usr/local/lib/python3.6/dist-packages/seaborn/distributions.py:2551: FutureWarning: `distplot` is a deprecated function and will be removed in a future version. Please adapt your code to use either `displot` (a figure-level function with similar flexibility) or `histplot` (an axes-level function for histograms).\n",
            "  warnings.warn(msg, FutureWarning)\n"
          ],
          "name": "stderr"
        },
        {
          "output_type": "execute_result",
          "data": {
            "text/plain": [
              "<matplotlib.axes._subplots.AxesSubplot at 0x7f6aca0a9710>"
            ]
          },
          "metadata": {
            "tags": []
          },
          "execution_count": 63
        },
        {
          "output_type": "display_data",
          "data": {
            "image/png": "[encoded data removed]",
            "text/plain": [
              "<Figure size 432x288 with 1 Axes>"
            ]
          },
          "metadata": {
            "tags": []
          }
        }
      ]
    },
    {
      "cell_type": "markdown",
      "metadata": {
        "id": "T2t8B3aMqwx2"
      },
      "source": [
        "### 구현 : 2 변수 데이터에 대한 히스토그램"
      ]
    },
    {
      "cell_type": "code",
      "metadata": {
        "colab": {
          "base_uri": "https://localhost:8080/"
        },
        "id": "Qjlii1DKqtpE",
        "outputId": "0f6cf48b-48b1-4970-8f04-9cbc38879356"
      },
      "source": [
        "fish_multi = pd.read_csv(\"3-3-2-fish_multi_2.csv\")\r\n",
        "print(fish_multi)"
      ],
      "execution_count": null,
      "outputs": [
        {
          "output_type": "stream",
          "text": [
            "   species  length\n",
            "0        A       2\n",
            "1        A       3\n",
            "2        A       3\n",
            "3        A       4\n",
            "4        A       4\n",
            "5        A       4\n",
            "6        A       4\n",
            "7        A       5\n",
            "8        A       5\n",
            "9        A       6\n",
            "10       B       5\n",
            "11       B       6\n",
            "12       B       6\n",
            "13       B       7\n",
            "14       B       7\n",
            "15       B       7\n",
            "16       B       7\n",
            "17       B       8\n",
            "18       B       8\n",
            "19       B       9\n"
          ],
          "name": "stdout"
        }
      ]
    },
    {
      "cell_type": "code",
      "metadata": {
        "colab": {
          "base_uri": "https://localhost:8080/"
        },
        "id": "0FRAhUPaqx8c",
        "outputId": "0f2de13c-adb2-4331-cae6-9884df8c39a9"
      },
      "source": [
        "print(fish_multi.groupby(\"species\").describe())"
      ],
      "execution_count": null,
      "outputs": [
        {
          "output_type": "stream",
          "text": [
            "        length                                          \n",
            "         count mean       std  min   25%  50%   75%  max\n",
            "species                                                 \n",
            "A         10.0  4.0  1.154701  2.0  3.25  4.0  4.75  6.0\n",
            "B         10.0  7.0  1.154701  5.0  6.25  7.0  7.75  9.0\n"
          ],
          "name": "stdout"
        }
      ]
    },
    {
      "cell_type": "code",
      "metadata": {
        "id": "a60fdJzGqy8k"
      },
      "source": [
        "# 데이터를 물고기의 종류별로 분리\r\n",
        "length_a = fish_multi.query('species == \"A\"')[\"length\"]\r\n",
        "length_b = fish_multi.query('species == \"B\"')[\"length\"]"
      ],
      "execution_count": null,
      "outputs": []
    },
    {
      "cell_type": "code",
      "metadata": {
        "colab": {
          "base_uri": "https://localhost:8080/",
          "height": 359
        },
        "id": "GYVHBCZ6q1c0",
        "outputId": "d336a6eb-145d-4359-8004-5da0c356d230"
      },
      "source": [
        "# 히스토그램을 두 그리기\r\n",
        "sns.distplot(length_a, bins = 5, \r\n",
        "             color = 'black', kde = False)\r\n",
        "sns.distplot(length_b, bins = 5, \r\n",
        "             color = 'gray', kde = False)"
      ],
      "execution_count": null,
      "outputs": [
        {
          "output_type": "stream",
          "text": [
            "/usr/local/lib/python3.6/dist-packages/seaborn/distributions.py:2551: FutureWarning: `distplot` is a deprecated function and will be removed in a future version. Please adapt your code to use either `displot` (a figure-level function with similar flexibility) or `histplot` (an axes-level function for histograms).\n",
            "  warnings.warn(msg, FutureWarning)\n"
          ],
          "name": "stderr"
        },
        {
          "output_type": "execute_result",
          "data": {
            "text/plain": [
              "<matplotlib.axes._subplots.AxesSubplot at 0x7f6aca0d0a90>"
            ]
          },
          "metadata": {
            "tags": []
          },
          "execution_count": 67
        },
        {
          "output_type": "display_data",
          "data": {
            "image/png": "[encoded data removed]",
            "text/plain": [
              "<Figure size 432x288 with 1 Axes>"
            ]
          },
          "metadata": {
            "tags": []
          }
        }
      ]
    },
    {
      "cell_type": "markdown",
      "metadata": {
        "id": "kYb5XzuZq5yQ"
      },
      "source": [
        "### 구현 : 상자그림"
      ]
    },
    {
      "cell_type": "code",
      "metadata": {
        "colab": {
          "base_uri": "https://localhost:8080/",
          "height": 303
        },
        "id": "u3_39Gy0q4Pc",
        "outputId": "a4495b67-f9dc-45fb-db39-f597a53235fa"
      },
      "source": [
        "# 상자그림\r\n",
        "sns.boxplot(x = \"species\", y  = \"length\", \r\n",
        "            data = fish_multi, color = 'gray')"
      ],
      "execution_count": null,
      "outputs": [
        {
          "output_type": "execute_result",
          "data": {
            "text/plain": [
              "<matplotlib.axes._subplots.AxesSubplot at 0x7f6ac9f98860>"
            ]
          },
          "metadata": {
            "tags": []
          },
          "execution_count": 68
        },
        {
          "output_type": "display_data",
          "data": {
            "image/png": "[encoded data removed]",
            "text/plain": [
              "<Figure size 432x288 with 1 Axes>"
            ]
          },
          "metadata": {
            "tags": []
          }
        }
      ]
    },
    {
      "cell_type": "code",
      "metadata": {
        "colab": {
          "base_uri": "https://localhost:8080/",
          "height": 173
        },
        "id": "VbpgRpau768x",
        "outputId": "c17260b9-155c-484f-feb6-98cd29c2624a"
      },
      "source": [
        "fish_multi.groupby(\"species\").describe()"
      ],
      "execution_count": null,
      "outputs": [
        {
          "output_type": "execute_result",
          "data": {
            "text/html": [
              "<div>\n",
              "<style scoped>\n",
              "    .dataframe tbody tr th:only-of-type {\n",
              "        vertical-align: middle;\n",
              "    }\n",
              "\n",
              "    .dataframe tbody tr th {\n",
              "        vertical-align: top;\n",
              "    }\n",
              "\n",
              "    .dataframe thead tr th {\n",
              "        text-align: left;\n",
              "    }\n",
              "\n",
              "    .dataframe thead tr:last-of-type th {\n",
              "        text-align: right;\n",
              "    }\n",
              "</style>\n",
              "<table border=\"1\" class=\"dataframe\">\n",
              "  <thead>\n",
              "    <tr>\n",
              "      <th></th>\n",
              "      <th colspan=\"8\" halign=\"left\">length</th>\n",
              "    </tr>\n",
              "    <tr>\n",
              "      <th></th>\n",
              "      <th>count</th>\n",
              "      <th>mean</th>\n",
              "      <th>std</th>\n",
              "      <th>min</th>\n",
              "      <th>25%</th>\n",
              "      <th>50%</th>\n",
              "      <th>75%</th>\n",
              "      <th>max</th>\n",
              "    </tr>\n",
              "    <tr>\n",
              "      <th>species</th>\n",
              "      <th></th>\n",
              "      <th></th>\n",
              "      <th></th>\n",
              "      <th></th>\n",
              "      <th></th>\n",
              "      <th></th>\n",
              "      <th></th>\n",
              "      <th></th>\n",
              "    </tr>\n",
              "  </thead>\n",
              "  <tbody>\n",
              "    <tr>\n",
              "      <th>A</th>\n",
              "      <td>10.0</td>\n",
              "      <td>4.0</td>\n",
              "      <td>1.154701</td>\n",
              "      <td>2.0</td>\n",
              "      <td>3.25</td>\n",
              "      <td>4.0</td>\n",
              "      <td>4.75</td>\n",
              "      <td>6.0</td>\n",
              "    </tr>\n",
              "    <tr>\n",
              "      <th>B</th>\n",
              "      <td>10.0</td>\n",
              "      <td>7.0</td>\n",
              "      <td>1.154701</td>\n",
              "      <td>5.0</td>\n",
              "      <td>6.25</td>\n",
              "      <td>7.0</td>\n",
              "      <td>7.75</td>\n",
              "      <td>9.0</td>\n",
              "    </tr>\n",
              "  </tbody>\n",
              "</table>\n",
              "</div>"
            ],
            "text/plain": [
              "        length                                          \n",
              "         count mean       std  min   25%  50%   75%  max\n",
              "species                                                 \n",
              "A         10.0  4.0  1.154701  2.0  3.25  4.0  4.75  6.0\n",
              "B         10.0  7.0  1.154701  5.0  6.25  7.0  7.75  9.0"
            ]
          },
          "metadata": {
            "tags": []
          },
          "execution_count": 69
        }
      ]
    },
    {
      "cell_type": "markdown",
      "metadata": {
        "id": "nwFzeSMr8CQK"
      },
      "source": [
        "### 구현 : 바이올린 플롯"
      ]
    },
    {
      "cell_type": "code",
      "metadata": {
        "colab": {
          "base_uri": "https://localhost:8080/",
          "height": 303
        },
        "id": "__zvyi6K8CB6",
        "outputId": "aa1e46dd-7941-4ad7-cd92-152807e41ba9"
      },
      "source": [
        "sns.violinplot(x = \"species\", y  = \"length\", \r\n",
        "               data = fish_multi, color = 'gray')"
      ],
      "execution_count": null,
      "outputs": [
        {
          "output_type": "execute_result",
          "data": {
            "text/plain": [
              "<matplotlib.axes._subplots.AxesSubplot at 0x7f6ac9f1de10>"
            ]
          },
          "metadata": {
            "tags": []
          },
          "execution_count": 70
        },
        {
          "output_type": "display_data",
          "data": {
            "image/png": "[encoded data removed]",
            "text/plain": [
              "<Figure size 432x288 with 1 Axes>"
            ]
          },
          "metadata": {
            "tags": []
          }
        }
      ]
    },
    {
      "cell_type": "markdown",
      "metadata": {
        "id": "YtpBhUYn8Iln"
      },
      "source": [
        "### 구현 : 막대 그래프"
      ]
    },
    {
      "cell_type": "code",
      "metadata": {
        "colab": {
          "base_uri": "https://localhost:8080/",
          "height": 305
        },
        "id": "WazwRBQA78T2",
        "outputId": "8c11fa9d-8cc9-4096-9ab6-c468c9993fa0"
      },
      "source": [
        "sns.barplot(x = \"species\", y  = \"length\", \r\n",
        "            data = fish_multi, color = 'gray')"
      ],
      "execution_count": null,
      "outputs": [
        {
          "output_type": "execute_result",
          "data": {
            "text/plain": [
              "<matplotlib.axes._subplots.AxesSubplot at 0x7f6ac9e89518>"
            ]
          },
          "metadata": {
            "tags": []
          },
          "execution_count": 71
        },
        {
          "output_type": "display_data",
          "data": {
            "image/png": "[encoded data removed]",
            "text/plain": [
              "<Figure size 432x288 with 1 Axes>"
            ]
          },
          "metadata": {
            "tags": []
          }
        }
      ]
    },
    {
      "cell_type": "markdown",
      "metadata": {
        "id": "hVIdKHeq8MXH"
      },
      "source": [
        "### 구현 : 분산 형"
      ]
    },
    {
      "cell_type": "code",
      "metadata": {
        "colab": {
          "base_uri": "https://localhost:8080/"
        },
        "id": "UyWT_b_A8KH2",
        "outputId": "e11950b3-c102-477e-e309-79945f213c71"
      },
      "source": [
        "cov_data = pd.read_csv(\"3-2-3-cov.csv\")\r\n",
        "print(cov_data)"
      ],
      "execution_count": null,
      "outputs": [
        {
          "output_type": "stream",
          "text": [
            "      x   y\n",
            "0  18.5  34\n",
            "1  18.7  39\n",
            "2  19.1  41\n",
            "3  19.7  38\n",
            "4  21.5  45\n",
            "5  21.7  41\n",
            "6  21.8  52\n",
            "7  22.0  44\n",
            "8  23.4  44\n",
            "9  23.8  49\n"
          ],
          "name": "stdout"
        }
      ]
    },
    {
      "cell_type": "code",
      "metadata": {
        "colab": {
          "base_uri": "https://localhost:8080/",
          "height": 455
        },
        "id": "8VcwouhP8NTF",
        "outputId": "a635f6ca-78f8-45c2-f730-b5bb04dab35e"
      },
      "source": [
        "sns.jointplot(x = \"x\", y = \"y\", \r\n",
        "              data = cov_data, color = 'black')"
      ],
      "execution_count": null,
      "outputs": [
        {
          "output_type": "execute_result",
          "data": {
            "text/plain": [
              "<seaborn.axisgrid.JointGrid at 0x7f6ac9e898d0>"
            ]
          },
          "metadata": {
            "tags": []
          },
          "execution_count": 73
        },
        {
          "output_type": "display_data",
          "data": {
            "image/png": "[encoded data removed]",
            "text/plain": [
              "<Figure size 432x432 with 3 Axes>"
            ]
          },
          "metadata": {
            "tags": []
          }
        }
      ]
    },
    {
      "cell_type": "markdown",
      "metadata": {
        "id": "34yTmB7A8Pfd"
      },
      "source": [
        "### 구현 : 페어 플롯\r\n"
      ]
    },
    {
      "cell_type": "code",
      "metadata": {
        "colab": {
          "base_uri": "https://localhost:8080/",
          "height": 142
        },
        "id": "-vqPl4E88O1u",
        "outputId": "e35e1467-775f-469f-c5f7-3ef977135d3b"
      },
      "source": [
        "# seaborn 내장 붓꽃의 데이터를 검색\r\n",
        "iris = sns.load_dataset(\"iris\")\r\n",
        "iris.head(n = 3)"
      ],
      "execution_count": null,
      "outputs": [
        {
          "output_type": "execute_result",
          "data": {
            "text/html": [
              "<div>\n",
              "<style scoped>\n",
              "    .dataframe tbody tr th:only-of-type {\n",
              "        vertical-align: middle;\n",
              "    }\n",
              "\n",
              "    .dataframe tbody tr th {\n",
              "        vertical-align: top;\n",
              "    }\n",
              "\n",
              "    .dataframe thead th {\n",
              "        text-align: right;\n",
              "    }\n",
              "</style>\n",
              "<table border=\"1\" class=\"dataframe\">\n",
              "  <thead>\n",
              "    <tr style=\"text-align: right;\">\n",
              "      <th></th>\n",
              "      <th>sepal_length</th>\n",
              "      <th>sepal_width</th>\n",
              "      <th>petal_length</th>\n",
              "      <th>petal_width</th>\n",
              "      <th>species</th>\n",
              "    </tr>\n",
              "  </thead>\n",
              "  <tbody>\n",
              "    <tr>\n",
              "      <th>0</th>\n",
              "      <td>5.1</td>\n",
              "      <td>3.5</td>\n",
              "      <td>1.4</td>\n",
              "      <td>0.2</td>\n",
              "      <td>setosa</td>\n",
              "    </tr>\n",
              "    <tr>\n",
              "      <th>1</th>\n",
              "      <td>4.9</td>\n",
              "      <td>3.0</td>\n",
              "      <td>1.4</td>\n",
              "      <td>0.2</td>\n",
              "      <td>setosa</td>\n",
              "    </tr>\n",
              "    <tr>\n",
              "      <th>2</th>\n",
              "      <td>4.7</td>\n",
              "      <td>3.2</td>\n",
              "      <td>1.3</td>\n",
              "      <td>0.2</td>\n",
              "      <td>setosa</td>\n",
              "    </tr>\n",
              "  </tbody>\n",
              "</table>\n",
              "</div>"
            ],
            "text/plain": [
              "   sepal_length  sepal_width  petal_length  petal_width species\n",
              "0           5.1          3.5           1.4          0.2  setosa\n",
              "1           4.9          3.0           1.4          0.2  setosa\n",
              "2           4.7          3.2           1.3          0.2  setosa"
            ]
          },
          "metadata": {
            "tags": []
          },
          "execution_count": 74
        }
      ]
    },
    {
      "cell_type": "code",
      "metadata": {
        "id": "KERheidc8VYL"
      },
      "source": [
        "# 붓꽃의 종류별 특징 별 평균\r\n",
        "iris.groupby(\"species\").mean()"
      ],
      "execution_count": null,
      "outputs": []
    },
    {
      "cell_type": "code",
      "metadata": {
        "colab": {
          "base_uri": "https://localhost:8080/",
          "height": 585
        },
        "id": "uvyDoR9A8Ytm",
        "outputId": "d4d055e7-633b-4e0c-e5dc-ed76c70f5aff"
      },
      "source": [
        "# 쌍 줄거리\r\n",
        "sns.pairplot(iris, hue=\"species\", palette='gray')"
      ],
      "execution_count": null,
      "outputs": [
        {
          "output_type": "execute_result",
          "data": {
            "text/plain": [
              "<seaborn.axisgrid.PairGrid at 0x7f6ac7518320>"
            ]
          },
          "metadata": {
            "tags": []
          },
          "execution_count": 75
        },
        {
          "output_type": "display_data",
          "data": {
            "image/png": "[encoded data removed]",
            "text/plain": [
              "<Figure size 813.85x720 with 20 Axes>"
            ]
          },
          "metadata": {
            "tags": []
          }
        }
      ]
    },
    {
      "cell_type": "markdown",
      "metadata": {
        "id": "h44pTc6U81Jm"
      },
      "source": [
        "# 3 부 Python에 의한 데이터 분석 | Python으로 배우는 통계학 입문\r\n",
        "\r\n",
        "## 4 장 모집단에서 표본 추출 시뮬레이션"
      ]
    },
    {
      "cell_type": "markdown",
      "metadata": {
        "id": "9NV6Lr_983oe"
      },
      "source": [
        "### 라이브러리 가져 오기"
      ]
    },
    {
      "cell_type": "code",
      "metadata": {
        "id": "IZbbYGlq8cE_"
      },
      "source": [
        "# 수치 계산에 사용하는 라이브러리\r\n",
        "import numpy as np\r\n",
        "import pandas as pd\r\n",
        "import scipy as sp\r\n",
        "from scipy import stats\r\n",
        "\r\n",
        "# 그래프를 그리는 라이브러리\r\n",
        "from matplotlib import pyplot as plt\r\n",
        "import seaborn as sns\r\n",
        "sns.set()\r\n",
        "\r\n",
        "# 표시 자리수의 지정\r\n",
        "%precision 3\r\n",
        "# 차트를 jupyter Notebook에 표시하기위한 지정\r\n",
        "%matplotlib inline"
      ],
      "execution_count": null,
      "outputs": []
    },
    {
      "cell_type": "markdown",
      "metadata": {
        "id": "McAVlunV9AOH"
      },
      "source": [
        "### 5 마리의 물고기 밖에없는 호수에서 표본 추출"
      ]
    },
    {
      "cell_type": "code",
      "metadata": {
        "colab": {
          "base_uri": "https://localhost:8080/"
        },
        "id": "WT1mWdcL8_sO",
        "outputId": "895d8ced-aafe-45fc-e057-8b5d92cee759"
      },
      "source": [
        "fish_5 = np.array([2,3,4,5,6])\r\n",
        "fish_5"
      ],
      "execution_count": null,
      "outputs": [
        {
          "output_type": "execute_result",
          "data": {
            "text/plain": [
              "array([2, 3, 4, 5, 6])"
            ]
          },
          "metadata": {
            "tags": []
          },
          "execution_count": 77
        }
      ]
    },
    {
      "cell_type": "code",
      "metadata": {
        "colab": {
          "base_uri": "https://localhost:8080/"
        },
        "id": "XU6IRoEj9EGW",
        "outputId": "c5ae243e-1885-41b2-992b-371ea7f739cd"
      },
      "source": [
        "# 모집단에서 무작위 추출법\r\n",
        "np.random.choice(fish_5, size = 1, replace = False)"
      ],
      "execution_count": null,
      "outputs": [
        {
          "output_type": "execute_result",
          "data": {
            "text/plain": [
              "array([2])"
            ]
          },
          "metadata": {
            "tags": []
          },
          "execution_count": 78
        }
      ]
    },
    {
      "cell_type": "code",
      "metadata": {
        "id": "ftwUs-AZ9G8u"
      },
      "source": [
        "# 모집단에서 무작위 추출법\r\n",
        "np.random.choice(fish_5, size = 3, replace = False)"
      ],
      "execution_count": null,
      "outputs": []
    },
    {
      "cell_type": "code",
      "metadata": {
        "id": "ICADFuJx9JJi"
      },
      "source": [
        "np.random.choice(fish_5, size = 3, replace = False)"
      ],
      "execution_count": null,
      "outputs": []
    },
    {
      "cell_type": "code",
      "metadata": {
        "colab": {
          "base_uri": "https://localhost:8080/"
        },
        "id": "I73_ett_9KLL",
        "outputId": "41a7f38c-20d0-434b-a545-5c7b37c3432a"
      },
      "source": [
        "# 난수의 종을 지정하면 동일한 난수가 여러 번 나온다\r\n",
        "np.random.seed(1)\r\n",
        "np.random.choice(fish_5, size = 3, replace = False)"
      ],
      "execution_count": null,
      "outputs": [
        {
          "output_type": "execute_result",
          "data": {
            "text/plain": [
              "array([4, 3, 6])"
            ]
          },
          "metadata": {
            "tags": []
          },
          "execution_count": 79
        }
      ]
    },
    {
      "cell_type": "code",
      "metadata": {
        "colab": {
          "base_uri": "https://localhost:8080/"
        },
        "id": "9zAh4ekS9Pjd",
        "outputId": "85594aec-fdd2-4f7f-d1be-0b783c26397d"
      },
      "source": [
        "np.random.seed(1)\r\n",
        "np.random.choice(fish_5, size = 3, replace = False)"
      ],
      "execution_count": null,
      "outputs": [
        {
          "output_type": "execute_result",
          "data": {
            "text/plain": [
              "array([4, 3, 6])"
            ]
          },
          "metadata": {
            "tags": []
          },
          "execution_count": 80
        }
      ]
    },
    {
      "cell_type": "code",
      "metadata": {
        "id": "fG-7d6yt9fgX"
      },
      "source": [
        "# 표본 평균을 계산하는 시뮬레이션\r\n",
        "np.random.seed(1)\r\n",
        "sp.mean(\r\n",
        "    np.random.choice(fish_5, size = 3, replace = False)\r\n",
        ")"
      ],
      "execution_count": null,
      "outputs": []
    },
    {
      "cell_type": "markdown",
      "metadata": {
        "id": "HvgK5uUw9k_1"
      },
      "source": [
        "### 더 많은 물고기가 호수에서 표본 추출"
      ]
    },
    {
      "cell_type": "code",
      "metadata": {
        "colab": {
          "base_uri": "https://localhost:8080/"
        },
        "id": "VytUCWjg9lQO",
        "outputId": "07ee388a-1df9-490c-fec9-c7c3eff1fbac"
      },
      "source": [
        "# 많은 물고기가있는 모집단\r\n",
        "fish_100000 = pd.read_csv(\r\n",
        "    \"3-4-1-fish_length_100000.csv\")[\"length\"]\r\n",
        "fish_100000.head()"
      ],
      "execution_count": null,
      "outputs": [
        {
          "output_type": "execute_result",
          "data": {
            "text/plain": [
              "0    5.297442\n",
              "1    3.505566\n",
              "2    3.572546\n",
              "3    3.135979\n",
              "4    4.689275\n",
              "Name: length, dtype: float64"
            ]
          },
          "metadata": {
            "tags": []
          },
          "execution_count": 81
        }
      ]
    },
    {
      "cell_type": "code",
      "metadata": {
        "colab": {
          "base_uri": "https://localhost:8080/"
        },
        "id": "ooTK0l_t9olX",
        "outputId": "44fd2a1d-eecf-4376-b89d-20ce500ca9c4"
      },
      "source": [
        "len(fish_100000)"
      ],
      "execution_count": null,
      "outputs": [
        {
          "output_type": "execute_result",
          "data": {
            "text/plain": [
              "100000"
            ]
          },
          "metadata": {
            "tags": []
          },
          "execution_count": 82
        }
      ]
    },
    {
      "cell_type": "code",
      "metadata": {
        "colab": {
          "base_uri": "https://localhost:8080/"
        },
        "id": "FcdmluE19pW2",
        "outputId": "bafbe270-286d-4425-b3f9-0ec02066507a"
      },
      "source": [
        "# 표본 추출 시뮬레이션\r\n",
        "sampling_result = np.random.choice(\r\n",
        "    fish_100000, size = 10, replace = False)\r\n",
        "sampling_result"
      ],
      "execution_count": null,
      "outputs": [
        {
          "output_type": "execute_result",
          "data": {
            "text/plain": [
              "array([4.091, 5.465, 3.426, 4.287, 4.244, 4.282, 4.29 , 5.087, 2.769,\n",
              "       5.296])"
            ]
          },
          "metadata": {
            "tags": []
          },
          "execution_count": 83
        }
      ]
    },
    {
      "cell_type": "code",
      "metadata": {
        "id": "8zsS6lK99sNe"
      },
      "source": [
        "# 표본 평균\r\n",
        "sp.mean(sampling_result)"
      ],
      "execution_count": null,
      "outputs": []
    },
    {
      "cell_type": "markdown",
      "metadata": {
        "id": "Qi9FEs4J9vBm"
      },
      "source": [
        "### 모집단 분포"
      ]
    },
    {
      "cell_type": "code",
      "metadata": {
        "colab": {
          "base_uri": "https://localhost:8080/"
        },
        "id": "LFaFx3q29xZv",
        "outputId": "7b07c526-c8de-49ef-b768-910975b6e0b2"
      },
      "source": [
        "sp.mean(fish_100000)"
      ],
      "execution_count": null,
      "outputs": [
        {
          "output_type": "stream",
          "text": [
            "/usr/local/lib/python3.6/dist-packages/ipykernel_launcher.py:1: DeprecationWarning: scipy.mean is deprecated and will be removed in SciPy 2.0.0, use numpy.mean instead\n",
            "  \"\"\"Entry point for launching an IPython kernel.\n"
          ],
          "name": "stderr"
        },
        {
          "output_type": "execute_result",
          "data": {
            "text/plain": [
              "4.000"
            ]
          },
          "metadata": {
            "tags": []
          },
          "execution_count": 84
        }
      ]
    },
    {
      "cell_type": "code",
      "metadata": {
        "colab": {
          "base_uri": "https://localhost:8080/"
        },
        "id": "c4yrb1k49yrG",
        "outputId": "9a0a3def-6e5a-4b1a-a5d5-432eda328a34"
      },
      "source": [
        "sp.std(fish_100000, ddof = 0)"
      ],
      "execution_count": null,
      "outputs": [
        {
          "output_type": "stream",
          "text": [
            "/usr/local/lib/python3.6/dist-packages/ipykernel_launcher.py:1: DeprecationWarning: scipy.std is deprecated and will be removed in SciPy 2.0.0, use numpy.std instead\n",
            "  \"\"\"Entry point for launching an IPython kernel.\n"
          ],
          "name": "stderr"
        },
        {
          "output_type": "execute_result",
          "data": {
            "text/plain": [
              "0.800"
            ]
          },
          "metadata": {
            "tags": []
          },
          "execution_count": 85
        }
      ]
    },
    {
      "cell_type": "code",
      "metadata": {
        "colab": {
          "base_uri": "https://localhost:8080/"
        },
        "id": "1OYPXrVW9zj2",
        "outputId": "deff9432-7456-4e2d-daf6-9beebd1297fd"
      },
      "source": [
        "sp.var(fish_100000, ddof = 0)"
      ],
      "execution_count": null,
      "outputs": [
        {
          "output_type": "stream",
          "text": [
            "/usr/local/lib/python3.6/dist-packages/ipykernel_launcher.py:1: DeprecationWarning: scipy.var is deprecated and will be removed in SciPy 2.0.0, use numpy.var instead\n",
            "  \"\"\"Entry point for launching an IPython kernel.\n"
          ],
          "name": "stderr"
        },
        {
          "output_type": "execute_result",
          "data": {
            "text/plain": [
              "0.640"
            ]
          },
          "metadata": {
            "tags": []
          },
          "execution_count": 86
        }
      ]
    },
    {
      "cell_type": "code",
      "metadata": {
        "colab": {
          "base_uri": "https://localhost:8080/",
          "height": 359
        },
        "id": "k2lvuYgT90hG",
        "outputId": "69ee891c-6566-43d1-fd90-31c44d602aba"
      },
      "source": [
        "sns.distplot(fish_100000, kde = False, color = 'black')"
      ],
      "execution_count": null,
      "outputs": [
        {
          "output_type": "stream",
          "text": [
            "/usr/local/lib/python3.6/dist-packages/seaborn/distributions.py:2551: FutureWarning: `distplot` is a deprecated function and will be removed in a future version. Please adapt your code to use either `displot` (a figure-level function with similar flexibility) or `histplot` (an axes-level function for histograms).\n",
            "  warnings.warn(msg, FutureWarning)\n"
          ],
          "name": "stderr"
        },
        {
          "output_type": "execute_result",
          "data": {
            "text/plain": [
              "<matplotlib.axes._subplots.AxesSubplot at 0x7f6ac6a58438>"
            ]
          },
          "metadata": {
            "tags": []
          },
          "execution_count": 87
        },
        {
          "output_type": "display_data",
          "data": {
            "image/png": "[encoded data removed]",
            "text/plain": [
              "<Figure size 432x288 with 1 Axes>"
            ]
          },
          "metadata": {
            "tags": [],
            "needs_background": "light"
          }
        }
      ]
    },
    {
      "cell_type": "markdown",
      "metadata": {
        "id": "dyAxFliV93K-"
      },
      "source": [
        "### 모집단 분포와 정규 분포의 확률 밀도 함수의 비교"
      ]
    },
    {
      "cell_type": "code",
      "metadata": {
        "colab": {
          "base_uri": "https://localhost:8080/"
        },
        "id": "e5Emr3HL91ZG",
        "outputId": "e4d0c297-9739-4956-881f-eaa74ebb9308"
      },
      "source": [
        "x = np.arange(start = 1, stop = 7.1, step = 0.1)\r\n",
        "x"
      ],
      "execution_count": null,
      "outputs": [
        {
          "output_type": "execute_result",
          "data": {
            "text/plain": [
              "array([1. , 1.1, 1.2, 1.3, 1.4, 1.5, 1.6, 1.7, 1.8, 1.9, 2. , 2.1, 2.2,\n",
              "       2.3, 2.4, 2.5, 2.6, 2.7, 2.8, 2.9, 3. , 3.1, 3.2, 3.3, 3.4, 3.5,\n",
              "       3.6, 3.7, 3.8, 3.9, 4. , 4.1, 4.2, 4.3, 4.4, 4.5, 4.6, 4.7, 4.8,\n",
              "       4.9, 5. , 5.1, 5.2, 5.3, 5.4, 5.5, 5.6, 5.7, 5.8, 5.9, 6. , 6.1,\n",
              "       6.2, 6.3, 6.4, 6.5, 6.6, 6.7, 6.8, 6.9, 7. ])"
            ]
          },
          "metadata": {
            "tags": []
          },
          "execution_count": 88
        }
      ]
    },
    {
      "cell_type": "code",
      "metadata": {
        "colab": {
          "base_uri": "https://localhost:8080/"
        },
        "id": "ae-Ig4TH94bt",
        "outputId": "22025ab5-f350-4ed3-9d04-c3673ebabd7d"
      },
      "source": [
        "stats.norm.pdf(x = x, loc = 4, scale = 0.8)"
      ],
      "execution_count": null,
      "outputs": [
        {
          "output_type": "execute_result",
          "data": {
            "text/plain": [
              "array([4.407e-04, 6.988e-04, 1.091e-03, 1.676e-03, 2.536e-03, 3.778e-03,\n",
              "       5.540e-03, 7.998e-03, 1.137e-02, 1.591e-02, 2.191e-02, 2.971e-02,\n",
              "       3.967e-02, 5.215e-02, 6.749e-02, 8.598e-02, 1.078e-01, 1.332e-01,\n",
              "       1.619e-01, 1.938e-01, 2.283e-01, 2.648e-01, 3.025e-01, 3.401e-01,\n",
              "       3.764e-01, 4.102e-01, 4.401e-01, 4.648e-01, 4.833e-01, 4.948e-01,\n",
              "       4.987e-01, 4.948e-01, 4.833e-01, 4.648e-01, 4.401e-01, 4.102e-01,\n",
              "       3.764e-01, 3.401e-01, 3.025e-01, 2.648e-01, 2.283e-01, 1.938e-01,\n",
              "       1.619e-01, 1.332e-01, 1.078e-01, 8.598e-02, 6.749e-02, 5.215e-02,\n",
              "       3.967e-02, 2.971e-02, 2.191e-02, 1.591e-02, 1.137e-02, 7.998e-03,\n",
              "       5.540e-03, 3.778e-03, 2.536e-03, 1.676e-03, 1.091e-03, 6.988e-04,\n",
              "       4.407e-04])"
            ]
          },
          "metadata": {
            "tags": []
          },
          "execution_count": 89
        }
      ]
    },
    {
      "cell_type": "code",
      "metadata": {
        "colab": {
          "base_uri": "https://localhost:8080/",
          "height": 286
        },
        "id": "Ksp6Jc8x96Em",
        "outputId": "b33716f4-5a68-42e1-d08f-d7791d04f720"
      },
      "source": [
        "plt.plot(x, \r\n",
        "         stats.norm.pdf(x = x, loc = 4, scale = 0.8), \r\n",
        "         color = 'black')"
      ],
      "execution_count": null,
      "outputs": [
        {
          "output_type": "execute_result",
          "data": {
            "text/plain": [
              "[<matplotlib.lines.Line2D at 0x7f6ac50be898>]"
            ]
          },
          "metadata": {
            "tags": []
          },
          "execution_count": 90
        },
        {
          "output_type": "display_data",
          "data": {
            "image/png": "[encoded data removed]",
            "text/plain": [
              "<Figure size 432x288 with 1 Axes>"
            ]
          },
          "metadata": {
            "tags": [],
            "needs_background": "light"
          }
        }
      ]
    },
    {
      "cell_type": "code",
      "metadata": {
        "colab": {
          "base_uri": "https://localhost:8080/",
          "height": 359
        },
        "id": "TPQTTkxe97HV",
        "outputId": "aa7b1f90-45e8-4de3-b3b9-62ca8e942656"
      },
      "source": [
        "# 히스토그램 확률 밀도를 쌓는다\r\n",
        "sns.distplot(fish_100000, kde = False, \r\n",
        "             norm_hist = True, color = 'black')\r\n",
        "plt.plot(x, \r\n",
        "         stats.norm.pdf(x = x, loc = 4, scale = 0.8), \r\n",
        "         color = 'black')"
      ],
      "execution_count": null,
      "outputs": [
        {
          "output_type": "stream",
          "text": [
            "/usr/local/lib/python3.6/dist-packages/seaborn/distributions.py:2551: FutureWarning: `distplot` is a deprecated function and will be removed in a future version. Please adapt your code to use either `displot` (a figure-level function with similar flexibility) or `histplot` (an axes-level function for histograms).\n",
            "  warnings.warn(msg, FutureWarning)\n"
          ],
          "name": "stderr"
        },
        {
          "output_type": "execute_result",
          "data": {
            "text/plain": [
              "[<matplotlib.lines.Line2D at 0x7f6ac5062ef0>]"
            ]
          },
          "metadata": {
            "tags": []
          },
          "execution_count": 91
        },
        {
          "output_type": "display_data",
          "data": {
            "image/png": "[encoded data removed]",
            "text/plain": [
              "<Figure size 432x288 with 1 Axes>"
            ]
          },
          "metadata": {
            "tags": [],
            "needs_background": "light"
          }
        }
      ]
    },
    {
      "cell_type": "markdown",
      "metadata": {
        "id": "qz6bl5HM9_yy"
      },
      "source": [
        "### 데이터를 얻을 수있는 프로세스의 추상화"
      ]
    },
    {
      "cell_type": "code",
      "metadata": {
        "colab": {
          "base_uri": "https://localhost:8080/"
        },
        "id": "DJodKfm69_UG",
        "outputId": "d76de0c2-79a5-4870-acf8-78b574572a17"
      },
      "source": [
        "sampling_norm = stats.norm.rvs(\r\n",
        "    loc = 4, scale = 0.8, size = 10)\r\n",
        "sampling_norm"
      ],
      "execution_count": null,
      "outputs": [
        {
          "output_type": "execute_result",
          "data": {
            "text/plain": [
              "array([4.037, 3.498, 4.322, 5.295, 5.499, 2.905, 4.437, 4.665, 3.786,\n",
              "       4.569])"
            ]
          },
          "metadata": {
            "tags": []
          },
          "execution_count": 92
        }
      ]
    },
    {
      "cell_type": "code",
      "metadata": {
        "colab": {
          "base_uri": "https://localhost:8080/"
        },
        "id": "_VTVr__q-Co2",
        "outputId": "60dbfa40-802d-40e8-95eb-303d67f134b6"
      },
      "source": [
        "# 표본 평균\r\n",
        "sp.mean(sampling_norm)"
      ],
      "execution_count": null,
      "outputs": [
        {
          "output_type": "stream",
          "text": [
            "/usr/local/lib/python3.6/dist-packages/ipykernel_launcher.py:2: DeprecationWarning: scipy.mean is deprecated and will be removed in SciPy 2.0.0, use numpy.mean instead\n",
            "  \n"
          ],
          "name": "stderr"
        },
        {
          "output_type": "execute_result",
          "data": {
            "text/plain": [
              "4.301"
            ]
          },
          "metadata": {
            "tags": []
          },
          "execution_count": 93
        }
      ]
    },
    {
      "cell_type": "markdown",
      "metadata": {
        "id": "bF8edqjf-Rxf"
      },
      "source": [
        "# 3 부 Python에 의한 데이터 분석 | Python으로 배우는 통계학 입문\r\n",
        "\r\n",
        "## 5 장 표본 통계의 특성"
      ]
    },
    {
      "cell_type": "markdown",
      "metadata": {
        "id": "gzj7XQim-WZq"
      },
      "source": [
        "### 라이브러리 가져 오기"
      ]
    },
    {
      "cell_type": "code",
      "metadata": {
        "id": "Ozh_eY-H-UuG"
      },
      "source": [
        "# 수치 계산에 사용하는 라이브러리\r\n",
        "import numpy as np\r\n",
        "import pandas as pd\r\n",
        "import scipy as sp\r\n",
        "from scipy import stats\r\n",
        "\r\n",
        "# 그래프를 그리는 라이브러리\r\n",
        "from matplotlib import pyplot as plt\r\n",
        "import seaborn as sns\r\n",
        "sns.set()\r\n",
        "\r\n",
        "# 표시 자리수의 지정\r\n",
        "%precision 3\r\n",
        "# 차트를 jupyter Notebook에 표시하기위한 지정\r\n",
        "%matplotlib inline"
      ],
      "execution_count": null,
      "outputs": []
    },
    {
      "cell_type": "code",
      "metadata": {
        "id": "1xPTi1d8-Fw-"
      },
      "source": [
        "# 평균 4, 표준 편차 0.8의 정규 분포를 돌아 가면서 사용\r\n",
        "population = stats.norm(loc = 4, scale = 0.8)"
      ],
      "execution_count": null,
      "outputs": []
    },
    {
      "cell_type": "markdown",
      "metadata": {
        "id": "PfIg8wao-yRm"
      },
      "source": [
        "### 표본 평균을 여러 번 계산해 보면"
      ]
    },
    {
      "cell_type": "code",
      "metadata": {
        "id": "bUwziL8W-0yW"
      },
      "source": [
        "# 평균값을 저장하는 용기\r\n",
        "sample_mean_array = np.zeros(10000)"
      ],
      "execution_count": null,
      "outputs": []
    },
    {
      "cell_type": "code",
      "metadata": {
        "colab": {
          "base_uri": "https://localhost:8080/"
        },
        "id": "ku7mdfCt-Vau",
        "outputId": "dba87e00-40f9-40e7-d634-de5ddc72f52e"
      },
      "source": [
        "# 「데이터를 10 개 선택 평균을」시도를 10000 번 반복\r\n",
        "np.random.seed(1)\r\n",
        "for i in range(0, 10000):\r\n",
        "    sample = population.rvs(size = 10)\r\n",
        "    sample_mean_array[i] = sp.mean(sample)"
      ],
      "execution_count": null,
      "outputs": [
        {
          "output_type": "stream",
          "text": [
            "/usr/local/lib/python3.6/dist-packages/ipykernel_launcher.py:5: DeprecationWarning: scipy.mean is deprecated and will be removed in SciPy 2.0.0, use numpy.mean instead\n",
            "  \"\"\"\n"
          ],
          "name": "stderr"
        }
      ]
    },
    {
      "cell_type": "code",
      "metadata": {
        "colab": {
          "base_uri": "https://localhost:8080/"
        },
        "id": "jnDrwPtn-rNj",
        "outputId": "88fe2df0-78b3-4e42-bf1d-330ef9ae8083"
      },
      "source": [
        "sample_mean_array"
      ],
      "execution_count": null,
      "outputs": [
        {
          "output_type": "execute_result",
          "data": {
            "text/plain": [
              "array([3.922, 3.864, 4.07 , ..., 4.136, 4.575, 4.099])"
            ]
          },
          "metadata": {
            "tags": []
          },
          "execution_count": 100
        }
      ]
    },
    {
      "cell_type": "markdown",
      "metadata": {
        "id": "jDT-S6UZ-6wh"
      },
      "source": [
        "### 표본 평균의 평균은 모평균에 가까운"
      ]
    },
    {
      "cell_type": "code",
      "metadata": {
        "colab": {
          "base_uri": "https://localhost:8080/"
        },
        "id": "23hsx3fo-75N",
        "outputId": "9beabd35-1942-423d-b1e6-fd4abb9e55b1"
      },
      "source": [
        "# 표본 평균의 평균\r\n",
        "sp.mean(sample_mean_array)"
      ],
      "execution_count": null,
      "outputs": [
        {
          "output_type": "stream",
          "text": [
            "/usr/local/lib/python3.6/dist-packages/ipykernel_launcher.py:2: DeprecationWarning: scipy.mean is deprecated and will be removed in SciPy 2.0.0, use numpy.mean instead\n",
            "  \n"
          ],
          "name": "stderr"
        },
        {
          "output_type": "execute_result",
          "data": {
            "text/plain": [
              "4.004"
            ]
          },
          "metadata": {
            "tags": []
          },
          "execution_count": 101
        }
      ]
    },
    {
      "cell_type": "code",
      "metadata": {
        "id": "bfnPXT7b_CS2"
      },
      "source": [
        "# 표본 평균의 표준 편차\r\n",
        "sp.std(sample_mean_array, ddof = 1)"
      ],
      "execution_count": null,
      "outputs": []
    },
    {
      "cell_type": "code",
      "metadata": {
        "colab": {
          "base_uri": "https://localhost:8080/",
          "height": 342
        },
        "id": "gncdl9Mp_FbO",
        "outputId": "f7d4240f-a8d6-47e5-c99b-7001418a5295"
      },
      "source": [
        "# 표본 평균의 분포\r\n",
        "sns.distplot(sample_mean_array, color = 'black')"
      ],
      "execution_count": null,
      "outputs": [
        {
          "output_type": "stream",
          "text": [
            "/usr/local/lib/python3.6/dist-packages/seaborn/distributions.py:2551: FutureWarning: `distplot` is a deprecated function and will be removed in a future version. Please adapt your code to use either `displot` (a figure-level function with similar flexibility) or `histplot` (an axes-level function for histograms).\n",
            "  warnings.warn(msg, FutureWarning)\n"
          ],
          "name": "stderr"
        },
        {
          "output_type": "execute_result",
          "data": {
            "text/plain": [
              "<matplotlib.axes._subplots.AxesSubplot at 0x7f6ac7016e48>"
            ]
          },
          "metadata": {
            "tags": []
          },
          "execution_count": 102
        },
        {
          "output_type": "display_data",
          "data": {
            "image/png": "[encoded data removed]",
            "text/plain": [
              "<Figure size 432x288 with 1 Axes>"
            ]
          },
          "metadata": {
            "tags": [],
            "needs_background": "light"
          }
        }
      ]
    },
    {
      "cell_type": "markdown",
      "metadata": {
        "id": "mXQQe8fp_IEf"
      },
      "source": [
        "### 샘플 사이즈 대라면 표본 평균은 모평균에 가까운"
      ]
    },
    {
      "cell_type": "code",
      "metadata": {
        "colab": {
          "base_uri": "https://localhost:8080/"
        },
        "id": "roLLNpuw_HTO",
        "outputId": "2dfdf9d0-920e-4766-b29d-27ce3fb9220e"
      },
      "source": [
        "# 샘플 크기를 10 ~ 100010까지의 범위에서 100 구분에 변화\r\n",
        "size_array =  np.arange(\r\n",
        "    start = 10, stop = 100100, step = 100)\r\n",
        "size_array"
      ],
      "execution_count": null,
      "outputs": [
        {
          "output_type": "execute_result",
          "data": {
            "text/plain": [
              "array([    10,    110,    210, ...,  99810,  99910, 100010])"
            ]
          },
          "metadata": {
            "tags": []
          },
          "execution_count": 103
        }
      ]
    },
    {
      "cell_type": "code",
      "metadata": {
        "id": "HlftE8tf_O3-"
      },
      "source": [
        "# \"표본 평균\"을 저장하는 용기\r\n",
        "sample_mean_array_size = np.zeros(len(size_array))"
      ],
      "execution_count": null,
      "outputs": []
    },
    {
      "cell_type": "code",
      "metadata": {
        "colab": {
          "base_uri": "https://localhost:8080/"
        },
        "id": "eC05tmXS_SYe",
        "outputId": "5581e11e-d114-434e-db81-95cb4760fe45"
      },
      "source": [
        "# \"표본 평균을 구할 '시도를 샘플 크기를 바꿔 가며 여러 번 실행\r\n",
        "np.random.seed(1)\r\n",
        "for i in range(0, len(size_array)):\r\n",
        "    sample = population.rvs(size = size_array[i])\r\n",
        "    sample_mean_array_size[i] = sp.mean(sample)"
      ],
      "execution_count": null,
      "outputs": [
        {
          "output_type": "stream",
          "text": [
            "/usr/local/lib/python3.6/dist-packages/ipykernel_launcher.py:5: DeprecationWarning: scipy.mean is deprecated and will be removed in SciPy 2.0.0, use numpy.mean instead\n",
            "  \"\"\"\n"
          ],
          "name": "stderr"
        }
      ]
    },
    {
      "cell_type": "code",
      "metadata": {
        "colab": {
          "base_uri": "https://localhost:8080/",
          "height": 306
        },
        "id": "u4KSks4A_Vk-",
        "outputId": "efbcac5a-3694-43ee-b632-99dd36d8288e"
      },
      "source": [
        "plt.plot(size_array, sample_mean_array_size, \r\n",
        "         color = 'black')\r\n",
        "plt.xlabel(\"sample size\")\r\n",
        "plt.ylabel(\"sample mean\")"
      ],
      "execution_count": null,
      "outputs": [
        {
          "output_type": "execute_result",
          "data": {
            "text/plain": [
              "Text(0, 0.5, 'sample mean')"
            ]
          },
          "metadata": {
            "tags": []
          },
          "execution_count": 106
        },
        {
          "output_type": "display_data",
          "data": {
            "image/png": "[encoded data removed]",
            "text/plain": [
              "<Figure size 432x288 with 1 Axes>"
            ]
          },
          "metadata": {
            "tags": [],
            "needs_background": "light"
          }
        }
      ]
    },
    {
      "cell_type": "markdown",
      "metadata": {
        "id": "0EKMjbbp_Y-W"
      },
      "source": [
        "### 표본 평균을 여러 번 계산하는 함수를 만든다"
      ]
    },
    {
      "cell_type": "code",
      "metadata": {
        "id": "PU4xET7g_Wmm"
      },
      "source": [
        "# 표본 평균을 여러 번 계산하는 함수\r\n",
        "def calc_sample_mean(size, n_trial):\r\n",
        "    sample_mean_array = np.zeros(n_trial)\r\n",
        "    for i in range(0, n_trial):\r\n",
        "        sample = population.rvs(size = size)\r\n",
        "        sample_mean_array[i] = sp.mean(sample)\r\n",
        "    return(sample_mean_array)"
      ],
      "execution_count": null,
      "outputs": []
    },
    {
      "cell_type": "code",
      "metadata": {
        "id": "VKIlMYGQ_dNW"
      },
      "source": [
        "# 동작 확인.\r\n",
        "# \"데이터를 10 개 선택 평균을\"시도를 10000 번 반복 한 결과를 또한 평균\r\n",
        "np.random.seed(1)\r\n",
        "sp.mean(calc_sample_mean(size = 10, n_trial = 10000))"
      ],
      "execution_count": null,
      "outputs": []
    },
    {
      "cell_type": "markdown",
      "metadata": {
        "id": "SESNJkmF_iYq"
      },
      "source": [
        "### 샘플 크기를 바꿀 때의 표본 평균의 분포"
      ]
    },
    {
      "cell_type": "code",
      "metadata": {
        "colab": {
          "base_uri": "https://localhost:8080/"
        },
        "id": "f04EgU6w_je-",
        "outputId": "67b92ef5-89de-49da-9160-140595cf7ad3"
      },
      "source": [
        "np.random.seed(1)\r\n",
        "# 샘플 크기 10\r\n",
        "size_10 = calc_sample_mean(size = 10, n_trial = 10000)\r\n",
        "size_10_df = pd.DataFrame({\r\n",
        "    \"sample_mean\":size_10,\r\n",
        "    \"size\"       :np.tile(\"size 10\", 10000)\r\n",
        "})\r\n",
        "# 샘플 크기 20\r\n",
        "size_20 = calc_sample_mean(size = 20, n_trial = 10000)\r\n",
        "size_20_df = pd.DataFrame({\r\n",
        "    \"sample_mean\":size_20,\r\n",
        "    \"size\"       :np.tile(\"size 20\", 10000)\r\n",
        "})\r\n",
        "# 샘플 크기 30\r\n",
        "size_30 = calc_sample_mean(size = 30, n_trial = 10000)\r\n",
        "size_30_df = pd.DataFrame({\r\n",
        "    \"sample_mean\":size_30,\r\n",
        "    \"size\"       :np.tile(\"size 30\", 10000)\r\n",
        "})\r\n",
        "\r\n",
        "# 결합\r\n",
        "sim_result = pd.concat(\r\n",
        "    [size_10_df, size_20_df, size_30_df])\r\n",
        "\r\n",
        "# 결과보기\r\n",
        "print(sim_result.head())"
      ],
      "execution_count": null,
      "outputs": [
        {
          "output_type": "stream",
          "text": [
            "/usr/local/lib/python3.6/dist-packages/ipykernel_launcher.py:6: DeprecationWarning: scipy.mean is deprecated and will be removed in SciPy 2.0.0, use numpy.mean instead\n",
            "  \n"
          ],
          "name": "stderr"
        },
        {
          "output_type": "stream",
          "text": [
            "   sample_mean     size\n",
            "0     3.922287  size 10\n",
            "1     3.864329  size 10\n",
            "2     4.069530  size 10\n",
            "3     3.857140  size 10\n",
            "4     4.184654  size 10\n"
          ],
          "name": "stdout"
        }
      ]
    },
    {
      "cell_type": "code",
      "metadata": {
        "colab": {
          "base_uri": "https://localhost:8080/",
          "height": 303
        },
        "id": "K5a8uTmT_vx-",
        "outputId": "667deec8-ffe3-4182-f45a-46cae6b7a282"
      },
      "source": [
        "sns.violinplot(x = \"size\", y = \"sample_mean\", \r\n",
        "               data = sim_result, color = 'gray')"
      ],
      "execution_count": null,
      "outputs": [
        {
          "output_type": "execute_result",
          "data": {
            "text/plain": [
              "<matplotlib.axes._subplots.AxesSubplot at 0x7f6ac4e9e518>"
            ]
          },
          "metadata": {
            "tags": []
          },
          "execution_count": 109
        },
        {
          "output_type": "display_data",
          "data": {
            "image/png": "[encoded data removed]",
            "text/plain": [
              "<Figure size 432x288 with 1 Axes>"
            ]
          },
          "metadata": {
            "tags": [],
            "needs_background": "light"
          }
        }
      ]
    },
    {
      "cell_type": "markdown",
      "metadata": {
        "id": "Ft4AL-ha_0v8"
      },
      "source": [
        "### 표본 평균의 표준 편차는 모집단 표준 편차보다 작아"
      ]
    },
    {
      "cell_type": "code",
      "metadata": {
        "colab": {
          "base_uri": "https://localhost:8080/"
        },
        "id": "B_yiEq4K_xem",
        "outputId": "f3e864a3-0624-42de-9da7-866cdcf4d66f"
      },
      "source": [
        "# 샘플 크기를 2 ~ 100까지의 범위에서 2 단락으로 변화시키는\r\n",
        "size_array =  np.arange(\r\n",
        "    start = 2, stop = 102, step = 2)\r\n",
        "size_array"
      ],
      "execution_count": null,
      "outputs": [
        {
          "output_type": "execute_result",
          "data": {
            "text/plain": [
              "array([  2,   4,   6,   8,  10,  12,  14,  16,  18,  20,  22,  24,  26,\n",
              "        28,  30,  32,  34,  36,  38,  40,  42,  44,  46,  48,  50,  52,\n",
              "        54,  56,  58,  60,  62,  64,  66,  68,  70,  72,  74,  76,  78,\n",
              "        80,  82,  84,  86,  88,  90,  92,  94,  96,  98, 100])"
            ]
          },
          "metadata": {
            "tags": []
          },
          "execution_count": 110
        }
      ]
    },
    {
      "cell_type": "code",
      "metadata": {
        "id": "FwETbDLX_48N"
      },
      "source": [
        "# \"표본 평균의 표준 편차 '를 저장하는 용기\r\n",
        "sample_mean_std_array = np.zeros(len(size_array))"
      ],
      "execution_count": null,
      "outputs": []
    },
    {
      "cell_type": "code",
      "metadata": {
        "colab": {
          "base_uri": "https://localhost:8080/"
        },
        "id": "_Zuwbp4r_7_d",
        "outputId": "db1d3189-ac62-4517-e7d4-1decb5e3a9c8"
      },
      "source": [
        "# \"표본 평균의 표준 편차를 계산하는\"시도를 샘플 크기를 바꿔 가며 여러 번 실행\r\n",
        "np.random.seed(1)\r\n",
        "for i in range(0, len(size_array)):\r\n",
        "    sample_mean = calc_sample_mean(size =size_array[i], \r\n",
        "                                   n_trial = 100)\r\n",
        "    sample_mean_std_array[i] = sp.std(sample_mean, \r\n",
        "                                      ddof = 1)"
      ],
      "execution_count": null,
      "outputs": [
        {
          "output_type": "stream",
          "text": [
            "/usr/local/lib/python3.6/dist-packages/ipykernel_launcher.py:6: DeprecationWarning: scipy.mean is deprecated and will be removed in SciPy 2.0.0, use numpy.mean instead\n",
            "  \n",
            "/usr/local/lib/python3.6/dist-packages/ipykernel_launcher.py:7: DeprecationWarning: scipy.std is deprecated and will be removed in SciPy 2.0.0, use numpy.std instead\n",
            "  import sys\n"
          ],
          "name": "stderr"
        }
      ]
    },
    {
      "cell_type": "code",
      "metadata": {
        "colab": {
          "base_uri": "https://localhost:8080/",
          "height": 303
        },
        "id": "RIjcYZUu__Be",
        "outputId": "14ee253b-fea1-41fd-9794-ce000601b4c6"
      },
      "source": [
        "plt.plot(size_array, sample_mean_std_array, \r\n",
        "         color = 'black')\r\n",
        "plt.xlabel(\"sample size\")\r\n",
        "plt.ylabel(\"mean_std value\")"
      ],
      "execution_count": null,
      "outputs": [
        {
          "output_type": "execute_result",
          "data": {
            "text/plain": [
              "Text(0, 0.5, 'mean_std value')"
            ]
          },
          "metadata": {
            "tags": []
          },
          "execution_count": 113
        },
        {
          "output_type": "display_data",
          "data": {
            "image/png": "[encoded data removed]",
            "text/plain": [
              "<Figure size 432x288 with 1 Axes>"
            ]
          },
          "metadata": {
            "tags": [],
            "needs_background": "light"
          }
        }
      ]
    },
    {
      "cell_type": "markdown",
      "metadata": {
        "id": "kHG2myQbACla"
      },
      "source": [
        "### 표준 에러"
      ]
    },
    {
      "cell_type": "code",
      "metadata": {
        "colab": {
          "base_uri": "https://localhost:8080/"
        },
        "id": "6qBjdFNIAALO",
        "outputId": "09f74eec-4998-4e17-b4d9-a43078e5e1c1"
      },
      "source": [
        "# 표본 평균의 이론적 인 값 : 표준 오차\r\n",
        "standard_error = 0.8 / np.sqrt(size_array)\r\n",
        "standard_error"
      ],
      "execution_count": null,
      "outputs": [
        {
          "output_type": "execute_result",
          "data": {
            "text/plain": [
              "array([0.566, 0.4  , 0.327, 0.283, 0.253, 0.231, 0.214, 0.2  , 0.189,\n",
              "       0.179, 0.171, 0.163, 0.157, 0.151, 0.146, 0.141, 0.137, 0.133,\n",
              "       0.13 , 0.126, 0.123, 0.121, 0.118, 0.115, 0.113, 0.111, 0.109,\n",
              "       0.107, 0.105, 0.103, 0.102, 0.1  , 0.098, 0.097, 0.096, 0.094,\n",
              "       0.093, 0.092, 0.091, 0.089, 0.088, 0.087, 0.086, 0.085, 0.084,\n",
              "       0.083, 0.083, 0.082, 0.081, 0.08 ])"
            ]
          },
          "metadata": {
            "tags": []
          },
          "execution_count": 115
        }
      ]
    },
    {
      "cell_type": "code",
      "metadata": {
        "colab": {
          "base_uri": "https://localhost:8080/",
          "height": 303
        },
        "id": "iLiq9ahJAGcy",
        "outputId": "c848e983-f4aa-4645-bdf7-4034a18336c3"
      },
      "source": [
        "plt.plot(size_array, sample_mean_std_array, \r\n",
        "         color = 'black')\r\n",
        "plt.plot(size_array, standard_error, \r\n",
        "         color = 'black', linestyle = 'dotted')\r\n",
        "plt.xlabel(\"sample size\")\r\n",
        "plt.ylabel(\"mean_std value\")"
      ],
      "execution_count": null,
      "outputs": [
        {
          "output_type": "execute_result",
          "data": {
            "text/plain": [
              "Text(0, 0.5, 'mean_std value')"
            ]
          },
          "metadata": {
            "tags": []
          },
          "execution_count": 116
        },
        {
          "output_type": "display_data",
          "data": {
            "image/png": "[encoded data removed]",
            "text/plain": [
              "<Figure size 432x288 with 1 Axes>"
            ]
          },
          "metadata": {
            "tags": [],
            "needs_background": "light"
          }
        }
      ]
    },
    {
      "cell_type": "markdown",
      "metadata": {
        "id": "3TSP4bfHAM9F"
      },
      "source": [
        "### 표본 분산의 평균은 모집단 분산에서 벗어나있는"
      ]
    },
    {
      "cell_type": "code",
      "metadata": {
        "id": "vp2jqSMhAG1F"
      },
      "source": [
        "# \"표본 분산\"을 저장하는 용기\r\n",
        "sample_var_array = np.zeros(10000)"
      ],
      "execution_count": null,
      "outputs": []
    },
    {
      "cell_type": "code",
      "metadata": {
        "colab": {
          "base_uri": "https://localhost:8080/"
        },
        "id": "vwIUgnR9ASjt",
        "outputId": "785e0a38-4ac0-48c0-e421-286b48927ab7"
      },
      "source": [
        "# \"데이터를 10 개 선택 표본 분산을 요구한다\"시도를 10000 번 반복\r\n",
        "np.random.seed(1)\r\n",
        "for i in range(0, 10000):\r\n",
        "    sample = population.rvs(size = 10)\r\n",
        "    sample_var_array[i] = sp.var(sample, ddof = 0)"
      ],
      "execution_count": null,
      "outputs": [
        {
          "output_type": "stream",
          "text": [
            "/usr/local/lib/python3.6/dist-packages/ipykernel_launcher.py:5: DeprecationWarning: scipy.var is deprecated and will be removed in SciPy 2.0.0, use numpy.var instead\n",
            "  \"\"\"\n"
          ],
          "name": "stderr"
        }
      ]
    },
    {
      "cell_type": "code",
      "metadata": {
        "colab": {
          "base_uri": "https://localhost:8080/"
        },
        "id": "NYdkKcDNAU0I",
        "outputId": "caccdda8-4512-47fc-ed26-3bb2531b8f8b"
      },
      "source": [
        "# 표본 분산의 평균\r\n",
        "sp.mean(sample_var_array)"
      ],
      "execution_count": null,
      "outputs": [
        {
          "output_type": "stream",
          "text": [
            "/usr/local/lib/python3.6/dist-packages/ipykernel_launcher.py:2: DeprecationWarning: scipy.mean is deprecated and will be removed in SciPy 2.0.0, use numpy.mean instead\n",
            "  \n"
          ],
          "name": "stderr"
        },
        {
          "output_type": "execute_result",
          "data": {
            "text/plain": [
              "0.575"
            ]
          },
          "metadata": {
            "tags": []
          },
          "execution_count": 119
        }
      ]
    },
    {
      "cell_type": "markdown",
      "metadata": {
        "id": "hEJ1uFIKAnxS"
      },
      "source": [
        "### 공정한 분배를 사용하면 바이어스가 없어진다"
      ]
    },
    {
      "cell_type": "code",
      "metadata": {
        "colab": {
          "base_uri": "https://localhost:8080/"
        },
        "id": "uDJ78-4iAoMW",
        "outputId": "bb36a661-5d0c-495a-bfa9-b819cbcd1ab2"
      },
      "source": [
        "# \"공정한 분배\"를 저장하는 용기\r\n",
        "unbias_var_array = np.zeros(10000)\r\n",
        "# \"데이터를 10 개 선택 공정한 분배를 요구하는 '시도\r\n",
        "# 10000 회 반복\r\n",
        "np.random.seed(1)\r\n",
        "for i in range(0, 10000):\r\n",
        "    sample = population.rvs(size = 10)\r\n",
        "    unbias_var_array[i] = sp.var(sample, ddof = 1)\r\n",
        "# 불편 분산의 평균\r\n",
        "sp.mean(unbias_var_array)"
      ],
      "execution_count": null,
      "outputs": [
        {
          "output_type": "stream",
          "text": [
            "/usr/local/lib/python3.6/dist-packages/ipykernel_launcher.py:8: DeprecationWarning: scipy.var is deprecated and will be removed in SciPy 2.0.0, use numpy.var instead\n",
            "  \n",
            "/usr/local/lib/python3.6/dist-packages/ipykernel_launcher.py:10: DeprecationWarning: scipy.mean is deprecated and will be removed in SciPy 2.0.0, use numpy.mean instead\n",
            "  # Remove the CWD from sys.path while we load stuff.\n"
          ],
          "name": "stderr"
        },
        {
          "output_type": "execute_result",
          "data": {
            "text/plain": [
              "0.639"
            ]
          },
          "metadata": {
            "tags": []
          },
          "execution_count": 120
        }
      ]
    },
    {
      "cell_type": "markdown",
      "metadata": {
        "id": "9vMNgcz3A7LU"
      },
      "source": [
        "### 샘플 크기를 늘리면 불편 분산은 모집단 분산에 접근"
      ]
    },
    {
      "cell_type": "code",
      "metadata": {
        "colab": {
          "base_uri": "https://localhost:8080/"
        },
        "id": "XjeDkJyJA5K8",
        "outputId": "c9ed3da1-eeda-4321-9b13-12a159c763da"
      },
      "source": [
        "# 샘플 크기를 10 ~ 100010까지의 범위에서 100 구분에 변화\r\n",
        "size_array =  np.arange(\r\n",
        "    start = 10, stop = 100100, step = 100)\r\n",
        "size_array"
      ],
      "execution_count": null,
      "outputs": [
        {
          "output_type": "execute_result",
          "data": {
            "text/plain": [
              "array([    10,    110,    210, ...,  99810,  99910, 100010])"
            ]
          },
          "metadata": {
            "tags": []
          },
          "execution_count": 121
        }
      ]
    },
    {
      "cell_type": "code",
      "metadata": {
        "id": "GhSu97nHBB7m"
      },
      "source": [
        "# \"공정한 분배\"를 저장하는 용기\r\n",
        "unbias_var_array_size = np.zeros(len(size_array))"
      ],
      "execution_count": null,
      "outputs": []
    },
    {
      "cell_type": "code",
      "metadata": {
        "colab": {
          "base_uri": "https://localhost:8080/"
        },
        "id": "OzhuF9PjBEsm",
        "outputId": "b11db64f-3676-4a46-9733-ec385fcd67f6"
      },
      "source": [
        "# \"공정한 분배를 요구한다\"시도를 샘플 크기를 바꿔 가며 여러 번 실행\r\n",
        "np.random.seed(1)\r\n",
        "for i in range(0, len(size_array)):\r\n",
        "    sample = population.rvs(size = size_array[i])\r\n",
        "    unbias_var_array_size[i] = sp.var(sample, ddof = 1)"
      ],
      "execution_count": null,
      "outputs": [
        {
          "output_type": "stream",
          "text": [
            "/usr/local/lib/python3.6/dist-packages/ipykernel_launcher.py:5: DeprecationWarning: scipy.var is deprecated and will be removed in SciPy 2.0.0, use numpy.var instead\n",
            "  \"\"\"\n"
          ],
          "name": "stderr"
        }
      ]
    },
    {
      "cell_type": "code",
      "metadata": {
        "colab": {
          "base_uri": "https://localhost:8080/",
          "height": 303
        },
        "id": "-SPou35dBHU-",
        "outputId": "72f8cbbe-237a-4343-bd49-f390517eed41"
      },
      "source": [
        "plt.plot(size_array, unbias_var_array_size, \r\n",
        "         color = 'black')\r\n",
        "plt.xlabel(\"sample size\")\r\n",
        "plt.ylabel(\"unbias var\")"
      ],
      "execution_count": null,
      "outputs": [
        {
          "output_type": "execute_result",
          "data": {
            "text/plain": [
              "Text(0, 0.5, 'unbias var')"
            ]
          },
          "metadata": {
            "tags": []
          },
          "execution_count": 124
        },
        {
          "output_type": "display_data",
          "data": {
            "image/png": "[encoded data removed]",
            "text/plain": [
              "<Figure size 432x288 with 1 Axes>"
            ]
          },
          "metadata": {
            "tags": [],
            "needs_background": "light"
          }
        }
      ]
    },
    {
      "cell_type": "markdown",
      "metadata": {
        "id": "1tvEsttCBLNz"
      },
      "source": [
        "### 보완 : 중앙 한계 정리"
      ]
    },
    {
      "cell_type": "code",
      "metadata": {
        "colab": {
          "base_uri": "https://localhost:8080/",
          "height": 378
        },
        "id": "1Tdek9v2BIdm",
        "outputId": "ad697221-7a58-4bf5-8ae0-2e2cc8589149"
      },
      "source": [
        "# 샘플 크기와 시도\r\n",
        "n_size  = 10000\r\n",
        "n_trial = 50000\r\n",
        "# 테이블이라면 1, 뒷면이면 0을 나타내는\r\n",
        "coin = np.array([0,1])\r\n",
        "# 표가 나온 횟수\r\n",
        "count_coin = np.zeros(n_trial)\r\n",
        "# 동전을 n_size 번 던지는 시행을 n_trial 회 실시\r\n",
        "np.random.seed(1)\r\n",
        "for i in range(0, n_trial):\r\n",
        "    count_coin[i] = sp.sum(\r\n",
        "        np.random.choice(coin, size = n_size, \r\n",
        "                         replace = True))\r\n",
        "# 히스토그램을 그린다\r\n",
        "sns.distplot(count_coin, color = 'black')"
      ],
      "execution_count": null,
      "outputs": [
        {
          "output_type": "stream",
          "text": [
            "/usr/local/lib/python3.6/dist-packages/ipykernel_launcher.py:13: DeprecationWarning: scipy.sum is deprecated and will be removed in SciPy 2.0.0, use numpy.sum instead\n",
            "  del sys.path[0]\n",
            "/usr/local/lib/python3.6/dist-packages/seaborn/distributions.py:2551: FutureWarning: `distplot` is a deprecated function and will be removed in a future version. Please adapt your code to use either `displot` (a figure-level function with similar flexibility) or `histplot` (an axes-level function for histograms).\n",
            "  warnings.warn(msg, FutureWarning)\n"
          ],
          "name": "stderr"
        },
        {
          "output_type": "execute_result",
          "data": {
            "text/plain": [
              "<matplotlib.axes._subplots.AxesSubplot at 0x7f6ac4ae1860>"
            ]
          },
          "metadata": {
            "tags": []
          },
          "execution_count": 125
        },
        {
          "output_type": "display_data",
          "data": {
            "image/png": "[encoded data removed]",
            "text/plain": [
              "<Figure size 432x288 with 1 Axes>"
            ]
          },
          "metadata": {
            "tags": [],
            "needs_background": "light"
          }
        }
      ]
    },
    {
      "cell_type": "code",
      "metadata": {
        "id": "qUErvkzKBVBe"
      },
      "source": [
        ""
      ],
      "execution_count": null,
      "outputs": []
    }
  ]
}