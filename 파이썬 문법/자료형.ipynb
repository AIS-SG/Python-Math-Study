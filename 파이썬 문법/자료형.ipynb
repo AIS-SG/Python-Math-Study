{
 "cells": [
  {
   "cell_type": "markdown",
   "metadata": {},
   "source": [
    "# 파이썬 문법 정리\n",
    "## 제작자 : AIS-SG\n",
    "### 참고자료 : 혼자 공부하는 파이썬"
   ]
  },
  {
   "cell_type": "markdown",
   "metadata": {},
   "source": [
    "# 1. 자료형"
   ]
  },
  {
   "cell_type": "markdown",
   "metadata": {},
   "source": [
    "### 자료 : 프로그램이 처리할 수 있는 모든것\n",
    "### 프로그램 : 자료들을 처리하기 위한 모든 행위\n",
    "#### \n",
    "### 자료형 : 개발자들이 쉽게 사용할 수 있도록 기능과 역할에 따라서 자료를 구분한 종류\n",
    "#### 문자열(string) : 메일 제목, 메시지 내용 등\n",
    "#### 숫자(number) : 물건의 가격, 학생의 성적 등\n",
    "#### 불 : 친구의 로그인 상태 등 ----> ex) True, False"
   ]
  },
  {
   "cell_type": "markdown",
   "metadata": {},
   "source": [
    "## 자료를 알아야 하는 이유\n",
    "### 1. 기본적인 단위라고 할 수 있는 자료의 의미를 아는 것은 물론, 그 쓰임새를 확실하게 알기위해서 "
   ]
  },
  {
   "cell_type": "markdown",
   "metadata": {},
   "source": [
    "## 자료형 확인하기 : type()"
   ]
  },
  {
   "cell_type": "code",
   "execution_count": 1,
   "metadata": {},
   "outputs": [
    {
     "name": "stdout",
     "output_type": "stream",
     "text": [
      "<class 'str'>\n",
      "<class 'int'>\n"
     ]
    }
   ],
   "source": [
    "print(type(\"안녕하세요\"))\n",
    "print(type(273))"
   ]
  },
  {
   "cell_type": "markdown",
   "metadata": {},
   "source": [
    "## 문자열 만들기 : string"
   ]
  },
  {
   "cell_type": "code",
   "execution_count": 2,
   "metadata": {},
   "outputs": [
    {
     "name": "stdout",
     "output_type": "stream",
     "text": [
      "# 하나만 출력합니다.\n",
      "Hello Python Programming...!\n",
      "\n"
     ]
    }
   ],
   "source": [
    "# 하나만 출력\n",
    "print(\"# 하나만 출력합니다.\")\n",
    "print(\"Hello Python Programming...!\")\n",
    "print()  # 빈 줄 출력"
   ]
  },
  {
   "cell_type": "code",
   "execution_count": 14,
   "metadata": {},
   "outputs": [
    {
     "name": "stdout",
     "output_type": "stream",
     "text": [
      "# 여러 개를 출력합니다.\n",
      "10 20 30 40 50\n",
      "안녕하세요 저의 이름은 AIS-SG입니다!\n"
     ]
    }
   ],
   "source": [
    "# 여러 개를 출력\n",
    "print(\"# 여러 개를 출력합니다.\")\n",
    "print(10,20,30,40,50)\n",
    "print(\"안녕하세요\",\"저의\",\"이름은\",\"AIS\"+\"-\"+\"SG입니다!\") # ,를 하면 한칸 띄기 +를 하면 띄우지 않고 붙이기"
   ]
  },
  {
   "cell_type": "code",
   "execution_count": 15,
   "metadata": {},
   "outputs": [
    {
     "ename": "SyntaxError",
     "evalue": "invalid syntax (<ipython-input-15-e306caae907c>, line 2)",
     "output_type": "error",
     "traceback": [
      "\u001b[1;36m  File \u001b[1;32m\"<ipython-input-15-e306caae907c>\"\u001b[1;36m, line \u001b[1;32m2\u001b[0m\n\u001b[1;33m    print(\"\"안녕하세요\"라고 말했습니다\") #구문 오류\u001b[0m\n\u001b[1;37m                ^\u001b[0m\n\u001b[1;31mSyntaxError\u001b[0m\u001b[1;31m:\u001b[0m invalid syntax\n"
     ]
    }
   ],
   "source": [
    "# 문자열 내부에 따옴표 넣기\n",
    "print(\"\"안녕하세요\"라고 말했습니다\") #구문 오류"
   ]
  },
  {
   "cell_type": "code",
   "execution_count": 13,
   "metadata": {},
   "outputs": [
    {
     "name": "stdout",
     "output_type": "stream",
     "text": [
      "\"안녕하세요\"라고 말했습니다.\n",
      "'배가 고픕니다'라고 생각했습니다.\n"
     ]
    }
   ],
   "source": [
    "print('\"안녕하세요\"라고 말했습니다.')\n",
    "print(\"'배가 고픕니다'라고 생각했습니다.\")"
   ]
  },
  {
   "cell_type": "markdown",
   "metadata": {},
   "source": [
    "### 이스케이프 문자를 사용해 문자열 만들기\n",
    "#### 이스케이프 문자 : 역슬래시(\\) 기호와 함께 조합해서 사용하는 특수한 문자\n",
    "#### \\\\\" : 큰따옴표를 의미\n",
    "#### \\\\' : 작은 따옴표를 의미"
   ]
  },
  {
   "cell_type": "code",
   "execution_count": 17,
   "metadata": {},
   "outputs": [
    {
     "name": "stdout",
     "output_type": "stream",
     "text": [
      "\"안녕하세요\"라고 말했습니다\n",
      "'배가 고픕니다'라고 생각합니다\n"
     ]
    }
   ],
   "source": [
    "print(\"\\\"안녕하세요\\\"라고 말했습니다\") \n",
    "print('\\'배가 고픕니다\\'라고 생각합니다')"
   ]
  },
  {
   "cell_type": "markdown",
   "metadata": {},
   "source": [
    "#### \\\\n : 줄바꿈을 의미\n",
    "#### \\\\t : 탭을 의미"
   ]
  },
  {
   "cell_type": "code",
   "execution_count": 19,
   "metadata": {},
   "outputs": [
    {
     "name": "stdout",
     "output_type": "stream",
     "text": [
      "안녕하세요\n",
      "안녕하세요\n",
      "\n",
      "안녕하세요\t안녕하세요\n"
     ]
    }
   ],
   "source": [
    "print(\"안녕하세요\\n안녕하세요\")\n",
    "print()\n",
    "print(\"안녕하세요\\t안녕하세요\")"
   ]
  },
  {
   "cell_type": "code",
   "execution_count": 21,
   "metadata": {},
   "outputs": [
    {
     "name": "stdout",
     "output_type": "stream",
     "text": [
      "이름\t나이\t지역\n",
      "윤인성\t25\t강서구\n",
      "윤아린\t24\t강서구\n",
      "구름\t3\t강서구\n"
     ]
    }
   ],
   "source": [
    "# \\t로 탭 사용하기\n",
    "print(\"이름\\t나이\\t지역\")\n",
    "print(\"윤인성\\t25\\t강서구\")\n",
    "print(\"윤아린\\t24\\t강서구\")\n",
    "print(\"구름\\t3\\t강서구\")"
   ]
  },
  {
   "cell_type": "markdown",
   "metadata": {},
   "source": [
    "#### \\\\\\ : 역슬래시를 의미"
   ]
  },
  {
   "cell_type": "code",
   "execution_count": 22,
   "metadata": {},
   "outputs": [
    {
     "name": "stdout",
     "output_type": "stream",
     "text": [
      "\\ \\ \\ \\\n"
     ]
    }
   ],
   "source": [
    "print(\"\\\\ \\\\ \\\\ \\\\\")"
   ]
  },
  {
   "cell_type": "markdown",
   "metadata": {},
   "source": [
    "### 여러 줄 문자열 만들기"
   ]
  },
  {
   "cell_type": "code",
   "execution_count": 23,
   "metadata": {},
   "outputs": [
    {
     "name": "stdout",
     "output_type": "stream",
     "text": [
      "동해물과 백두산이 마르고 닳도록\n",
      "하느님이 보우하사 우리나라 만세\n",
      "무궁화 삼천리 화려강산 대한사람\n",
      "대한으로 길이 보전하세\n"
     ]
    }
   ],
   "source": [
    "print(\"동해물과 백두산이 마르고 닳도록\\n하느님이 보우하사 우리나라 만세\\n무궁화 삼천리 화려강산 대한사람\\n대한으로 길이 보전하세\")"
   ]
  },
  {
   "cell_type": "code",
   "execution_count": 28,
   "metadata": {},
   "outputs": [
    {
     "name": "stdout",
     "output_type": "stream",
     "text": [
      "동해물과 백두산이 마르고 닳도록\n",
      "하느님이 보우하사 우리나라 만세\n",
      "무궁화 삼천리 화려강산 대한사람\n",
      "대한으로 길이 보전하세\n"
     ]
    }
   ],
   "source": [
    "# 여러 줄 문자열은 큰따옴표 또는 작은 따옴표를 세 번 반복한 기호를 사용\n",
    "print(\"\"\"동해물과 백두산이 마르고 닳도록\n",
    "하느님이 보우하사 우리나라 만세\n",
    "무궁화 삼천리 화려강산 대한사람\n",
    "대한으로 길이 보전하세\"\"\")"
   ]
  },
  {
   "cell_type": "markdown",
   "metadata": {},
   "source": [
    "## 문자열 연산자"
   ]
  },
  {
   "cell_type": "code",
   "execution_count": 29,
   "metadata": {},
   "outputs": [
    {
     "name": "stdout",
     "output_type": "stream",
     "text": [
      "안녕하세요\n"
     ]
    }
   ],
   "source": [
    "print(\"안녕\"+\"하세요\")"
   ]
  },
  {
   "cell_type": "code",
   "execution_count": 31,
   "metadata": {},
   "outputs": [
    {
     "ename": "TypeError",
     "evalue": "must be str, not int",
     "output_type": "error",
     "traceback": [
      "\u001b[1;31m---------------------------------------------------------------------------\u001b[0m",
      "\u001b[1;31mTypeError\u001b[0m                                 Traceback (most recent call last)",
      "\u001b[1;32m<ipython-input-31-d5aa68294817>\u001b[0m in \u001b[0;36m<module>\u001b[1;34m\u001b[0m\n\u001b[1;32m----> 1\u001b[1;33m \u001b[0mprint\u001b[0m\u001b[1;33m(\u001b[0m\u001b[1;34m\"안녕하세요\"\u001b[0m\u001b[1;33m+\u001b[0m\u001b[1;36m1\u001b[0m\u001b[1;33m)\u001b[0m \u001b[1;31m# 문자열은 무조건 문자열끼리 +기호를 사용해서 연결해야함\u001b[0m\u001b[1;33m\u001b[0m\u001b[1;33m\u001b[0m\u001b[0m\n\u001b[0m",
      "\u001b[1;31mTypeError\u001b[0m: must be str, not int"
     ]
    }
   ],
   "source": [
    "print(\"안녕하세요\"+1) # 문자열은 무조건 문자열끼리 +기호를 사용해서 연결해야함"
   ]
  },
  {
   "cell_type": "code",
   "execution_count": 33,
   "metadata": {},
   "outputs": [
    {
     "name": "stdout",
     "output_type": "stream",
     "text": [
      "안녕하세요안녕하세요안녕하세요\n",
      "안녕하세요안녕하세요안녕하세요\n"
     ]
    }
   ],
   "source": [
    "# 문자열 반복 연산자 : *\n",
    "print(\"안녕하세요\"*3)\n",
    "print(3*\"안녕하세요\")"
   ]
  },
  {
   "cell_type": "code",
   "execution_count": 35,
   "metadata": {},
   "outputs": [
    {
     "name": "stdout",
     "output_type": "stream",
     "text": [
      "문자 선택 연산자에 대해 알아볼까요?\n",
      "안\n",
      "녕\n",
      "하\n",
      "세\n",
      "요\n"
     ]
    }
   ],
   "source": [
    "# 문자 선택 연산자(인덱싱) : []\n",
    "print(\"문자 선택 연산자에 대해 알아볼까요?\")\n",
    "print(\"안녕하세요\"[0])\n",
    "print(\"안녕하세요\"[1])\n",
    "print(\"안녕하세요\"[2])\n",
    "print(\"안녕하세요\"[3])\n",
    "print(\"안녕하세요\"[4])"
   ]
  },
  {
   "cell_type": "code",
   "execution_count": 36,
   "metadata": {},
   "outputs": [
    {
     "name": "stdout",
     "output_type": "stream",
     "text": [
      "문자를 뒤에서부터 선택해 볼까요?\n",
      "요\n",
      "세\n",
      "하\n",
      "녕\n",
      "안\n"
     ]
    }
   ],
   "source": [
    "print(\"문자를 뒤에서부터 선택해 볼까요?\")\n",
    "print(\"안녕하세요\"[-1])\n",
    "print(\"안녕하세요\"[-2])\n",
    "print(\"안녕하세요\"[-3])\n",
    "print(\"안녕하세요\"[-4])\n",
    "print(\"안녕하세요\"[-5])"
   ]
  },
  {
   "cell_type": "code",
   "execution_count": 41,
   "metadata": {},
   "outputs": [
    {
     "name": "stdout",
     "output_type": "stream",
     "text": [
      "녕하세\n",
      "안녕\n",
      "녕하\n",
      "하세\n",
      "녕하세요\n",
      "안녕하\n"
     ]
    }
   ],
   "source": [
    "# 문자열 범위 선택 연산자(슬라이싱) : [:]\n",
    "print(\"안녕하세요\"[1:4])\n",
    "print(\"안녕하세요\"[0:2])\n",
    "print(\"안녕하세요\"[1:3])\n",
    "print(\"안녕하세요\"[2:4])\n",
    "\n",
    "print(\"안녕하세요\"[1:])\n",
    "print(\"안녕하세요\"[:3])"
   ]
  },
  {
   "cell_type": "code",
   "execution_count": 43,
   "metadata": {},
   "outputs": [
    {
     "name": "stdout",
     "output_type": "stream",
     "text": [
      "안녕\n"
     ]
    },
    {
     "data": {
      "text/plain": [
       "'안녕하세요'"
      ]
     },
     "execution_count": 43,
     "metadata": {},
     "output_type": "execute_result"
    }
   ],
   "source": [
    "hello = \"안녕하세요\"\n",
    "print(hello[0:2])\n",
    "hello"
   ]
  },
  {
   "cell_type": "markdown",
   "metadata": {},
   "source": [
    "## IndexError(index out of range)예외\n",
    "### 리스트/문자열의 수를 넘는 요소/글자를  선택할 때 발생"
   ]
  },
  {
   "cell_type": "code",
   "execution_count": 44,
   "metadata": {},
   "outputs": [
    {
     "ename": "IndexError",
     "evalue": "string index out of range",
     "output_type": "error",
     "traceback": [
      "\u001b[1;31m---------------------------------------------------------------------------\u001b[0m",
      "\u001b[1;31mIndexError\u001b[0m                                Traceback (most recent call last)",
      "\u001b[1;32m<ipython-input-44-31d7842c8b75>\u001b[0m in \u001b[0;36m<module>\u001b[1;34m\u001b[0m\n\u001b[1;32m----> 1\u001b[1;33m \u001b[0mprint\u001b[0m\u001b[1;33m(\u001b[0m\u001b[1;34m\"안녕하세요\"\u001b[0m\u001b[1;33m[\u001b[0m\u001b[1;36m10\u001b[0m\u001b[1;33m]\u001b[0m\u001b[1;33m)\u001b[0m\u001b[1;33m\u001b[0m\u001b[1;33m\u001b[0m\u001b[0m\n\u001b[0m",
      "\u001b[1;31mIndexError\u001b[0m: string index out of range"
     ]
    }
   ],
   "source": [
    "print(\"안녕하세요\"[10]) # '안녕하세요'는 5문자인데 10번째 문자를 부르고 있다."
   ]
  },
  {
   "cell_type": "markdown",
   "metadata": {},
   "source": [
    "## 문자열의 길이 구하기 : len()"
   ]
  },
  {
   "cell_type": "code",
   "execution_count": 45,
   "metadata": {},
   "outputs": [
    {
     "name": "stdout",
     "output_type": "stream",
     "text": [
      "5\n"
     ]
    }
   ],
   "source": [
    "print(len(\"안녕하세요\"))"
   ]
  }
 ],
 "metadata": {
  "kernelspec": {
   "display_name": "Python 3",
   "language": "python",
   "name": "python3"
  },
  "language_info": {
   "codemirror_mode": {
    "name": "ipython",
    "version": 3
   },
   "file_extension": ".py",
   "mimetype": "text/x-python",
   "name": "python",
   "nbconvert_exporter": "python",
   "pygments_lexer": "ipython3",
   "version": "3.6.12"
  }
 },
 "nbformat": 4,
 "nbformat_minor": 4
}
