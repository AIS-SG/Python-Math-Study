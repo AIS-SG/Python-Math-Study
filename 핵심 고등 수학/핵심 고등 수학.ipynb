{
  "nbformat": 4,
  "nbformat_minor": 0,
  "metadata": {
    "colab": {
      "name": "핵심고등수학.ipynb",
      "provenance": [],
      "collapsed_sections": []
    },
    "kernelspec": {
      "name": "python3",
      "display_name": "Python 3"
    }
  },
  "cells": [
    {
      "cell_type": "markdown",
      "metadata": {
        "id": "rd1tBywAy7nR"
      },
      "source": [
        "## 작성자 : 권상원\r\n",
        "## 학번 : 20403"
      ]
    },
    {
      "cell_type": "markdown",
      "metadata": {
        "id": "WYLn2oxNUyMU"
      },
      "source": [
        "#1. 컴퓨터와 수\r\n"
      ]
    },
    {
      "cell_type": "markdown",
      "metadata": {
        "id": "ZZVFDngjYFgu"
      },
      "source": [
        "##코드 1-1"
      ]
    },
    {
      "cell_type": "code",
      "metadata": {
        "id": "UNDRfd8hIESI",
        "colab": {
          "base_uri": "https://localhost:8080/"
        },
        "outputId": "3e89ca67-309c-4825-9813-527f05eaf0b0"
      },
      "source": [
        "def dec2bin(target):\r\n",
        "    remainder = []      # 나머지를 넣을 리스트\r\n",
        "\r\n",
        "    while target != 0:\r\n",
        "        remainder.append(target % 2)        # 나머지\r\n",
        "        target = target // 2                # 몫\r\n",
        "\r\n",
        "    # 리스트에 있는 요소를 역순으로 바꿔서 반환한다\r\n",
        "    remainder.reverse()\r\n",
        "    return remainder\r\n",
        "\r\n",
        "\r\n",
        "\r\n",
        "# dec2bin() 함수를 이용해 10진수 26을 2진수로 변환한다\r\n",
        "print(dec2bin(26))\r\n",
        "# 파이썬에 내장된 bin() 함수를 이용해 26을 2진수로 변환한다\r\n",
        "print(bin(26))"
      ],
      "execution_count": null,
      "outputs": [
        {
          "output_type": "stream",
          "text": [
            "[1, 1, 0, 1, 0]\n",
            "0b11010\n"
          ],
          "name": "stdout"
        }
      ]
    },
    {
      "cell_type": "markdown",
      "metadata": {
        "id": "ecE-OwqBTIUp"
      },
      "source": [
        "**remainder는 나눗셈에서 발생한 나머지를 넣기 위해 마련한 빈 리스트이다. while 반복문에서는 target의 값이 0이 될 때까지 while 밑의 코드를 실행한다. while 반복문을 모두 반복하고 난 후 그 밑의 코드에서 remainder에 있는 요소를 역순으로 다시 나열합니다. 이렇게 하면 나머지를 오른쪽부터 순서대로 나열하는 것과 동일한 작업이 된다.**"
      ]
    },
    {
      "cell_type": "markdown",
      "metadata": {
        "id": "g_Ic2nspZFVD"
      },
      "source": [
        "##코드 1-2"
      ]
    },
    {
      "cell_type": "code",
      "metadata": {
        "colab": {
          "base_uri": "https://localhost:8080/"
        },
        "id": "dtJ0UHOLYt6Y",
        "outputId": "6f4d603e-477d-4456-ac39-c417da7295d0"
      },
      "source": [
        "def dec2hex(target):\r\n",
        "    remainder = []      # 나머지를 넣을 리스트\r\n",
        "\r\n",
        "    # 나눗셈의 몫이 0이 될 때까지\r\n",
        "    while target != 0:\r\n",
        "        remainder.append(target % 16)       # 나머지\r\n",
        "        target = target // 16               # 몫\r\n",
        "\r\n",
        "    # 나머지 10～15를 A～F로 변환한다\r\n",
        "    for i in range(len(remainder)):\r\n",
        "        if remainder[i] == 10:     remainder[i] = 'A'\r\n",
        "        elif remainder[i] == 11:   remainder[i] = 'B'\r\n",
        "        elif remainder[i] == 12:   remainder[i] = 'C'\r\n",
        "        elif remainder[i] == 13:   remainder[i] = 'D'\r\n",
        "        elif remainder[i] == 14:   remainder[i] = 'E'\r\n",
        "        elif remainder[i] == 15:   remainder[i] = 'F'\r\n",
        "\r\n",
        "    # 리스트에 있는 요소를 역순으로 반환한다\r\n",
        "    remainder.reverse()\r\n",
        "    return remainder\r\n",
        "\r\n",
        "\r\n",
        "\r\n",
        "# dec2hex() 함수를 이용해 10진수 26을 16진수로 변환한다\r\n",
        "print(dec2hex(26))\r\n",
        "# 파이썬에 내장된 hex() 함수를 이용해 26을 16진수로 변환한다\r\n",
        "print(bin(26))\r\n"
      ],
      "execution_count": null,
      "outputs": [
        {
          "output_type": "stream",
          "text": [
            "[1, 'A']\n",
            "0b11010\n"
          ],
          "name": "stdout"
        }
      ]
    },
    {
      "cell_type": "markdown",
      "metadata": {
        "id": "dyZ0d0H3Y3x7"
      },
      "source": [
        "**10진수를 16진수로 변환하는 프로그램이다. 나눗셈의 나머지 중에서 10~15를 A~F로 바꾸는 처리를 제외하면 코드 1-1과 거의 같다. 매개변수 target에는 10진수 값을 넣는다.**"
      ]
    },
    {
      "cell_type": "markdown",
      "metadata": {
        "id": "YOYUGMGSZ9bG"
      },
      "source": [
        "##코드 1-3"
      ]
    },
    {
      "cell_type": "code",
      "metadata": {
        "colab": {
          "base_uri": "https://localhost:8080/"
        },
        "id": "Y0UJl32daLgi",
        "outputId": "ef833bd2-81c7-45c0-9d0d-0551e19247b5"
      },
      "source": [
        "def any2dec(target, m):\r\n",
        "    n = len(target)-1 \t# 지수 최댓값\r\n",
        "    sum = 0           \t# 10진수로 변환한 값\r\n",
        "\r\n",
        "    # 문자 수 만큼 반복한다\r\n",
        "    for i in range(len(target)):\r\n",
        "        if target[i] == 'A':    num = 10\r\n",
        "        elif target[i] == 'B':  num = 11\r\n",
        "        elif target[i] == 'C':  num = 12\r\n",
        "        elif target[i] == 'D':  num = 13\r\n",
        "        elif target[i] == 'E':  num = 14\r\n",
        "        elif target[i] == 'F':  num = 15\r\n",
        "        else:                   num = int(target[i])\r\n",
        "\r\n",
        "        sum += (m ** n) * num       # “m의 n승 x 각 행의 값”의 합계를 낸다\r\n",
        "        n -= 1                      # 무게를 한 개 줄인다\r\n",
        "    return sum\r\n",
        "\r\n",
        "\r\n",
        "\r\n",
        "# 2진수 ‘11010’을 10진수로 변환한다\r\n",
        "print(any2dec('11010', 2))\r\n",
        "# 16진수 ‘1A’를 10진수로 변환한다\r\n",
        "print(any2dec('1A', 16))\r\n"
      ],
      "execution_count": null,
      "outputs": [
        {
          "output_type": "stream",
          "text": [
            "26\n",
            "26\n"
          ],
          "name": "stdout"
        }
      ]
    },
    {
      "cell_type": "markdown",
      "metadata": {
        "id": "ibB6n696aQ-X"
      },
      "source": [
        "**n = len(target)-1에 있는 변수 n은 자리의 무게를 계산할 때 사용하는 값(지수)이다. 기수가 무엇이든지 가장 큰 자리의 지수는 '자릿수-1'이다.**"
      ]
    },
    {
      "cell_type": "markdown",
      "metadata": {
        "id": "wBFKUIEDdBWz"
      },
      "source": [
        "**for문과 return 사이에 있는 for 반복문은 target에 들어있는 문자를 한 개씩 확인해서 'A'~'F'이면 10~15로 바꾸고 '0'~'9'이면 숫자값으로 바꾼 후에 다음 코드를 실행한다.**"
      ]
    },
    {
      "cell_type": "markdown",
      "metadata": {
        "id": "_xjEIUm7eifJ"
      },
      "source": [
        "##코드 1-4"
      ]
    },
    {
      "cell_type": "code",
      "metadata": {
        "colab": {
          "base_uri": "https://localhost:8080/"
        },
        "id": "YTgNtpVibopg",
        "outputId": "8b927f69-7d85-4329-ec16-54e7820dd2e7"
      },
      "source": [
        "def dec2bin_ex(target):\r\n",
        "    # target을 정수부와 소수부로 구분한다\r\n",
        "    i = int(target)     # 정수부\r\n",
        "    f = target - i      # 소수부\r\n",
        "\r\n",
        "    # 정수부를 2진수로 변환\r\n",
        "    a = []      # 나머지를 넣을 리스트\r\n",
        "\r\n",
        "    # 나눗셈의 몫이 0이 될 때까지\r\n",
        "    while i != 0:\r\n",
        "        a.append(i % 2)     # 나머지\r\n",
        "        i = i // 2          # 몫\r\n",
        "\r\n",
        "    # 요소를 역순으로 바꾼다\r\n",
        "    a.reverse()\r\n",
        "\r\n",
        "    #소수부를 2진수로 변환\r\n",
        "    b = []      # 정수부를 넣을 리스트\r\n",
        "    n = 0       # 반복한 횟수\r\n",
        "\r\n",
        "    # 2를 곱한 후에 얻어진 소수부가 0이 될 때까지\r\n",
        "    while (f != 0):\r\n",
        "        temp = f * 2            # 소수부×2\r\n",
        "        b.append(int(temp))     # 정수부\r\n",
        "        f = temp - int(temp)    # 소수부\r\n",
        "        n += 1\r\n",
        "        if (n >= 10):\r\n",
        "            break\r\n",
        "\r\n",
        "    # 2진수로 변환한 값\r\n",
        "    return a, b\r\n",
        "\r\n",
        "\r\n",
        "\r\n",
        "# 10진수 ‘10.625’를 2진수로 변환한다\r\n",
        "print(dec2bin_ex(10.625))\r\n"
      ],
      "execution_count": null,
      "outputs": [
        {
          "output_type": "stream",
          "text": [
            "([1, 0, 1, 0], [1, 0, 1])\n"
          ],
          "name": "stdout"
        }
      ]
    },
    {
      "cell_type": "markdown",
      "metadata": {
        "id": "0ur_Hv-2e5jp"
      },
      "source": [
        "**먼저 주어진 인수를 정수부와 소수부로 나눈다. int() 함수를 사용하면 target의 정수부를 얻을 수 있다. 이 값을 target에서 빼면 소수부가 남는다.**"
      ]
    },
    {
      "cell_type": "markdown",
      "metadata": {
        "id": "IQXyLTSyfluc"
      },
      "source": [
        "**소수부를 2진수로 변환한 후 소수부에 2를 곱한 수의 정ㅅ부를 리스트에 추가하는 처리를 소수부가 0이 될 때까지 반복한다.**"
      ]
    },
    {
      "cell_type": "markdown",
      "metadata": {
        "id": "Cu-b3_sXf1z8"
      },
      "source": [
        "**if (n >= 10):\r\n",
        "            break는 10번 반복하면 루프를 끝내는 코드이다.**"
      ]
    },
    {
      "cell_type": "markdown",
      "metadata": {
        "id": "obSYi8Qqg3kj"
      },
      "source": [
        "#2. 컴퓨터의 연산"
      ]
    },
    {
      "cell_type": "markdown",
      "metadata": {
        "id": "KxKxyklQgL38"
      },
      "source": [
        "##코드 2-1"
      ]
    },
    {
      "cell_type": "code",
      "metadata": {
        "colab": {
          "base_uri": "https://localhost:8080/"
        },
        "id": "__KAwJB8gIY7",
        "outputId": "ed14cdc0-c388-4f1d-fe61-1ee26a227de4"
      },
      "source": [
        "def get_pixel_color(c):\r\n",
        "    r = (c & 0x00FF0000) >> 16 \t\t# R(빨강)\r\n",
        "    g = (c & 0x0000FF00) >> 8  \t\t# G(초록)\r\n",
        "    b = (c & 0x000000FF)       \t\t# B(파랑)\r\n",
        "    return r, g, b\r\n",
        "\r\n",
        "\r\n",
        "\r\n",
        "c = 4287090426\r\n",
        "r, g, b = get_pixel_color(c)\r\n",
        "print(r, g, b)\r\n"
      ],
      "execution_count": null,
      "outputs": [
        {
          "output_type": "stream",
          "text": [
            "135 206 250\n"
          ],
          "name": "stdout"
        }
      ]
    },
    {
      "cell_type": "markdown",
      "metadata": {
        "id": "rH1h61TmgQPv"
      },
      "source": [
        "**두 번째 행에 있는 코드는 빩간색 성분을 꺼내는 식이다.**"
      ]
    },
    {
      "cell_type": "markdown",
      "metadata": {
        "id": "N--wwTB5hCpI"
      },
      "source": [
        "#코드 2-2"
      ]
    },
    {
      "cell_type": "code",
      "metadata": {
        "colab": {
          "base_uri": "https://localhost:8080/"
        },
        "id": "Yscs9EeDhCId",
        "outputId": "9f070218-393a-42a6-97b6-a66ed5bda9a7"
      },
      "source": [
        "def check_candy(item):\r\n",
        "    if (item & 0b1000) != 0:   # 사탕 플래그가 셋팅돼 있는지 확인한다\r\n",
        "        print('가지고 있다')\r\n",
        "    else:\r\n",
        "        print('가지고 있지 않다')\r\n",
        "\r\n",
        "\r\n",
        "\r\n",
        "gildong_item = 9\r\n",
        "check_candy(gildong_item)\r\n"
      ],
      "execution_count": null,
      "outputs": [
        {
          "output_type": "stream",
          "text": [
            "가지고 있다\n"
          ],
          "name": "stdout"
        }
      ]
    },
    {
      "cell_type": "markdown",
      "metadata": {
        "id": "-JRdc2ByhHs8"
      },
      "source": [
        "**비교 연산을 if 문의 조건식에 넣으면 프로그램의 흐름을 바꿀 수 있다. 이 코드는 캐릭터가 사탕을 가졌는지 판정하는 프로그램이다.**"
      ]
    },
    {
      "cell_type": "markdown",
      "metadata": {
        "id": "kGva-BpjhkCl"
      },
      "source": [
        "##코드 2-3"
      ]
    },
    {
      "cell_type": "code",
      "metadata": {
        "colab": {
          "base_uri": "https://localhost:8080/"
        },
        "id": "qXWlRhx1hiag",
        "outputId": "eedfdbfc-4b44-43ef-da30-2dc0fc40989d"
      },
      "source": [
        "def func_and(score):\r\n",
        "    if score >= 80:                         # socore가 80이상\r\n",
        "        rank = 'A'\r\n",
        "    elif (score >= 60) and (score < 80):    # score가 60～79의 범위 안에 있다\r\n",
        "        rank = 'B'\r\n",
        "    elif (score >= 40) and (score < 60):    # score가 40～59의 범위 안에 있다\r\n",
        "        rank = 'C'\r\n",
        "    else:                                   # 위에 있는 어떤 범위에도 들지 않는다(score가 40미만）\r\n",
        "        rank = '추가 시험'\r\n",
        "    return rank\r\n",
        "\r\n",
        "\r\n",
        "\r\n",
        "rank = func_and(78)\r\n",
        "print(rank)\r\n"
      ],
      "execution_count": null,
      "outputs": [
        {
          "output_type": "stream",
          "text": [
            "B\n"
          ],
          "name": "stdout"
        }
      ]
    },
    {
      "cell_type": "markdown",
      "metadata": {
        "id": "GQ51PsKXho6g"
      },
      "source": [
        "**func_and() 함수는 시험 점수에 따라 레벨을 나누고 추가 시험을 판정하는 프로그램이다. C언어와 같은 원리로 이해하면 쉽다.**"
      ]
    },
    {
      "cell_type": "markdown",
      "metadata": {
        "id": "OdxzNpZhizpO"
      },
      "source": [
        "#코드 2-4"
      ]
    },
    {
      "cell_type": "code",
      "metadata": {
        "colab": {
          "base_uri": "https://localhost:8080/"
        },
        "id": "LoDnWnBSi2Xk",
        "outputId": "ace30bf0-11ea-4c89-96ab-2aaeae0e4a85"
      },
      "source": [
        "def func_or():\r\n",
        "    a = input('개를 좋아하십니까?（Y/N）... ')   # 키 입력을 부탁하는 메시지를 표시한다\r\n",
        "    if (a == 'Y') or (a == 'y'):  \t#  ‘Y’ 또는 ‘y’가 입력됐을 때\r\n",
        "        print('예')\r\n",
        "    else:                       \t# 위의 모든 조건을 만족하지 않을 경우\r\n",
        "        print('아니오')\r\n",
        "\r\n",
        "\r\n",
        "\r\n",
        "func_or()\r\n"
      ],
      "execution_count": null,
      "outputs": [
        {
          "output_type": "stream",
          "text": [
            "개를 좋아하십니까?（Y/N）... y\n",
            "예\n"
          ],
          "name": "stdout"
        }
      ]
    },
    {
      "cell_type": "markdown",
      "metadata": {
        "id": "jj16iugai5DS"
      },
      "source": [
        "**func_or() 함수는 키로 입력한 값이 'y'이면 '예'를 표시하고 그 외의 값이면 '아니오'를 표시하는 프로그램이다.**"
      ]
    },
    {
      "cell_type": "markdown",
      "metadata": {
        "id": "mCp58JFnk480"
      },
      "source": [
        "#3. 방정식으로 도형 그리기"
      ]
    },
    {
      "cell_type": "markdown",
      "metadata": {
        "id": "lXb-H_FhmR53"
      },
      "source": [
        "##코드 3-1"
      ]
    },
    {
      "cell_type": "code",
      "metadata": {
        "colab": {
          "base_uri": "https://localhost:8080/",
          "height": 265
        },
        "id": "BUncY-XFlRfn",
        "outputId": "2e6c7fc4-dda7-4c8c-8c30-0e1ce32cc108"
      },
      "source": [
        "import matplotlib.pyplot as plt\r\n",
        "\r\n",
        "# 데이터\r\n",
        "x = [1, 2, 3, 4, 5, 6, 7]\r\n",
        "y = [64.3, 63.8, 63.6, 64.0, 63.5, 63.2, 63.1]\r\n",
        "\r\n",
        "# 그래프를 그린다\r\n",
        "plt.plot(x, y)        \t# 꺾은선을 그린다\r\n",
        "plt.grid(color='0.8') \t# 격자를 표시한다\r\n",
        "plt.show()            \t# 화면에 표시한다\r\n"
      ],
      "execution_count": null,
      "outputs": [
        {
          "output_type": "display_data",
          "data": {
            "image/png": "[encoded data removed]",
            "text/plain": [
              "<Figure size 432x288 with 1 Axes>"
            ]
          },
          "metadata": {
            "tags": [],
            "needs_background": "light"
          }
        }
      ]
    },
    {
      "cell_type": "markdown",
      "metadata": {
        "id": "BwR-HE-FlULO"
      },
      "source": [
        "**첫 번째 행은 파이썬에 포함된 명령이 아닌 주피터 노트북에 포함된 명령이다. 이 명령 실행 시 주피터 노트북에서 프로그램을 작성한 셀과 동일한 셀에 그래프가 그려진다**"
      ]
    },
    {
      "cell_type": "markdown",
      "metadata": {
        "id": "LSPVC278nQfi"
      },
      "source": [
        "##코드 3-2"
      ]
    },
    {
      "cell_type": "code",
      "metadata": {
        "colab": {
          "base_uri": "https://localhost:8080/",
          "height": 265
        },
        "id": "FfUJ2yBTnS9o",
        "outputId": "af489224-e1d2-4074-fded-1ede46ea0d82"
      },
      "source": [
        "import matplotlib.pyplot as plt\r\n",
        "\r\n",
        "# 데이터\r\n",
        "x = list(range(1,11))           # x의 값（1～10）\r\n",
        "y = []\r\n",
        "for i in range(10):\r\n",
        "    y.append(3 * x[i] - 24)     # y = 3x - 24\r\n",
        "\r\n",
        "# 그래프\r\n",
        "plt.plot(x, y)\r\n",
        "plt.grid(color='0.8')\r\n",
        "plt.show()\r\n"
      ],
      "execution_count": null,
      "outputs": [
        {
          "output_type": "display_data",
          "data": {
            "image/png": "[encoded data removed]",
            "text/plain": [
              "<Figure size 432x288 with 1 Axes>"
            ]
          },
          "metadata": {
            "tags": [],
            "needs_background": "light"
          }
        }
      ]
    },
    {
      "cell_type": "markdown",
      "metadata": {
        "id": "O1mwienCnqL-"
      },
      "source": [
        "****"
      ]
    },
    {
      "cell_type": "markdown",
      "metadata": {
        "id": "4SVacTCMtHi2"
      },
      "source": [
        "##코드 3-3"
      ]
    },
    {
      "cell_type": "code",
      "metadata": {
        "colab": {
          "base_uri": "https://localhost:8080/",
          "height": 265
        },
        "id": "LD8DLumxtJ26",
        "outputId": "15a33ff6-932c-4dd8-a552-db8beb3abf88"
      },
      "source": [
        "import matplotlib.pyplot as plt\r\n",
        "import numpy as np\r\n",
        "\r\n",
        "# 데이터\r\n",
        "x = np.arange(-1.0, 1.01, 0.01)\r\n",
        "y = 3 * x  # 일차함수\r\n",
        "\r\n",
        "# 그래프를 그린다\r\n",
        "plt.plot(x, y)\r\n",
        "plt.grid(color='0.8')\r\n",
        "plt.show()\r\n"
      ],
      "execution_count": null,
      "outputs": [
        {
          "output_type": "display_data",
          "data": {
            "image/png": "[encoded data removed]",
            "text/plain": [
              "<Figure size 432x288 with 1 Axes>"
            ]
          },
          "metadata": {
            "tags": [],
            "needs_background": "light"
          }
        }
      ]
    },
    {
      "cell_type": "markdown",
      "metadata": {
        "id": "GGgVuV8PtM_j"
      },
      "source": [
        "**NumPy를 np라는 이름으로 임포트 한다. 그리고 x = np.arange(-1.0, 1.01, 0.01)는 x축의 값을 대입하는 명령이다. 다음 명령을 실행하면 배열 x에는 -1에서1 범위의 값이 0.01 간격으로 대입된다. arange 함수는 첫 번째 인자의 값은 포함하고, 두 번째 인자의 값은 포함하지 않으므로 범위 -1에서1로 지정하기 위해 두 번째 인자에는 1보다 0.01 큰 1.02을 전달한다.**"
      ]
    },
    {
      "cell_type": "markdown",
      "metadata": {
        "id": "ORpbCFnjuQnm"
      },
      "source": [
        "##코드 3-4"
      ]
    },
    {
      "cell_type": "code",
      "metadata": {
        "colab": {
          "base_uri": "https://localhost:8080/"
        },
        "id": "ZuYQA92nuSSZ",
        "outputId": "a009a01a-9f50-4819-cfd5-2eebe99aa6fd"
      },
      "source": [
        "from sympy import Symbol, solve\r\n",
        "\r\n",
        "# 식을 정의\r\n",
        "a = Symbol('a')\r\n",
        "b = Symbol('b')\r\n",
        "ex1 = a + b - 1\r\n",
        "ex2 = 5 * a + b - 3\r\n",
        "\r\n",
        "# 연립방정식 풀기\r\n",
        "print(solve((ex1, ex2)))\r\n"
      ],
      "execution_count": null,
      "outputs": [
        {
          "output_type": "stream",
          "text": [
            "{a: 1/2, b: 1/2}\n"
          ],
          "name": "stdout"
        }
      ]
    },
    {
      "cell_type": "markdown",
      "metadata": {
        "id": "BWb1S7bTuWhA"
      },
      "source": [
        "**첫째 행에서는 연립방정식을 풀기 위한 명령을 임포트한다. 이와 같이 쓰면 SymPy에 포함된 Symbol 클래스와 solve() 함수를 임포트 할 수 있다.**"
      ]
    },
    {
      "cell_type": "markdown",
      "metadata": {
        "id": "aRo9t9McuktE"
      },
      "source": [
        "#4. 벡터"
      ]
    },
    {
      "cell_type": "markdown",
      "metadata": {
        "id": "VlKOPJQovAnT"
      },
      "source": [
        "##코드 4-1"
      ]
    },
    {
      "cell_type": "code",
      "metadata": {
        "colab": {
          "base_uri": "https://localhost:8080/"
        },
        "id": "52YCWRzIuxoY",
        "outputId": "07fc58ba-bac1-4177-e876-916ef5711614"
      },
      "source": [
        "import math\r\n",
        "import numpy as np\r\n",
        "\r\n",
        "# 좌표\r\n",
        "a = np.array([2, 7])\r\n",
        "b = np.array([6, 1])\r\n",
        "c = np.array([2, 3])\r\n",
        "d = np.array([6, 5])\r\n",
        "\r\n",
        "# 벡터a와 벡터b의 성분\r\n",
        "va = b - a\r\n",
        "vb = d - c\r\n",
        "\r\n",
        "# 벡터의 크기\r\n",
        "norm_a = np.linalg.norm(va)\r\n",
        "norm_b = np.linalg.norm(vb)\r\n",
        "\r\n",
        "# 벡터의 내적\r\n",
        "dot_ab = np.dot(va, vb)\r\n",
        "\r\n",
        "# 각도 구하기\r\n",
        "cos_th = dot_ab / (norm_a * norm_b)\r\n",
        "rad = math.acos(cos_th)\r\n",
        "deg = math.degrees(rad)\r\n",
        "print(deg)\r\n"
      ],
      "execution_count": null,
      "outputs": [
        {
          "output_type": "stream",
          "text": [
            "82.8749836510982\n"
          ],
          "name": "stdout"
        }
      ]
    },
    {
      "cell_type": "markdown",
      "metadata": {
        "id": "bOVpzQpLvFLr"
      },
      "source": [
        "**#좌표에서는 좌표값을 NumPy 배열에 대입한다. #벡터 a와 벡터 b의 성분 에서는 벡터의 성분을 계산한다. NumPy 배열은 각 요소에 대해 연산할 수 있으므로 벡터를 계산할 때 편리하게 사용된다. #벡터의 크기 에서 나온linalg.norm() 함수는 벡터의 크기를 구하는 명령이다. 피타고라스 정리를 사용해 계산하는 것과 같은 역할을 한다. #각도 구하기 에서 나온 dot()함수는 벡터의 내적을 수하는 명령이다.**"
      ]
    }
  ]
}
